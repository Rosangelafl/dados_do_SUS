{
 "cells": [
  {
   "cell_type": "markdown",
   "metadata": {},
   "source": [
    "A saúde pública no Brasil é sempre alvo de debates e preocupações. Qual o tamanho de rede de saúde pública? E quantos médicos? Há verba? Quais os atendimentos que o SUS oferece e aonde estão? "
   ]
  },
  {
   "cell_type": "code",
   "execution_count": 1,
   "metadata": {},
   "outputs": [
    {
     "name": "stderr",
     "output_type": "stream",
     "text": [
      "\n",
      "Attaching package: 'dplyr'\n",
      "\n",
      "The following objects are masked from 'package:stats':\n",
      "\n",
      "    filter, lag\n",
      "\n",
      "The following objects are masked from 'package:base':\n",
      "\n",
      "    intersect, setdiff, setequal, union\n",
      "\n"
     ]
    }
   ],
   "source": [
    "library(dplyr)"
   ]
  },
  {
   "cell_type": "code",
   "execution_count": 2,
   "metadata": {},
   "outputs": [],
   "source": [
    "library(rmarkdown)"
   ]
  },
  {
   "cell_type": "code",
   "execution_count": 3,
   "metadata": {},
   "outputs": [
    {
     "name": "stderr",
     "output_type": "stream",
     "text": [
      "Warning message:\n",
      "\"unable to access index for repository http://www.stats.ox.ac.uk/pub/RWin/bin/windows/contrib/3.5:\n",
      "  não foi possível abrir a URL 'http://www.stats.ox.ac.uk/pub/RWin/bin/windows/contrib/3.5/PACKAGES'\""
     ]
    },
    {
     "name": "stdout",
     "output_type": "stream",
     "text": [
      "package 'rworldmap' successfully unpacked and MD5 sums checked\n",
      "\n",
      "The downloaded binary packages are in\n",
      "\tC:\\Users\\Rosangela\\AppData\\Local\\Temp\\RtmpERSwut\\downloaded_packages\n"
     ]
    }
   ],
   "source": [
    "install.packages('rworldmap')"
   ]
  },
  {
   "cell_type": "code",
   "execution_count": 4,
   "metadata": {},
   "outputs": [
    {
     "name": "stderr",
     "output_type": "stream",
     "text": [
      "Loading required package: sp\n",
      "### Welcome to rworldmap ###\n",
      "For a short introduction type : \t vignette('rworldmap')\n"
     ]
    }
   ],
   "source": [
    "library(rworldmap)"
   ]
  },
  {
   "cell_type": "code",
   "execution_count": 5,
   "metadata": {},
   "outputs": [
    {
     "name": "stderr",
     "output_type": "stream",
     "text": [
      "-- Attaching packages --------------------------------------- tidyverse 1.2.1 --\n",
      "v ggplot2 3.0.0     v readr   1.1.1\n",
      "v tibble  1.4.2     v purrr   0.2.5\n",
      "v tidyr   0.8.1     v stringr 1.3.1\n",
      "v ggplot2 3.0.0     v forcats 0.3.0\n",
      "-- Conflicts ------------------------------------------ tidyverse_conflicts() --\n",
      "x dplyr::filter() masks stats::filter()\n",
      "x dplyr::lag()    masks stats::lag()\n"
     ]
    }
   ],
   "source": [
    "library(tidyverse)"
   ]
  },
  {
   "cell_type": "code",
   "execution_count": 10,
   "metadata": {},
   "outputs": [],
   "source": [
    "#carregar dados do Brasil, estados, municípios, população referente aos últimos 20 anos. Os cálculos levam em conta natalidade, \n",
    "#mortalidade e migração populacional.\n",
    "\n",
    "brasil <- read.csv2('brazil-population-1998-2017.csv', header = TRUE, encoding='utf8')  "
   ]
  },
  {
   "cell_type": "code",
   "execution_count": 11,
   "metadata": {},
   "outputs": [
    {
     "data": {
      "text/html": [
       "<table>\n",
       "<thead><tr><th scope=col>code</th><th scope=col>city</th><th scope=col>state</th><th scope=col>abbreviation</th><th scope=col>region</th><th scope=col>lat</th><th scope=col>long</th><th scope=col>year</th><th scope=col>population</th></tr></thead>\n",
       "<tbody>\n",
       "\t<tr><td>110001               </td><td>Alta Floresta D'Oeste</td><td>RondÃ´nia            </td><td>RO                   </td><td>NORTE                </td><td>-11.9283             </td><td>-61.9953             </td><td>2014                 </td><td>25652                </td></tr>\n",
       "\t<tr><td>110001               </td><td>Alta Floresta D'Oeste</td><td>RondÃ´nia            </td><td>RO                   </td><td>NORTE                </td><td>-11.9283             </td><td>-61.9953             </td><td>2015                 </td><td>25578                </td></tr>\n",
       "\t<tr><td>110001               </td><td>Alta Floresta D'Oeste</td><td>RondÃ´nia            </td><td>RO                   </td><td>NORTE                </td><td>-11.9283             </td><td>-61.9953             </td><td>2011                 </td><td>24228                </td></tr>\n",
       "\t<tr><td>110001               </td><td>Alta Floresta D'Oeste</td><td>RondÃ´nia            </td><td>RO                   </td><td>NORTE                </td><td>-11.9283             </td><td>-61.9953             </td><td>2009                 </td><td>24354                </td></tr>\n",
       "\t<tr><td>110001               </td><td>Alta Floresta D'Oeste</td><td>RondÃ´nia            </td><td>RO                   </td><td>NORTE                </td><td>-11.9283             </td><td>-61.9953             </td><td>2006                 </td><td>29005                </td></tr>\n",
       "\t<tr><td>110001               </td><td>Alta Floresta D'Oeste</td><td>RondÃ´nia            </td><td>RO                   </td><td>NORTE                </td><td>-11.9283             </td><td>-61.9953             </td><td>2016                 </td><td>25506                </td></tr>\n",
       "</tbody>\n",
       "</table>\n"
      ],
      "text/latex": [
       "\\begin{tabular}{r|lllllllll}\n",
       " code & city & state & abbreviation & region & lat & long & year & population\\\\\n",
       "\\hline\n",
       "\t 110001                & Alta Floresta D'Oeste & RondÃ´nia             & RO                    & NORTE                 & -11.9283              & -61.9953              & 2014                  & 25652                \\\\\n",
       "\t 110001                & Alta Floresta D'Oeste & RondÃ´nia             & RO                    & NORTE                 & -11.9283              & -61.9953              & 2015                  & 25578                \\\\\n",
       "\t 110001                & Alta Floresta D'Oeste & RondÃ´nia             & RO                    & NORTE                 & -11.9283              & -61.9953              & 2011                  & 24228                \\\\\n",
       "\t 110001                & Alta Floresta D'Oeste & RondÃ´nia             & RO                    & NORTE                 & -11.9283              & -61.9953              & 2009                  & 24354                \\\\\n",
       "\t 110001                & Alta Floresta D'Oeste & RondÃ´nia             & RO                    & NORTE                 & -11.9283              & -61.9953              & 2006                  & 29005                \\\\\n",
       "\t 110001                & Alta Floresta D'Oeste & RondÃ´nia             & RO                    & NORTE                 & -11.9283              & -61.9953              & 2016                  & 25506                \\\\\n",
       "\\end{tabular}\n"
      ],
      "text/markdown": [
       "\n",
       "code | city | state | abbreviation | region | lat | long | year | population | \n",
       "|---|---|---|---|---|---|\n",
       "| 110001                | Alta Floresta D'Oeste | RondÃ´nia             | RO                    | NORTE                 | -11.9283              | -61.9953              | 2014                  | 25652                 | \n",
       "| 110001                | Alta Floresta D'Oeste | RondÃ´nia             | RO                    | NORTE                 | -11.9283              | -61.9953              | 2015                  | 25578                 | \n",
       "| 110001                | Alta Floresta D'Oeste | RondÃ´nia             | RO                    | NORTE                 | -11.9283              | -61.9953              | 2011                  | 24228                 | \n",
       "| 110001                | Alta Floresta D'Oeste | RondÃ´nia             | RO                    | NORTE                 | -11.9283              | -61.9953              | 2009                  | 24354                 | \n",
       "| 110001                | Alta Floresta D'Oeste | RondÃ´nia             | RO                    | NORTE                 | -11.9283              | -61.9953              | 2006                  | 29005                 | \n",
       "| 110001                | Alta Floresta D'Oeste | RondÃ´nia             | RO                    | NORTE                 | -11.9283              | -61.9953              | 2016                  | 25506                 | \n",
       "\n",
       "\n"
      ],
      "text/plain": [
       "  code   city                  state     abbreviation region lat      long    \n",
       "1 110001 Alta Floresta D'Oeste RondÃ´nia RO           NORTE  -11.9283 -61.9953\n",
       "2 110001 Alta Floresta D'Oeste RondÃ´nia RO           NORTE  -11.9283 -61.9953\n",
       "3 110001 Alta Floresta D'Oeste RondÃ´nia RO           NORTE  -11.9283 -61.9953\n",
       "4 110001 Alta Floresta D'Oeste RondÃ´nia RO           NORTE  -11.9283 -61.9953\n",
       "5 110001 Alta Floresta D'Oeste RondÃ´nia RO           NORTE  -11.9283 -61.9953\n",
       "6 110001 Alta Floresta D'Oeste RondÃ´nia RO           NORTE  -11.9283 -61.9953\n",
       "  year population\n",
       "1 2014 25652     \n",
       "2 2015 25578     \n",
       "3 2011 24228     \n",
       "4 2009 24354     \n",
       "5 2006 29005     \n",
       "6 2016 25506     "
      ]
     },
     "metadata": {},
     "output_type": "display_data"
    }
   ],
   "source": [
    "head(brasil)"
   ]
  },
  {
   "cell_type": "code",
   "execution_count": 10,
   "metadata": {},
   "outputs": [],
   "source": [
    "#codificacao <- locale(encoding = \"ASCII\")"
   ]
  },
  {
   "cell_type": "code",
   "execution_count": 11,
   "metadata": {},
   "outputs": [],
   "source": [
    "#brasil <- read_csv2('brazil-population-1998-2017.csv', locale = codificacao)"
   ]
  },
  {
   "cell_type": "code",
   "execution_count": 12,
   "metadata": {},
   "outputs": [],
   "source": [
    "brasil <- brasil %>%\n",
    "  filter(year == 2017) %>%\n",
    "  select(code, city, state, region, population) %>%\n",
    "  distinct()"
   ]
  },
  {
   "cell_type": "code",
   "execution_count": 13,
   "metadata": {},
   "outputs": [
    {
     "data": {
      "text/html": [
       "<table>\n",
       "<thead><tr><th scope=col>code</th><th scope=col>city</th><th scope=col>state</th><th scope=col>region</th><th scope=col>population</th></tr></thead>\n",
       "<tbody>\n",
       "\t<tr><td>110001               </td><td>Alta Floresta D'Oeste</td><td>RondÃ´nia            </td><td>NORTE                </td><td> 25437               </td></tr>\n",
       "\t<tr><td>110002               </td><td>Ariquemes            </td><td>RondÃ´nia            </td><td>NORTE                </td><td>107345               </td></tr>\n",
       "\t<tr><td>110003               </td><td>Cabixi               </td><td>RondÃ´nia            </td><td>NORTE                </td><td>  6224               </td></tr>\n",
       "\t<tr><td>110004               </td><td>Cacoal               </td><td>RondÃ´nia            </td><td>NORTE                </td><td> 88507               </td></tr>\n",
       "\t<tr><td>110005               </td><td>Cerejeiras           </td><td>RondÃ´nia            </td><td>NORTE                </td><td> 17934               </td></tr>\n",
       "\t<tr><td>110006               </td><td>Colorado do Oeste    </td><td>RondÃ´nia            </td><td>NORTE                </td><td> 18467               </td></tr>\n",
       "</tbody>\n",
       "</table>\n"
      ],
      "text/latex": [
       "\\begin{tabular}{r|lllll}\n",
       " code & city & state & region & population\\\\\n",
       "\\hline\n",
       "\t 110001                & Alta Floresta D'Oeste & RondÃ´nia             & NORTE                 &  25437               \\\\\n",
       "\t 110002                & Ariquemes             & RondÃ´nia             & NORTE                 & 107345               \\\\\n",
       "\t 110003                & Cabixi                & RondÃ´nia             & NORTE                 &   6224               \\\\\n",
       "\t 110004                & Cacoal                & RondÃ´nia             & NORTE                 &  88507               \\\\\n",
       "\t 110005                & Cerejeiras            & RondÃ´nia             & NORTE                 &  17934               \\\\\n",
       "\t 110006                & Colorado do Oeste     & RondÃ´nia             & NORTE                 &  18467               \\\\\n",
       "\\end{tabular}\n"
      ],
      "text/markdown": [
       "\n",
       "code | city | state | region | population | \n",
       "|---|---|---|---|---|---|\n",
       "| 110001                | Alta Floresta D'Oeste | RondÃ´nia             | NORTE                 |  25437                | \n",
       "| 110002                | Ariquemes             | RondÃ´nia             | NORTE                 | 107345                | \n",
       "| 110003                | Cabixi                | RondÃ´nia             | NORTE                 |   6224                | \n",
       "| 110004                | Cacoal                | RondÃ´nia             | NORTE                 |  88507                | \n",
       "| 110005                | Cerejeiras            | RondÃ´nia             | NORTE                 |  17934                | \n",
       "| 110006                | Colorado do Oeste     | RondÃ´nia             | NORTE                 |  18467                | \n",
       "\n",
       "\n"
      ],
      "text/plain": [
       "  code   city                  state     region population\n",
       "1 110001 Alta Floresta D'Oeste RondÃ´nia NORTE   25437    \n",
       "2 110002 Ariquemes             RondÃ´nia NORTE  107345    \n",
       "3 110003 Cabixi                RondÃ´nia NORTE    6224    \n",
       "4 110004 Cacoal                RondÃ´nia NORTE   88507    \n",
       "5 110005 Cerejeiras            RondÃ´nia NORTE   17934    \n",
       "6 110006 Colorado do Oeste     RondÃ´nia NORTE   18467    "
      ]
     },
     "metadata": {},
     "output_type": "display_data"
    }
   ],
   "source": [
    "head(brasil)"
   ]
  },
  {
   "cell_type": "code",
   "execution_count": 15,
   "metadata": {},
   "outputs": [],
   "source": [
    "write.csv2(brasil, 'brasil-2017.csv', row.names = FALSE)"
   ]
  },
  {
   "cell_type": "code",
   "execution_count": 16,
   "metadata": {},
   "outputs": [],
   "source": [
    "# estabelecimentos de saúde\n",
    "estabelecimentos <- read.csv2('tbEstabelecimento201809.csv', head=T, sep=';', dec=',', na='')"
   ]
  },
  {
   "cell_type": "code",
   "execution_count": 17,
   "metadata": {
    "scrolled": false
   },
   "outputs": [
    {
     "data": {
      "text/html": [
       "<table>\n",
       "<thead><tr><th scope=col>CO_UNIDADE</th><th scope=col>CO_CNES</th><th scope=col>NU_CNPJ_MANTENEDORA</th><th scope=col>TP_PFPJ</th><th scope=col>NIVEL_DEP</th><th scope=col>NO_RAZAO_SOCIAL</th><th scope=col>NO_FANTASIA</th><th scope=col>NO_LOGRADOURO</th><th scope=col>NU_ENDERECO</th><th scope=col>NO_COMPLEMENTO</th><th scope=col>...</th><th scope=col>TO_CHAR.DT_ATU_GEO..DD.MM.YYYY..</th><th scope=col>NO_USUARIO_GEO</th><th scope=col>CO_NATUREZA_JUR</th><th scope=col>TP_ESTAB_SEMPRE_ABERTO</th><th scope=col>ST_GERACREDITO_GERENTE_SGIF</th><th scope=col>ST_CONEXAO_INTERNET</th><th scope=col>CO_TIPO_UNIDADE</th><th scope=col>NO_FANTASIA_ABREV</th><th scope=col>TP_GESTAO</th><th scope=col>TO_CHAR.DT_ATUALIZACAO_ORIGEM..DD.MM.YYYY..</th></tr></thead>\n",
       "<tbody>\n",
       "\t<tr><td>2928707453280                                    </td><td>7453280                                          </td><td>1.382548e+13                                     </td><td>3                                                </td><td>3                                                </td><td>PREFEITURA MUNICIPAL DE SANTO ANTONIO DE JESUS   </td><td>POSTO DE SAUDE MINA DO SAPE                      </td><td>COMUNIDADE MINA DO SAPE                          </td><td>S/N                                              </td><td>CASA                                             </td><td>...                                              </td><td>NA                                               </td><td>NA                                               </td><td>1244                                             </td><td>NA                                               </td><td>NA                                               </td><td>N                                                </td><td>NA                                               </td><td>NA                                               </td><td>M                                                </td><td>03/04/2014                                       </td></tr>\n",
       "\t<tr><td>2301307450184                                    </td><td>7450184                                          </td><td>7.539984e+12                                     </td><td>3                                                </td><td>3                                                </td><td>PREFEITURA MUNICIPAL DE SAUDE                    </td><td>ACADEMIA DA SAUDE DE ARARIPE                     </td><td>AV ELISIO ALVES DE ALENCAR                       </td><td>S/N                                              </td><td>NA                                               </td><td>...                                              </td><td>04/09/2018                                       </td><td>0130ARA                                          </td><td>1244                                             </td><td>N                                                </td><td>NA                                               </td><td>S                                                </td><td>NA                                               </td><td>NA                                               </td><td>M                                                </td><td>02/04/2014                                       </td></tr>\n",
       "\t<tr><td>2307307462956                                    </td><td>7462956                                          </td><td>          NA                                     </td><td>1                                                </td><td>1                                                </td><td>CONSULTORIO DE PSICOLOGIA FLAVIA GONCALVES MACEDO</td><td>CONSULTORIO DE PSICOLOGIA FLAVIA GONCALVES MACEDO</td><td>RUA DA CONCEICAO                                 </td><td>818                                              </td><td>NA                                               </td><td>...                                              </td><td>27/12/2017                                       </td><td>GORETTI                                          </td><td>4000                                             </td><td>N                                                </td><td>NA                                               </td><td>S                                                </td><td>NA                                               </td><td>NA                                               </td><td>M                                                </td><td>02/04/2014                                       </td></tr>\n",
       "\t<tr><td>2313407462476                                    </td><td>7462476                                          </td><td>7.735178e+12                                     </td><td>3                                                </td><td>3                                                </td><td>PREFEITURA MUNICIPAL DE TIANGUA                  </td><td>U B S DA FAMILIA VALDO DOURADO NUNES             </td><td>SITIO ITAGUARUNA                                 </td><td>S/N                                              </td><td>NA                                               </td><td>...                                              </td><td>NA                                               </td><td>NA                                               </td><td>1244                                             </td><td>N                                                </td><td>NA                                               </td><td>N                                                </td><td>NA                                               </td><td>NA                                               </td><td>M                                                </td><td>02/04/2014                                       </td></tr>\n",
       "\t<tr><td>2510107416490                                    </td><td>7416490                                          </td><td>8.739625e+12                                     </td><td>3                                                </td><td>3                                                </td><td>PREFEITURA MUNICIPAL DE NOVA FLORESTA            </td><td>NUCLEO DE APOIO A SAUDE DA FAMILIA NASF 2        </td><td>RUA BENEDITO MARINHO                             </td><td>S/N                                              </td><td>NA                                               </td><td>...                                              </td><td>16/01/2018                                       </td><td>FCES                                             </td><td>1244                                             </td><td>N                                                </td><td>NA                                               </td><td>S                                                </td><td>NA                                               </td><td>NA                                               </td><td>M                                                </td><td>02/04/2014                                       </td></tr>\n",
       "\t<tr><td>2515937462123                                    </td><td>7462123                                          </td><td>1.612771e+12                                     </td><td>3                                                </td><td>3                                                </td><td>PREFEITURA MUNICIPAL DE SERTAOZINHO              </td><td>AMIGO DO PEITO DE SERTAOZINHO PB                 </td><td>RUA DIRSON ANDRADE                               </td><td>103                                              </td><td>NA                                               </td><td>...                                              </td><td>NA                                               </td><td>NA                                               </td><td>1244                                             </td><td>N                                                </td><td>NA                                               </td><td>N                                                </td><td>NA                                               </td><td>NA                                               </td><td>M                                                </td><td>02/04/2014                                       </td></tr>\n",
       "</tbody>\n",
       "</table>\n"
      ],
      "text/latex": [
       "\\begin{tabular}{r|lllllllllllllllllllllllllllllllllllllllllllllllllll}\n",
       " CO\\_UNIDADE & CO\\_CNES & NU\\_CNPJ\\_MANTENEDORA & TP\\_PFPJ & NIVEL\\_DEP & NO\\_RAZAO\\_SOCIAL & NO\\_FANTASIA & NO\\_LOGRADOURO & NU\\_ENDERECO & NO\\_COMPLEMENTO & ... & TO\\_CHAR.DT\\_ATU\\_GEO..DD.MM.YYYY.. & NO\\_USUARIO\\_GEO & CO\\_NATUREZA\\_JUR & TP\\_ESTAB\\_SEMPRE\\_ABERTO & ST\\_GERACREDITO\\_GERENTE\\_SGIF & ST\\_CONEXAO\\_INTERNET & CO\\_TIPO\\_UNIDADE & NO\\_FANTASIA\\_ABREV & TP\\_GESTAO & TO\\_CHAR.DT\\_ATUALIZACAO\\_ORIGEM..DD.MM.YYYY..\\\\\n",
       "\\hline\n",
       "\t 2928707453280                                     & 7453280                                           & 1.382548e+13                                      & 3                                                 & 3                                                 & PREFEITURA MUNICIPAL DE SANTO ANTONIO DE JESUS    & POSTO DE SAUDE MINA DO SAPE                       & COMUNIDADE MINA DO SAPE                           & S/N                                               & CASA                                              & ...                                               & NA                                                & NA                                                & 1244                                              & NA                                                & NA                                                & N                                                 & NA                                                & NA                                                & M                                                 & 03/04/2014                                       \\\\\n",
       "\t 2301307450184                                     & 7450184                                           & 7.539984e+12                                      & 3                                                 & 3                                                 & PREFEITURA MUNICIPAL DE SAUDE                     & ACADEMIA DA SAUDE DE ARARIPE                      & AV ELISIO ALVES DE ALENCAR                        & S/N                                               & NA                                                & ...                                               & 04/09/2018                                        & 0130ARA                                           & 1244                                              & N                                                 & NA                                                & S                                                 & NA                                                & NA                                                & M                                                 & 02/04/2014                                       \\\\\n",
       "\t 2307307462956                                     & 7462956                                           &           NA                                      & 1                                                 & 1                                                 & CONSULTORIO DE PSICOLOGIA FLAVIA GONCALVES MACEDO & CONSULTORIO DE PSICOLOGIA FLAVIA GONCALVES MACEDO & RUA DA CONCEICAO                                  & 818                                               & NA                                                & ...                                               & 27/12/2017                                        & GORETTI                                           & 4000                                              & N                                                 & NA                                                & S                                                 & NA                                                & NA                                                & M                                                 & 02/04/2014                                       \\\\\n",
       "\t 2313407462476                                     & 7462476                                           & 7.735178e+12                                      & 3                                                 & 3                                                 & PREFEITURA MUNICIPAL DE TIANGUA                   & U B S DA FAMILIA VALDO DOURADO NUNES              & SITIO ITAGUARUNA                                  & S/N                                               & NA                                                & ...                                               & NA                                                & NA                                                & 1244                                              & N                                                 & NA                                                & N                                                 & NA                                                & NA                                                & M                                                 & 02/04/2014                                       \\\\\n",
       "\t 2510107416490                                     & 7416490                                           & 8.739625e+12                                      & 3                                                 & 3                                                 & PREFEITURA MUNICIPAL DE NOVA FLORESTA             & NUCLEO DE APOIO A SAUDE DA FAMILIA NASF 2         & RUA BENEDITO MARINHO                              & S/N                                               & NA                                                & ...                                               & 16/01/2018                                        & FCES                                              & 1244                                              & N                                                 & NA                                                & S                                                 & NA                                                & NA                                                & M                                                 & 02/04/2014                                       \\\\\n",
       "\t 2515937462123                                     & 7462123                                           & 1.612771e+12                                      & 3                                                 & 3                                                 & PREFEITURA MUNICIPAL DE SERTAOZINHO               & AMIGO DO PEITO DE SERTAOZINHO PB                  & RUA DIRSON ANDRADE                                & 103                                               & NA                                                & ...                                               & NA                                                & NA                                                & 1244                                              & N                                                 & NA                                                & N                                                 & NA                                                & NA                                                & M                                                 & 02/04/2014                                       \\\\\n",
       "\\end{tabular}\n"
      ],
      "text/markdown": [
       "\n",
       "CO_UNIDADE | CO_CNES | NU_CNPJ_MANTENEDORA | TP_PFPJ | NIVEL_DEP | NO_RAZAO_SOCIAL | NO_FANTASIA | NO_LOGRADOURO | NU_ENDERECO | NO_COMPLEMENTO | ... | TO_CHAR.DT_ATU_GEO..DD.MM.YYYY.. | NO_USUARIO_GEO | CO_NATUREZA_JUR | TP_ESTAB_SEMPRE_ABERTO | ST_GERACREDITO_GERENTE_SGIF | ST_CONEXAO_INTERNET | CO_TIPO_UNIDADE | NO_FANTASIA_ABREV | TP_GESTAO | TO_CHAR.DT_ATUALIZACAO_ORIGEM..DD.MM.YYYY.. | \n",
       "|---|---|---|---|---|---|\n",
       "| 2928707453280                                     | 7453280                                           | 1.382548e+13                                      | 3                                                 | 3                                                 | PREFEITURA MUNICIPAL DE SANTO ANTONIO DE JESUS    | POSTO DE SAUDE MINA DO SAPE                       | COMUNIDADE MINA DO SAPE                           | S/N                                               | CASA                                              | ...                                               | NA                                                | NA                                                | 1244                                              | NA                                                | NA                                                | N                                                 | NA                                                | NA                                                | M                                                 | 03/04/2014                                        | \n",
       "| 2301307450184                                     | 7450184                                           | 7.539984e+12                                      | 3                                                 | 3                                                 | PREFEITURA MUNICIPAL DE SAUDE                     | ACADEMIA DA SAUDE DE ARARIPE                      | AV ELISIO ALVES DE ALENCAR                        | S/N                                               | NA                                                | ...                                               | 04/09/2018                                        | 0130ARA                                           | 1244                                              | N                                                 | NA                                                | S                                                 | NA                                                | NA                                                | M                                                 | 02/04/2014                                        | \n",
       "| 2307307462956                                     | 7462956                                           |           NA                                      | 1                                                 | 1                                                 | CONSULTORIO DE PSICOLOGIA FLAVIA GONCALVES MACEDO | CONSULTORIO DE PSICOLOGIA FLAVIA GONCALVES MACEDO | RUA DA CONCEICAO                                  | 818                                               | NA                                                | ...                                               | 27/12/2017                                        | GORETTI                                           | 4000                                              | N                                                 | NA                                                | S                                                 | NA                                                | NA                                                | M                                                 | 02/04/2014                                        | \n",
       "| 2313407462476                                     | 7462476                                           | 7.735178e+12                                      | 3                                                 | 3                                                 | PREFEITURA MUNICIPAL DE TIANGUA                   | U B S DA FAMILIA VALDO DOURADO NUNES              | SITIO ITAGUARUNA                                  | S/N                                               | NA                                                | ...                                               | NA                                                | NA                                                | 1244                                              | N                                                 | NA                                                | N                                                 | NA                                                | NA                                                | M                                                 | 02/04/2014                                        | \n",
       "| 2510107416490                                     | 7416490                                           | 8.739625e+12                                      | 3                                                 | 3                                                 | PREFEITURA MUNICIPAL DE NOVA FLORESTA             | NUCLEO DE APOIO A SAUDE DA FAMILIA NASF 2         | RUA BENEDITO MARINHO                              | S/N                                               | NA                                                | ...                                               | 16/01/2018                                        | FCES                                              | 1244                                              | N                                                 | NA                                                | S                                                 | NA                                                | NA                                                | M                                                 | 02/04/2014                                        | \n",
       "| 2515937462123                                     | 7462123                                           | 1.612771e+12                                      | 3                                                 | 3                                                 | PREFEITURA MUNICIPAL DE SERTAOZINHO               | AMIGO DO PEITO DE SERTAOZINHO PB                  | RUA DIRSON ANDRADE                                | 103                                               | NA                                                | ...                                               | NA                                                | NA                                                | 1244                                              | N                                                 | NA                                                | N                                                 | NA                                                | NA                                                | M                                                 | 02/04/2014                                        | \n",
       "\n",
       "\n"
      ],
      "text/plain": [
       "  CO_UNIDADE    CO_CNES NU_CNPJ_MANTENEDORA TP_PFPJ NIVEL_DEP\n",
       "1 2928707453280 7453280 1.382548e+13        3       3        \n",
       "2 2301307450184 7450184 7.539984e+12        3       3        \n",
       "3 2307307462956 7462956           NA        1       1        \n",
       "4 2313407462476 7462476 7.735178e+12        3       3        \n",
       "5 2510107416490 7416490 8.739625e+12        3       3        \n",
       "6 2515937462123 7462123 1.612771e+12        3       3        \n",
       "  NO_RAZAO_SOCIAL                                  \n",
       "1 PREFEITURA MUNICIPAL DE SANTO ANTONIO DE JESUS   \n",
       "2 PREFEITURA MUNICIPAL DE SAUDE                    \n",
       "3 CONSULTORIO DE PSICOLOGIA FLAVIA GONCALVES MACEDO\n",
       "4 PREFEITURA MUNICIPAL DE TIANGUA                  \n",
       "5 PREFEITURA MUNICIPAL DE NOVA FLORESTA            \n",
       "6 PREFEITURA MUNICIPAL DE SERTAOZINHO              \n",
       "  NO_FANTASIA                                       NO_LOGRADOURO             \n",
       "1 POSTO DE SAUDE MINA DO SAPE                       COMUNIDADE MINA DO SAPE   \n",
       "2 ACADEMIA DA SAUDE DE ARARIPE                      AV ELISIO ALVES DE ALENCAR\n",
       "3 CONSULTORIO DE PSICOLOGIA FLAVIA GONCALVES MACEDO RUA DA CONCEICAO          \n",
       "4 U B S DA FAMILIA VALDO DOURADO NUNES              SITIO ITAGUARUNA          \n",
       "5 NUCLEO DE APOIO A SAUDE DA FAMILIA NASF 2         RUA BENEDITO MARINHO      \n",
       "6 AMIGO DO PEITO DE SERTAOZINHO PB                  RUA DIRSON ANDRADE        \n",
       "  NU_ENDERECO NO_COMPLEMENTO ... TO_CHAR.DT_ATU_GEO..DD.MM.YYYY..\n",
       "1 S/N         CASA           ... NA                              \n",
       "2 S/N         NA             ... 04/09/2018                      \n",
       "3 818         NA             ... 27/12/2017                      \n",
       "4 S/N         NA             ... NA                              \n",
       "5 S/N         NA             ... 16/01/2018                      \n",
       "6 103         NA             ... NA                              \n",
       "  NO_USUARIO_GEO CO_NATUREZA_JUR TP_ESTAB_SEMPRE_ABERTO\n",
       "1 NA             1244            NA                    \n",
       "2 0130ARA        1244            N                     \n",
       "3 GORETTI        4000            N                     \n",
       "4 NA             1244            N                     \n",
       "5 FCES           1244            N                     \n",
       "6 NA             1244            N                     \n",
       "  ST_GERACREDITO_GERENTE_SGIF ST_CONEXAO_INTERNET CO_TIPO_UNIDADE\n",
       "1 NA                          N                   NA             \n",
       "2 NA                          S                   NA             \n",
       "3 NA                          S                   NA             \n",
       "4 NA                          N                   NA             \n",
       "5 NA                          S                   NA             \n",
       "6 NA                          N                   NA             \n",
       "  NO_FANTASIA_ABREV TP_GESTAO TO_CHAR.DT_ATUALIZACAO_ORIGEM..DD.MM.YYYY..\n",
       "1 NA                M         03/04/2014                                 \n",
       "2 NA                M         02/04/2014                                 \n",
       "3 NA                M         02/04/2014                                 \n",
       "4 NA                M         02/04/2014                                 \n",
       "5 NA                M         02/04/2014                                 \n",
       "6 NA                M         02/04/2014                                 "
      ]
     },
     "metadata": {},
     "output_type": "display_data"
    }
   ],
   "source": [
    "head(estabelecimentos)"
   ]
  },
  {
   "cell_type": "code",
   "execution_count": 18,
   "metadata": {},
   "outputs": [],
   "source": [
    "estabelecimentos_reduced <- subset(estabelecimentos, \n",
    "                                   select = c('CO_UNIDADE','CO_CNES', \n",
    "                                              'TP_UNIDADE', \n",
    "                                              'CO_MUNICIPIO_GESTOR', 'TP_GESTAO'))"
   ]
  },
  {
   "cell_type": "code",
   "execution_count": 19,
   "metadata": {},
   "outputs": [
    {
     "data": {
      "text/html": [
       "<table>\n",
       "<thead><tr><th scope=col>CO_UNIDADE</th><th scope=col>CO_CNES</th><th scope=col>TP_UNIDADE</th><th scope=col>CO_MUNICIPIO_GESTOR</th><th scope=col>TP_GESTAO</th></tr></thead>\n",
       "<tbody>\n",
       "\t<tr><td>2928707453280</td><td>7453280      </td><td> 1           </td><td>292870       </td><td>M            </td></tr>\n",
       "\t<tr><td>2301307450184</td><td>7450184      </td><td>74           </td><td>230130       </td><td>M            </td></tr>\n",
       "\t<tr><td>2307307462956</td><td>7462956      </td><td>22           </td><td>230730       </td><td>M            </td></tr>\n",
       "\t<tr><td>2313407462476</td><td>7462476      </td><td> 2           </td><td>231340       </td><td>M            </td></tr>\n",
       "\t<tr><td>2510107416490</td><td>7416490      </td><td>71           </td><td>251010       </td><td>M            </td></tr>\n",
       "\t<tr><td>2515937462123</td><td>7462123      </td><td>36           </td><td>251593       </td><td>M            </td></tr>\n",
       "</tbody>\n",
       "</table>\n"
      ],
      "text/latex": [
       "\\begin{tabular}{r|lllll}\n",
       " CO\\_UNIDADE & CO\\_CNES & TP\\_UNIDADE & CO\\_MUNICIPIO\\_GESTOR & TP\\_GESTAO\\\\\n",
       "\\hline\n",
       "\t 2928707453280 & 7453280       &  1            & 292870        & M            \\\\\n",
       "\t 2301307450184 & 7450184       & 74            & 230130        & M            \\\\\n",
       "\t 2307307462956 & 7462956       & 22            & 230730        & M            \\\\\n",
       "\t 2313407462476 & 7462476       &  2            & 231340        & M            \\\\\n",
       "\t 2510107416490 & 7416490       & 71            & 251010        & M            \\\\\n",
       "\t 2515937462123 & 7462123       & 36            & 251593        & M            \\\\\n",
       "\\end{tabular}\n"
      ],
      "text/markdown": [
       "\n",
       "CO_UNIDADE | CO_CNES | TP_UNIDADE | CO_MUNICIPIO_GESTOR | TP_GESTAO | \n",
       "|---|---|---|---|---|---|\n",
       "| 2928707453280 | 7453280       |  1            | 292870        | M             | \n",
       "| 2301307450184 | 7450184       | 74            | 230130        | M             | \n",
       "| 2307307462956 | 7462956       | 22            | 230730        | M             | \n",
       "| 2313407462476 | 7462476       |  2            | 231340        | M             | \n",
       "| 2510107416490 | 7416490       | 71            | 251010        | M             | \n",
       "| 2515937462123 | 7462123       | 36            | 251593        | M             | \n",
       "\n",
       "\n"
      ],
      "text/plain": [
       "  CO_UNIDADE    CO_CNES TP_UNIDADE CO_MUNICIPIO_GESTOR TP_GESTAO\n",
       "1 2928707453280 7453280  1         292870              M        \n",
       "2 2301307450184 7450184 74         230130              M        \n",
       "3 2307307462956 7462956 22         230730              M        \n",
       "4 2313407462476 7462476  2         231340              M        \n",
       "5 2510107416490 7416490 71         251010              M        \n",
       "6 2515937462123 7462123 36         251593              M        "
      ]
     },
     "metadata": {},
     "output_type": "display_data"
    }
   ],
   "source": [
    "head(estabelecimentos_reduced)"
   ]
  },
  {
   "cell_type": "code",
   "execution_count": 20,
   "metadata": {},
   "outputs": [],
   "source": [
    "#write.csv2(estabelecimentos, 'estabelecimentos_red.csv', row.names = FALSE)"
   ]
  },
  {
   "cell_type": "code",
   "execution_count": 21,
   "metadata": {},
   "outputs": [],
   "source": [
    "estabelecimentos_reduced <- merge(estabelecimentos_reduced, brasil, \n",
    "                                  by.x = 'CO_MUNICIPIO_GESTOR', \n",
    "                                  by.y='code', \n",
    "                                  all.x=TRUE)\n"
   ]
  },
  {
   "cell_type": "code",
   "execution_count": 22,
   "metadata": {},
   "outputs": [
    {
     "data": {
      "text/html": [
       "<table>\n",
       "<thead><tr><th scope=col>CO_MUNICIPIO_GESTOR</th><th scope=col>CO_UNIDADE</th><th scope=col>CO_CNES</th><th scope=col>TP_UNIDADE</th><th scope=col>TP_GESTAO</th><th scope=col>city</th><th scope=col>state</th><th scope=col>region</th><th scope=col>population</th></tr></thead>\n",
       "<tbody>\n",
       "\t<tr><td>110001               </td><td>1100017030908        </td><td>7030908              </td><td> 1                   </td><td>M                    </td><td>Alta Floresta D'Oeste</td><td>RondÃ´nia            </td><td>NORTE                </td><td>25437                </td></tr>\n",
       "\t<tr><td>110001               </td><td>1100012369966        </td><td>2369966              </td><td> 2                   </td><td>M                    </td><td>Alta Floresta D'Oeste</td><td>RondÃ´nia            </td><td>NORTE                </td><td>25437                </td></tr>\n",
       "\t<tr><td>110001               </td><td>1100013283577        </td><td>3283577              </td><td>70                   </td><td>M                    </td><td>Alta Floresta D'Oeste</td><td>RondÃ´nia            </td><td>NORTE                </td><td>25437                </td></tr>\n",
       "\t<tr><td>110001               </td><td>1100016348289        </td><td>6348289              </td><td>22                   </td><td>M                    </td><td>Alta Floresta D'Oeste</td><td>RondÃ´nia            </td><td>NORTE                </td><td>25437                </td></tr>\n",
       "\t<tr><td>110001               </td><td>1100012679477        </td><td>2679477              </td><td> 5                   </td><td>M                    </td><td>Alta Floresta D'Oeste</td><td>RondÃ´nia            </td><td>NORTE                </td><td>25437                </td></tr>\n",
       "\t<tr><td>110001               </td><td>1100012516500        </td><td>2516500              </td><td> 5                   </td><td>M                    </td><td>Alta Floresta D'Oeste</td><td>RondÃ´nia            </td><td>NORTE                </td><td>25437                </td></tr>\n",
       "</tbody>\n",
       "</table>\n"
      ],
      "text/latex": [
       "\\begin{tabular}{r|lllllllll}\n",
       " CO\\_MUNICIPIO\\_GESTOR & CO\\_UNIDADE & CO\\_CNES & TP\\_UNIDADE & TP\\_GESTAO & city & state & region & population\\\\\n",
       "\\hline\n",
       "\t 110001                & 1100017030908         & 7030908               &  1                    & M                     & Alta Floresta D'Oeste & RondÃ´nia             & NORTE                 & 25437                \\\\\n",
       "\t 110001                & 1100012369966         & 2369966               &  2                    & M                     & Alta Floresta D'Oeste & RondÃ´nia             & NORTE                 & 25437                \\\\\n",
       "\t 110001                & 1100013283577         & 3283577               & 70                    & M                     & Alta Floresta D'Oeste & RondÃ´nia             & NORTE                 & 25437                \\\\\n",
       "\t 110001                & 1100016348289         & 6348289               & 22                    & M                     & Alta Floresta D'Oeste & RondÃ´nia             & NORTE                 & 25437                \\\\\n",
       "\t 110001                & 1100012679477         & 2679477               &  5                    & M                     & Alta Floresta D'Oeste & RondÃ´nia             & NORTE                 & 25437                \\\\\n",
       "\t 110001                & 1100012516500         & 2516500               &  5                    & M                     & Alta Floresta D'Oeste & RondÃ´nia             & NORTE                 & 25437                \\\\\n",
       "\\end{tabular}\n"
      ],
      "text/markdown": [
       "\n",
       "CO_MUNICIPIO_GESTOR | CO_UNIDADE | CO_CNES | TP_UNIDADE | TP_GESTAO | city | state | region | population | \n",
       "|---|---|---|---|---|---|\n",
       "| 110001                | 1100017030908         | 7030908               |  1                    | M                     | Alta Floresta D'Oeste | RondÃ´nia             | NORTE                 | 25437                 | \n",
       "| 110001                | 1100012369966         | 2369966               |  2                    | M                     | Alta Floresta D'Oeste | RondÃ´nia             | NORTE                 | 25437                 | \n",
       "| 110001                | 1100013283577         | 3283577               | 70                    | M                     | Alta Floresta D'Oeste | RondÃ´nia             | NORTE                 | 25437                 | \n",
       "| 110001                | 1100016348289         | 6348289               | 22                    | M                     | Alta Floresta D'Oeste | RondÃ´nia             | NORTE                 | 25437                 | \n",
       "| 110001                | 1100012679477         | 2679477               |  5                    | M                     | Alta Floresta D'Oeste | RondÃ´nia             | NORTE                 | 25437                 | \n",
       "| 110001                | 1100012516500         | 2516500               |  5                    | M                     | Alta Floresta D'Oeste | RondÃ´nia             | NORTE                 | 25437                 | \n",
       "\n",
       "\n"
      ],
      "text/plain": [
       "  CO_MUNICIPIO_GESTOR CO_UNIDADE    CO_CNES TP_UNIDADE TP_GESTAO\n",
       "1 110001              1100017030908 7030908  1         M        \n",
       "2 110001              1100012369966 2369966  2         M        \n",
       "3 110001              1100013283577 3283577 70         M        \n",
       "4 110001              1100016348289 6348289 22         M        \n",
       "5 110001              1100012679477 2679477  5         M        \n",
       "6 110001              1100012516500 2516500  5         M        \n",
       "  city                  state     region population\n",
       "1 Alta Floresta D'Oeste RondÃ´nia NORTE  25437     \n",
       "2 Alta Floresta D'Oeste RondÃ´nia NORTE  25437     \n",
       "3 Alta Floresta D'Oeste RondÃ´nia NORTE  25437     \n",
       "4 Alta Floresta D'Oeste RondÃ´nia NORTE  25437     \n",
       "5 Alta Floresta D'Oeste RondÃ´nia NORTE  25437     \n",
       "6 Alta Floresta D'Oeste RondÃ´nia NORTE  25437     "
      ]
     },
     "metadata": {},
     "output_type": "display_data"
    }
   ],
   "source": [
    "head(estabelecimentos_reduced)"
   ]
  },
  {
   "cell_type": "code",
   "execution_count": 23,
   "metadata": {},
   "outputs": [],
   "source": [
    "write.csv2(estabelecimentos_reduced, 'unidades_saude_brasil.csv', row.names = FALSE)"
   ]
  },
  {
   "cell_type": "code",
   "execution_count": 24,
   "metadata": {},
   "outputs": [],
   "source": [
    "# código do tipo de gestão\n",
    "gestao <- read.csv2('tbGestao201809.csv', header = TRUE)"
   ]
  },
  {
   "cell_type": "code",
   "execution_count": 25,
   "metadata": {},
   "outputs": [
    {
     "data": {
      "text/html": [
       "<table>\n",
       "<thead><tr><th scope=col>CO_GESTAO</th><th scope=col>DS_GESTAO</th><th scope=col>TP_PROG</th></tr></thead>\n",
       "<tbody>\n",
       "\t<tr><td>1                 </td><td>ATENCAO BASICA    </td><td>1                 </td></tr>\n",
       "\t<tr><td>2                 </td><td>MEDIA COMPLEXIDADE</td><td>1                 </td></tr>\n",
       "\t<tr><td>3                 </td><td>INTERNACAO        </td><td>2                 </td></tr>\n",
       "\t<tr><td>4                 </td><td>ALTA COMPLEXIDADE </td><td>1                 </td></tr>\n",
       "\t<tr><td>5                 </td><td>MEDIA COMPLEXIDADE</td><td>2                 </td></tr>\n",
       "\t<tr><td>6                 </td><td>ALTA COMPLEXIDADE </td><td>2                 </td></tr>\n",
       "</tbody>\n",
       "</table>\n"
      ],
      "text/latex": [
       "\\begin{tabular}{r|lll}\n",
       " CO\\_GESTAO & DS\\_GESTAO & TP\\_PROG\\\\\n",
       "\\hline\n",
       "\t 1                  & ATENCAO BASICA     & 1                 \\\\\n",
       "\t 2                  & MEDIA COMPLEXIDADE & 1                 \\\\\n",
       "\t 3                  & INTERNACAO         & 2                 \\\\\n",
       "\t 4                  & ALTA COMPLEXIDADE  & 1                 \\\\\n",
       "\t 5                  & MEDIA COMPLEXIDADE & 2                 \\\\\n",
       "\t 6                  & ALTA COMPLEXIDADE  & 2                 \\\\\n",
       "\\end{tabular}\n"
      ],
      "text/markdown": [
       "\n",
       "CO_GESTAO | DS_GESTAO | TP_PROG | \n",
       "|---|---|---|---|---|---|\n",
       "| 1                  | ATENCAO BASICA     | 1                  | \n",
       "| 2                  | MEDIA COMPLEXIDADE | 1                  | \n",
       "| 3                  | INTERNACAO         | 2                  | \n",
       "| 4                  | ALTA COMPLEXIDADE  | 1                  | \n",
       "| 5                  | MEDIA COMPLEXIDADE | 2                  | \n",
       "| 6                  | ALTA COMPLEXIDADE  | 2                  | \n",
       "\n",
       "\n"
      ],
      "text/plain": [
       "  CO_GESTAO DS_GESTAO          TP_PROG\n",
       "1 1         ATENCAO BASICA     1      \n",
       "2 2         MEDIA COMPLEXIDADE 1      \n",
       "3 3         INTERNACAO         2      \n",
       "4 4         ALTA COMPLEXIDADE  1      \n",
       "5 5         MEDIA COMPLEXIDADE 2      \n",
       "6 6         ALTA COMPLEXIDADE  2      "
      ]
     },
     "metadata": {},
     "output_type": "display_data"
    }
   ],
   "source": [
    "head(gestao)"
   ]
  },
  {
   "cell_type": "code",
   "execution_count": 26,
   "metadata": {},
   "outputs": [],
   "source": [
    "estab_gestao <- read.csv2('rlEstabProgFundo201809.csv', header = TRUE)"
   ]
  },
  {
   "cell_type": "code",
   "execution_count": 28,
   "metadata": {},
   "outputs": [
    {
     "data": {
      "text/html": [
       "<table>\n",
       "<thead><tr><th scope=col>CO_UNIDADE</th><th scope=col>CO_ATIVIDADE</th><th scope=col>TP_ESTADUAL_MUNICIPAL</th><th scope=col>TO_CHAR.DT_ATUALIZACAO..DD.MM.YYYY..</th><th scope=col>CO_USUARIO</th><th scope=col>TO_CHAR.DT_ATUALIZACAO_ORIGEM..DD.MM.YYYY..</th></tr></thead>\n",
       "<tbody>\n",
       "\t<tr><td>4201709209662</td><td>0            </td><td>2            </td><td>08/09/2017   </td><td>SAUDE        </td><td>NA           </td></tr>\n",
       "\t<tr><td>3104809174745</td><td>0            </td><td>2            </td><td>18/10/2017   </td><td>SCNES        </td><td>NA           </td></tr>\n",
       "\t<tr><td>1502939210164</td><td>0            </td><td>2            </td><td>01/10/2018   </td><td>12345        </td><td>NA           </td></tr>\n",
       "\t<tr><td>5004309224769</td><td>0            </td><td>2            </td><td>02/02/2018   </td><td>SAUDE        </td><td>NA           </td></tr>\n",
       "\t<tr><td>5218309194819</td><td>0            </td><td>2            </td><td>29/04/2017   </td><td>CNESP        </td><td>NA           </td></tr>\n",
       "\t<tr><td>3107109237380</td><td>0            </td><td>2            </td><td>24/04/2018   </td><td>CLAUDIO      </td><td>NA           </td></tr>\n",
       "</tbody>\n",
       "</table>\n"
      ],
      "text/latex": [
       "\\begin{tabular}{r|llllll}\n",
       " CO\\_UNIDADE & CO\\_ATIVIDADE & TP\\_ESTADUAL\\_MUNICIPAL & TO\\_CHAR.DT\\_ATUALIZACAO..DD.MM.YYYY.. & CO\\_USUARIO & TO\\_CHAR.DT\\_ATUALIZACAO\\_ORIGEM..DD.MM.YYYY..\\\\\n",
       "\\hline\n",
       "\t 4201709209662 & 0             & 2             & 08/09/2017    & SAUDE         & NA           \\\\\n",
       "\t 3104809174745 & 0             & 2             & 18/10/2017    & SCNES         & NA           \\\\\n",
       "\t 1502939210164 & 0             & 2             & 01/10/2018    & 12345         & NA           \\\\\n",
       "\t 5004309224769 & 0             & 2             & 02/02/2018    & SAUDE         & NA           \\\\\n",
       "\t 5218309194819 & 0             & 2             & 29/04/2017    & CNESP         & NA           \\\\\n",
       "\t 3107109237380 & 0             & 2             & 24/04/2018    & CLAUDIO       & NA           \\\\\n",
       "\\end{tabular}\n"
      ],
      "text/markdown": [
       "\n",
       "CO_UNIDADE | CO_ATIVIDADE | TP_ESTADUAL_MUNICIPAL | TO_CHAR.DT_ATUALIZACAO..DD.MM.YYYY.. | CO_USUARIO | TO_CHAR.DT_ATUALIZACAO_ORIGEM..DD.MM.YYYY.. | \n",
       "|---|---|---|---|---|---|\n",
       "| 4201709209662 | 0             | 2             | 08/09/2017    | SAUDE         | NA            | \n",
       "| 3104809174745 | 0             | 2             | 18/10/2017    | SCNES         | NA            | \n",
       "| 1502939210164 | 0             | 2             | 01/10/2018    | 12345         | NA            | \n",
       "| 5004309224769 | 0             | 2             | 02/02/2018    | SAUDE         | NA            | \n",
       "| 5218309194819 | 0             | 2             | 29/04/2017    | CNESP         | NA            | \n",
       "| 3107109237380 | 0             | 2             | 24/04/2018    | CLAUDIO       | NA            | \n",
       "\n",
       "\n"
      ],
      "text/plain": [
       "  CO_UNIDADE    CO_ATIVIDADE TP_ESTADUAL_MUNICIPAL\n",
       "1 4201709209662 0            2                    \n",
       "2 3104809174745 0            2                    \n",
       "3 1502939210164 0            2                    \n",
       "4 5004309224769 0            2                    \n",
       "5 5218309194819 0            2                    \n",
       "6 3107109237380 0            2                    \n",
       "  TO_CHAR.DT_ATUALIZACAO..DD.MM.YYYY.. CO_USUARIO\n",
       "1 08/09/2017                           SAUDE     \n",
       "2 18/10/2017                           SCNES     \n",
       "3 01/10/2018                           12345     \n",
       "4 02/02/2018                           SAUDE     \n",
       "5 29/04/2017                           CNESP     \n",
       "6 24/04/2018                           CLAUDIO   \n",
       "  TO_CHAR.DT_ATUALIZACAO_ORIGEM..DD.MM.YYYY..\n",
       "1 NA                                         \n",
       "2 NA                                         \n",
       "3 NA                                         \n",
       "4 NA                                         \n",
       "5 NA                                         \n",
       "6 NA                                         "
      ]
     },
     "metadata": {},
     "output_type": "display_data"
    }
   ],
   "source": [
    "head(estab_gestao)"
   ]
  },
  {
   "cell_type": "code",
   "execution_count": 27,
   "metadata": {},
   "outputs": [],
   "source": [
    "lista_estabelecimentos_gestao <- estab_gestao %>%\n",
    "                                 select(CO_UNIDADE, CO_ATIVIDADE) %>%\n",
    "                                 mutate(CO_CNES = substr(CO_UNIDADE, 7, 13))"
   ]
  },
  {
   "cell_type": "code",
   "execution_count": 28,
   "metadata": {},
   "outputs": [
    {
     "data": {
      "text/html": [
       "<table>\n",
       "<thead><tr><th scope=col>CO_UNIDADE</th><th scope=col>CO_ATIVIDADE</th><th scope=col>CO_CNES</th></tr></thead>\n",
       "<tbody>\n",
       "\t<tr><td>4201709209662</td><td>0            </td><td>9209662      </td></tr>\n",
       "\t<tr><td>3104809174745</td><td>0            </td><td>9174745      </td></tr>\n",
       "\t<tr><td>1502939210164</td><td>0            </td><td>9210164      </td></tr>\n",
       "\t<tr><td>5004309224769</td><td>0            </td><td>9224769      </td></tr>\n",
       "\t<tr><td>5218309194819</td><td>0            </td><td>9194819      </td></tr>\n",
       "\t<tr><td>3107109237380</td><td>0            </td><td>9237380      </td></tr>\n",
       "</tbody>\n",
       "</table>\n"
      ],
      "text/latex": [
       "\\begin{tabular}{r|lll}\n",
       " CO\\_UNIDADE & CO\\_ATIVIDADE & CO\\_CNES\\\\\n",
       "\\hline\n",
       "\t 4201709209662 & 0             & 9209662      \\\\\n",
       "\t 3104809174745 & 0             & 9174745      \\\\\n",
       "\t 1502939210164 & 0             & 9210164      \\\\\n",
       "\t 5004309224769 & 0             & 9224769      \\\\\n",
       "\t 5218309194819 & 0             & 9194819      \\\\\n",
       "\t 3107109237380 & 0             & 9237380      \\\\\n",
       "\\end{tabular}\n"
      ],
      "text/markdown": [
       "\n",
       "CO_UNIDADE | CO_ATIVIDADE | CO_CNES | \n",
       "|---|---|---|---|---|---|\n",
       "| 4201709209662 | 0             | 9209662       | \n",
       "| 3104809174745 | 0             | 9174745       | \n",
       "| 1502939210164 | 0             | 9210164       | \n",
       "| 5004309224769 | 0             | 9224769       | \n",
       "| 5218309194819 | 0             | 9194819       | \n",
       "| 3107109237380 | 0             | 9237380       | \n",
       "\n",
       "\n"
      ],
      "text/plain": [
       "  CO_UNIDADE    CO_ATIVIDADE CO_CNES\n",
       "1 4201709209662 0            9209662\n",
       "2 3104809174745 0            9174745\n",
       "3 1502939210164 0            9210164\n",
       "4 5004309224769 0            9224769\n",
       "5 5218309194819 0            9194819\n",
       "6 3107109237380 0            9237380"
      ]
     },
     "metadata": {},
     "output_type": "display_data"
    }
   ],
   "source": [
    "head(lista_estabelecimentos_gestao)"
   ]
  },
  {
   "cell_type": "code",
   "execution_count": 35,
   "metadata": {},
   "outputs": [],
   "source": [
    "#estabelecimentos por nivel atencao\n",
    "\n",
    "estabelecimentos_nivel_atencao <- merge(estabelecimentos_reduced, \n",
    "                                        lista_estabelecimentos_gestao,\n",
    "                                        by = 'CO_CNES')"
   ]
  },
  {
   "cell_type": "code",
   "execution_count": 36,
   "metadata": {},
   "outputs": [
    {
     "data": {
      "text/html": [
       "<table>\n",
       "<thead><tr><th scope=col>CO_CNES</th><th scope=col>CO_MUNICIPIO_GESTOR</th><th scope=col>CO_UNIDADE.x</th><th scope=col>TP_UNIDADE</th><th scope=col>TP_GESTAO</th><th scope=col>city</th><th scope=col>state</th><th scope=col>region</th><th scope=col>population</th><th scope=col>CO_UNIDADE.y</th><th scope=col>CO_ATIVIDADE</th></tr></thead>\n",
       "<tbody>\n",
       "\t<tr><td>1000012          </td><td>431490           </td><td>4314901000012    </td><td>36               </td><td>M                </td><td>Porto Alegre     </td><td>Rio Grande do Sul</td><td>SUL              </td><td>1484941          </td><td>4314901000012    </td><td>2                </td></tr>\n",
       "\t<tr><td>1000667          </td><td>330455           </td><td>3304551000667    </td><td>22               </td><td>M                </td><td>Rio de Janeiro   </td><td>Rio de Janeiro   </td><td>SUDESTE          </td><td>6520266          </td><td>3304551000667    </td><td>2                </td></tr>\n",
       "\t<tr><td>1000675          </td><td>231270           </td><td>2312701000675    </td><td>22               </td><td>M                </td><td>Senador Pompeu   </td><td>CearÃ¡           </td><td>NORDESTE         </td><td>  26447          </td><td>2312701000675    </td><td>2                </td></tr>\n",
       "\t<tr><td>1000691          </td><td>330455           </td><td>3304551000691    </td><td>22               </td><td>M                </td><td>Rio de Janeiro   </td><td>Rio de Janeiro   </td><td>SUDESTE          </td><td>6520266          </td><td>3304551000691    </td><td>2                </td></tr>\n",
       "\t<tr><td>1000705          </td><td>330455           </td><td>3304551000705    </td><td>22               </td><td>M                </td><td>Rio de Janeiro   </td><td>Rio de Janeiro   </td><td>SUDESTE          </td><td>6520266          </td><td>3304551000705    </td><td>1                </td></tr>\n",
       "\t<tr><td>1000713          </td><td>330455           </td><td>3304551000713    </td><td>22               </td><td>M                </td><td>Rio de Janeiro   </td><td>Rio de Janeiro   </td><td>SUDESTE          </td><td>6520266          </td><td>3304551000713    </td><td>2                </td></tr>\n",
       "</tbody>\n",
       "</table>\n"
      ],
      "text/latex": [
       "\\begin{tabular}{r|lllllllllll}\n",
       " CO\\_CNES & CO\\_MUNICIPIO\\_GESTOR & CO\\_UNIDADE.x & TP\\_UNIDADE & TP\\_GESTAO & city & state & region & population & CO\\_UNIDADE.y & CO\\_ATIVIDADE\\\\\n",
       "\\hline\n",
       "\t 1000012           & 431490            & 4314901000012     & 36                & M                 & Porto Alegre      & Rio Grande do Sul & SUL               & 1484941           & 4314901000012     & 2                \\\\\n",
       "\t 1000667           & 330455            & 3304551000667     & 22                & M                 & Rio de Janeiro    & Rio de Janeiro    & SUDESTE           & 6520266           & 3304551000667     & 2                \\\\\n",
       "\t 1000675           & 231270            & 2312701000675     & 22                & M                 & Senador Pompeu    & CearÃ¡            & NORDESTE          &   26447           & 2312701000675     & 2                \\\\\n",
       "\t 1000691           & 330455            & 3304551000691     & 22                & M                 & Rio de Janeiro    & Rio de Janeiro    & SUDESTE           & 6520266           & 3304551000691     & 2                \\\\\n",
       "\t 1000705           & 330455            & 3304551000705     & 22                & M                 & Rio de Janeiro    & Rio de Janeiro    & SUDESTE           & 6520266           & 3304551000705     & 1                \\\\\n",
       "\t 1000713           & 330455            & 3304551000713     & 22                & M                 & Rio de Janeiro    & Rio de Janeiro    & SUDESTE           & 6520266           & 3304551000713     & 2                \\\\\n",
       "\\end{tabular}\n"
      ],
      "text/markdown": [
       "\n",
       "CO_CNES | CO_MUNICIPIO_GESTOR | CO_UNIDADE.x | TP_UNIDADE | TP_GESTAO | city | state | region | population | CO_UNIDADE.y | CO_ATIVIDADE | \n",
       "|---|---|---|---|---|---|\n",
       "| 1000012           | 431490            | 4314901000012     | 36                | M                 | Porto Alegre      | Rio Grande do Sul | SUL               | 1484941           | 4314901000012     | 2                 | \n",
       "| 1000667           | 330455            | 3304551000667     | 22                | M                 | Rio de Janeiro    | Rio de Janeiro    | SUDESTE           | 6520266           | 3304551000667     | 2                 | \n",
       "| 1000675           | 231270            | 2312701000675     | 22                | M                 | Senador Pompeu    | CearÃ¡            | NORDESTE          |   26447           | 2312701000675     | 2                 | \n",
       "| 1000691           | 330455            | 3304551000691     | 22                | M                 | Rio de Janeiro    | Rio de Janeiro    | SUDESTE           | 6520266           | 3304551000691     | 2                 | \n",
       "| 1000705           | 330455            | 3304551000705     | 22                | M                 | Rio de Janeiro    | Rio de Janeiro    | SUDESTE           | 6520266           | 3304551000705     | 1                 | \n",
       "| 1000713           | 330455            | 3304551000713     | 22                | M                 | Rio de Janeiro    | Rio de Janeiro    | SUDESTE           | 6520266           | 3304551000713     | 2                 | \n",
       "\n",
       "\n"
      ],
      "text/plain": [
       "  CO_CNES CO_MUNICIPIO_GESTOR CO_UNIDADE.x  TP_UNIDADE TP_GESTAO city          \n",
       "1 1000012 431490              4314901000012 36         M         Porto Alegre  \n",
       "2 1000667 330455              3304551000667 22         M         Rio de Janeiro\n",
       "3 1000675 231270              2312701000675 22         M         Senador Pompeu\n",
       "4 1000691 330455              3304551000691 22         M         Rio de Janeiro\n",
       "5 1000705 330455              3304551000705 22         M         Rio de Janeiro\n",
       "6 1000713 330455              3304551000713 22         M         Rio de Janeiro\n",
       "  state             region   population CO_UNIDADE.y  CO_ATIVIDADE\n",
       "1 Rio Grande do Sul SUL      1484941    4314901000012 2           \n",
       "2 Rio de Janeiro    SUDESTE  6520266    3304551000667 2           \n",
       "3 CearÃ¡            NORDESTE   26447    2312701000675 2           \n",
       "4 Rio de Janeiro    SUDESTE  6520266    3304551000691 2           \n",
       "5 Rio de Janeiro    SUDESTE  6520266    3304551000705 1           \n",
       "6 Rio de Janeiro    SUDESTE  6520266    3304551000713 2           "
      ]
     },
     "metadata": {},
     "output_type": "display_data"
    }
   ],
   "source": [
    "head(estabelecimentos_nivel_atencao)"
   ]
  },
  {
   "cell_type": "code",
   "execution_count": 37,
   "metadata": {},
   "outputs": [],
   "source": [
    "write.csv2(estabelecimentos_nivel_atencao, 'unidades_atencao.csv', row.names = FALSE)"
   ]
  },
  {
   "cell_type": "code",
   "execution_count": 38,
   "metadata": {},
   "outputs": [
    {
     "data": {
      "text/html": [
       "364627"
      ],
      "text/latex": [
       "364627"
      ],
      "text/markdown": [
       "364627"
      ],
      "text/plain": [
       "[1] 364627"
      ]
     },
     "metadata": {},
     "output_type": "display_data"
    }
   ],
   "source": [
    "length(unique(lista_estabelecimentos_gestao$CO_UNIDADE))"
   ]
  },
  {
   "cell_type": "code",
   "execution_count": 39,
   "metadata": {},
   "outputs": [],
   "source": [
    "estabelecimentos_nivel_atencao <- merge(estabelecimentos_nivel_atencao, \n",
    "                                        gestao,\n",
    "                                        by.x = 'CO_ATIVIDADE',\n",
    "                                        by.y = 'CO_GESTAO')"
   ]
  },
  {
   "cell_type": "code",
   "execution_count": 40,
   "metadata": {},
   "outputs": [
    {
     "data": {
      "text/html": [
       "<table>\n",
       "<thead><tr><th scope=col>CO_ATIVIDADE</th><th scope=col>CO_CNES</th><th scope=col>CO_MUNICIPIO_GESTOR</th><th scope=col>CO_UNIDADE.x</th><th scope=col>TP_UNIDADE</th><th scope=col>TP_GESTAO</th><th scope=col>city</th><th scope=col>state</th><th scope=col>region</th><th scope=col>population</th><th scope=col>CO_UNIDADE.y</th><th scope=col>DS_GESTAO</th><th scope=col>TP_PROG</th></tr></thead>\n",
       "<tbody>\n",
       "\t<tr><td>0                     </td><td>9224793               </td><td>420910                </td><td>4209109224793         </td><td>83                    </td><td>M                     </td><td>Joinville             </td><td>Santa Catarina        </td><td>SUL                   </td><td>  577077              </td><td>4209109224793         </td><td>NAO SE APLICA         </td><td>0                     </td></tr>\n",
       "\t<tr><td>0                     </td><td>9173781               </td><td>432320                </td><td>4323209173781         </td><td>39                    </td><td>E                     </td><td>Victor Graeff         </td><td>Rio Grande do Sul     </td><td>SUL                   </td><td>    3051              </td><td>4323209173781         </td><td>NAO SE APLICA         </td><td>0                     </td></tr>\n",
       "\t<tr><td>0                     </td><td>9367810               </td><td>354870                </td><td>3548709367810         </td><td>39                    </td><td>M                     </td><td>SÃ£o Bernardo do Campo</td><td>SÃ£o Paulo            </td><td>SUDESTE               </td><td>  827437              </td><td>3548709367810         </td><td>NAO SE APLICA         </td><td>0                     </td></tr>\n",
       "\t<tr><td>0                     </td><td>9449353               </td><td>355030                </td><td>3550309449353         </td><td>22                    </td><td>M                     </td><td>SÃ£o Paulo            </td><td>SÃ£o Paulo            </td><td>SUDESTE               </td><td>12106920              </td><td>3550309449353         </td><td>NAO SE APLICA         </td><td>0                     </td></tr>\n",
       "\t<tr><td>0                     </td><td>9200681               </td><td>421930                </td><td>4219309200681         </td><td>22                    </td><td>M                     </td><td>Videira               </td><td>Santa Catarina        </td><td>SUL                   </td><td>   52066              </td><td>4219309200681         </td><td>NAO SE APLICA         </td><td>0                     </td></tr>\n",
       "\t<tr><td>0                     </td><td>9516034               </td><td>500295                </td><td>5002959516034         </td><td>22                    </td><td>M                     </td><td>ChapadÃ£o do Sul      </td><td>Mato Grosso do Sul    </td><td>CENTRO OESTE          </td><td>   23940              </td><td>5002959516034         </td><td>NAO SE APLICA         </td><td>0                     </td></tr>\n",
       "</tbody>\n",
       "</table>\n"
      ],
      "text/latex": [
       "\\begin{tabular}{r|lllllllllllll}\n",
       " CO\\_ATIVIDADE & CO\\_CNES & CO\\_MUNICIPIO\\_GESTOR & CO\\_UNIDADE.x & TP\\_UNIDADE & TP\\_GESTAO & city & state & region & population & CO\\_UNIDADE.y & DS\\_GESTAO & TP\\_PROG\\\\\n",
       "\\hline\n",
       "\t 0                      & 9224793                & 420910                 & 4209109224793          & 83                     & M                      & Joinville              & Santa Catarina         & SUL                    &   577077               & 4209109224793          & NAO SE APLICA          & 0                     \\\\\n",
       "\t 0                      & 9173781                & 432320                 & 4323209173781          & 39                     & E                      & Victor Graeff          & Rio Grande do Sul      & SUL                    &     3051               & 4323209173781          & NAO SE APLICA          & 0                     \\\\\n",
       "\t 0                      & 9367810                & 354870                 & 3548709367810          & 39                     & M                      & SÃ£o Bernardo do Campo & SÃ£o Paulo             & SUDESTE                &   827437               & 3548709367810          & NAO SE APLICA          & 0                     \\\\\n",
       "\t 0                      & 9449353                & 355030                 & 3550309449353          & 22                     & M                      & SÃ£o Paulo             & SÃ£o Paulo             & SUDESTE                & 12106920               & 3550309449353          & NAO SE APLICA          & 0                     \\\\\n",
       "\t 0                      & 9200681                & 421930                 & 4219309200681          & 22                     & M                      & Videira                & Santa Catarina         & SUL                    &    52066               & 4219309200681          & NAO SE APLICA          & 0                     \\\\\n",
       "\t 0                      & 9516034                & 500295                 & 5002959516034          & 22                     & M                      & ChapadÃ£o do Sul       & Mato Grosso do Sul     & CENTRO OESTE           &    23940               & 5002959516034          & NAO SE APLICA          & 0                     \\\\\n",
       "\\end{tabular}\n"
      ],
      "text/markdown": [
       "\n",
       "CO_ATIVIDADE | CO_CNES | CO_MUNICIPIO_GESTOR | CO_UNIDADE.x | TP_UNIDADE | TP_GESTAO | city | state | region | population | CO_UNIDADE.y | DS_GESTAO | TP_PROG | \n",
       "|---|---|---|---|---|---|\n",
       "| 0                      | 9224793                | 420910                 | 4209109224793          | 83                     | M                      | Joinville              | Santa Catarina         | SUL                    |   577077               | 4209109224793          | NAO SE APLICA          | 0                      | \n",
       "| 0                      | 9173781                | 432320                 | 4323209173781          | 39                     | E                      | Victor Graeff          | Rio Grande do Sul      | SUL                    |     3051               | 4323209173781          | NAO SE APLICA          | 0                      | \n",
       "| 0                      | 9367810                | 354870                 | 3548709367810          | 39                     | M                      | SÃ£o Bernardo do Campo | SÃ£o Paulo             | SUDESTE                |   827437               | 3548709367810          | NAO SE APLICA          | 0                      | \n",
       "| 0                      | 9449353                | 355030                 | 3550309449353          | 22                     | M                      | SÃ£o Paulo             | SÃ£o Paulo             | SUDESTE                | 12106920               | 3550309449353          | NAO SE APLICA          | 0                      | \n",
       "| 0                      | 9200681                | 421930                 | 4219309200681          | 22                     | M                      | Videira                | Santa Catarina         | SUL                    |    52066               | 4219309200681          | NAO SE APLICA          | 0                      | \n",
       "| 0                      | 9516034                | 500295                 | 5002959516034          | 22                     | M                      | ChapadÃ£o do Sul       | Mato Grosso do Sul     | CENTRO OESTE           |    23940               | 5002959516034          | NAO SE APLICA          | 0                      | \n",
       "\n",
       "\n"
      ],
      "text/plain": [
       "  CO_ATIVIDADE CO_CNES CO_MUNICIPIO_GESTOR CO_UNIDADE.x  TP_UNIDADE TP_GESTAO\n",
       "1 0            9224793 420910              4209109224793 83         M        \n",
       "2 0            9173781 432320              4323209173781 39         E        \n",
       "3 0            9367810 354870              3548709367810 39         M        \n",
       "4 0            9449353 355030              3550309449353 22         M        \n",
       "5 0            9200681 421930              4219309200681 22         M        \n",
       "6 0            9516034 500295              5002959516034 22         M        \n",
       "  city                   state              region       population\n",
       "1 Joinville              Santa Catarina     SUL            577077  \n",
       "2 Victor Graeff          Rio Grande do Sul  SUL              3051  \n",
       "3 SÃ£o Bernardo do Campo SÃ£o Paulo         SUDESTE        827437  \n",
       "4 SÃ£o Paulo             SÃ£o Paulo         SUDESTE      12106920  \n",
       "5 Videira                Santa Catarina     SUL             52066  \n",
       "6 ChapadÃ£o do Sul       Mato Grosso do Sul CENTRO OESTE    23940  \n",
       "  CO_UNIDADE.y  DS_GESTAO     TP_PROG\n",
       "1 4209109224793 NAO SE APLICA 0      \n",
       "2 4323209173781 NAO SE APLICA 0      \n",
       "3 3548709367810 NAO SE APLICA 0      \n",
       "4 3550309449353 NAO SE APLICA 0      \n",
       "5 4219309200681 NAO SE APLICA 0      \n",
       "6 5002959516034 NAO SE APLICA 0      "
      ]
     },
     "metadata": {},
     "output_type": "display_data"
    }
   ],
   "source": [
    "head(estabelecimentos_nivel_atencao)"
   ]
  },
  {
   "cell_type": "code",
   "execution_count": 37,
   "metadata": {},
   "outputs": [],
   "source": [
    "#write.csv2(estabelecimentos_nivel_atencao, 'nivel_atencao.csv', row.names = FALSE)"
   ]
  },
  {
   "cell_type": "code",
   "execution_count": 41,
   "metadata": {},
   "outputs": [],
   "source": [
    "#estabelecimentos por nivel atencao sumarizado\n",
    "estabelecimentos_nivel_atencao_sumarizado <- estabelecimentos_nivel_atencao %>%\n",
    "                                             group_by(CO_CNES) %>%\n",
    "                                             summarise(total = n())"
   ]
  },
  {
   "cell_type": "code",
   "execution_count": 42,
   "metadata": {},
   "outputs": [
    {
     "data": {
      "text/html": [
       "<table>\n",
       "<thead><tr><th scope=col>n</th></tr></thead>\n",
       "<tbody>\n",
       "\t<tr><td>362445</td></tr>\n",
       "</tbody>\n",
       "</table>\n"
      ],
      "text/latex": [
       "\\begin{tabular}{r|l}\n",
       " n\\\\\n",
       "\\hline\n",
       "\t 362445\\\\\n",
       "\\end{tabular}\n"
      ],
      "text/markdown": [
       "\n",
       "n | \n",
       "|---|\n",
       "| 362445 | \n",
       "\n",
       "\n"
      ],
      "text/plain": [
       "  n     \n",
       "1 362445"
      ]
     },
     "metadata": {},
     "output_type": "display_data"
    }
   ],
   "source": [
    "count(estabelecimentos_nivel_atencao_sumarizado)"
   ]
  },
  {
   "cell_type": "code",
   "execution_count": 47,
   "metadata": {},
   "outputs": [],
   "source": [
    "lista_estab_ab <- estab_gestao %>%\n",
    "  filter(CO_ATIVIDADE == 1) %>%\n",
    "  select(CO_UNIDADE) %>%\n",
    "  mutate(CO_CNES = substr(CO_UNIDADE, 7, 13))"
   ]
  },
  {
   "cell_type": "code",
   "execution_count": 48,
   "metadata": {},
   "outputs": [
    {
     "data": {
      "text/html": [
       "<table>\n",
       "<thead><tr><th scope=col>CO_UNIDADE</th><th scope=col>CO_CNES</th></tr></thead>\n",
       "<tbody>\n",
       "\t<tr><td>2800303598691</td><td>3598691      </td></tr>\n",
       "\t<tr><td>2800303590860</td><td>3590860      </td></tr>\n",
       "\t<tr><td>2800303598098</td><td>3598098      </td></tr>\n",
       "\t<tr><td>2800303598136</td><td>3598136      </td></tr>\n",
       "\t<tr><td>3538703594653</td><td>3594653      </td></tr>\n",
       "\t<tr><td>3538703594688</td><td>3594688      </td></tr>\n",
       "</tbody>\n",
       "</table>\n"
      ],
      "text/latex": [
       "\\begin{tabular}{r|ll}\n",
       " CO\\_UNIDADE & CO\\_CNES\\\\\n",
       "\\hline\n",
       "\t 2800303598691 & 3598691      \\\\\n",
       "\t 2800303590860 & 3590860      \\\\\n",
       "\t 2800303598098 & 3598098      \\\\\n",
       "\t 2800303598136 & 3598136      \\\\\n",
       "\t 3538703594653 & 3594653      \\\\\n",
       "\t 3538703594688 & 3594688      \\\\\n",
       "\\end{tabular}\n"
      ],
      "text/markdown": [
       "\n",
       "CO_UNIDADE | CO_CNES | \n",
       "|---|---|---|---|---|---|\n",
       "| 2800303598691 | 3598691       | \n",
       "| 2800303590860 | 3590860       | \n",
       "| 2800303598098 | 3598098       | \n",
       "| 2800303598136 | 3598136       | \n",
       "| 3538703594653 | 3594653       | \n",
       "| 3538703594688 | 3594688       | \n",
       "\n",
       "\n"
      ],
      "text/plain": [
       "  CO_UNIDADE    CO_CNES\n",
       "1 2800303598691 3598691\n",
       "2 2800303590860 3590860\n",
       "3 2800303598098 3598098\n",
       "4 2800303598136 3598136\n",
       "5 3538703594653 3594653\n",
       "6 3538703594688 3594688"
      ]
     },
     "metadata": {},
     "output_type": "display_data"
    }
   ],
   "source": [
    "#paged_table(lista_estab_ab)\n",
    "head(lista_estab_ab)"
   ]
  },
  {
   "cell_type": "code",
   "execution_count": 42,
   "metadata": {},
   "outputs": [],
   "source": [
    "#write.csv2(lista_estab_ab, 'estab_ab.csv', row.names = FALSE)"
   ]
  },
  {
   "cell_type": "code",
   "execution_count": 51,
   "metadata": {},
   "outputs": [],
   "source": [
    "estabelecimentos_nivel_atencao_regiao <- estabelecimentos_nivel_atencao %>%\n",
    "  group_by(state, TP_UNIDADE) %>%\n",
    "  summarise(total = n())"
   ]
  },
  {
   "cell_type": "code",
   "execution_count": 52,
   "metadata": {},
   "outputs": [
    {
     "data": {
      "text/html": [
       "<table>\n",
       "<thead><tr><th scope=col>state</th><th scope=col>TP_UNIDADE</th><th scope=col>total</th></tr></thead>\n",
       "<tbody>\n",
       "\t<tr><td>Acre</td><td> 1  </td><td> 77 </td></tr>\n",
       "\t<tr><td>Acre</td><td> 2  </td><td>314 </td></tr>\n",
       "\t<tr><td>Acre</td><td> 4  </td><td> 19 </td></tr>\n",
       "\t<tr><td>Acre</td><td> 5  </td><td> 49 </td></tr>\n",
       "\t<tr><td>Acre</td><td> 7  </td><td> 13 </td></tr>\n",
       "\t<tr><td>Acre</td><td>15  </td><td> 30 </td></tr>\n",
       "</tbody>\n",
       "</table>\n"
      ],
      "text/latex": [
       "\\begin{tabular}{r|lll}\n",
       " state & TP\\_UNIDADE & total\\\\\n",
       "\\hline\n",
       "\t Acre &  1   &  77 \\\\\n",
       "\t Acre &  2   & 314 \\\\\n",
       "\t Acre &  4   &  19 \\\\\n",
       "\t Acre &  5   &  49 \\\\\n",
       "\t Acre &  7   &  13 \\\\\n",
       "\t Acre & 15   &  30 \\\\\n",
       "\\end{tabular}\n"
      ],
      "text/markdown": [
       "\n",
       "state | TP_UNIDADE | total | \n",
       "|---|---|---|---|---|---|\n",
       "| Acre |  1   |  77  | \n",
       "| Acre |  2   | 314  | \n",
       "| Acre |  4   |  19  | \n",
       "| Acre |  5   |  49  | \n",
       "| Acre |  7   |  13  | \n",
       "| Acre | 15   |  30  | \n",
       "\n",
       "\n"
      ],
      "text/plain": [
       "  state TP_UNIDADE total\n",
       "1 Acre   1          77  \n",
       "2 Acre   2         314  \n",
       "3 Acre   4          19  \n",
       "4 Acre   5          49  \n",
       "5 Acre   7          13  \n",
       "6 Acre  15          30  "
      ]
     },
     "metadata": {},
     "output_type": "display_data"
    }
   ],
   "source": [
    "head(estabelecimentos_nivel_atencao_regiao)"
   ]
  },
  {
   "cell_type": "code",
   "execution_count": 53,
   "metadata": {},
   "outputs": [],
   "source": [
    "write.csv2(estabelecimentos_nivel_atencao_regiao, 'estabel_estado.csv', row.names = FALSE)"
   ]
  },
  {
   "cell_type": "code",
   "execution_count": 54,
   "metadata": {},
   "outputs": [],
   "source": [
    "#recorte olhando apenas a Atenção Básica\n",
    "\n",
    "lista_estab_ab <- estab_gestao %>%\n",
    "  filter(CO_ATIVIDADE == 1) %>%\n",
    "  select(CO_UNIDADE) %>%\n",
    "  mutate(CO_CNES = substr(CO_UNIDADE, 7, 13))"
   ]
  },
  {
   "cell_type": "code",
   "execution_count": 55,
   "metadata": {},
   "outputs": [
    {
     "data": {
      "text/html": [
       "<table>\n",
       "<thead><tr><th scope=col>CO_UNIDADE</th><th scope=col>CO_CNES</th></tr></thead>\n",
       "<tbody>\n",
       "\t<tr><td>2800303598691</td><td>3598691      </td></tr>\n",
       "\t<tr><td>2800303590860</td><td>3590860      </td></tr>\n",
       "\t<tr><td>2800303598098</td><td>3598098      </td></tr>\n",
       "\t<tr><td>2800303598136</td><td>3598136      </td></tr>\n",
       "\t<tr><td>3538703594653</td><td>3594653      </td></tr>\n",
       "\t<tr><td>3538703594688</td><td>3594688      </td></tr>\n",
       "</tbody>\n",
       "</table>\n"
      ],
      "text/latex": [
       "\\begin{tabular}{r|ll}\n",
       " CO\\_UNIDADE & CO\\_CNES\\\\\n",
       "\\hline\n",
       "\t 2800303598691 & 3598691      \\\\\n",
       "\t 2800303590860 & 3590860      \\\\\n",
       "\t 2800303598098 & 3598098      \\\\\n",
       "\t 2800303598136 & 3598136      \\\\\n",
       "\t 3538703594653 & 3594653      \\\\\n",
       "\t 3538703594688 & 3594688      \\\\\n",
       "\\end{tabular}\n"
      ],
      "text/markdown": [
       "\n",
       "CO_UNIDADE | CO_CNES | \n",
       "|---|---|---|---|---|---|\n",
       "| 2800303598691 | 3598691       | \n",
       "| 2800303590860 | 3590860       | \n",
       "| 2800303598098 | 3598098       | \n",
       "| 2800303598136 | 3598136       | \n",
       "| 3538703594653 | 3594653       | \n",
       "| 3538703594688 | 3594688       | \n",
       "\n",
       "\n"
      ],
      "text/plain": [
       "  CO_UNIDADE    CO_CNES\n",
       "1 2800303598691 3598691\n",
       "2 2800303590860 3590860\n",
       "3 2800303598098 3598098\n",
       "4 2800303598136 3598136\n",
       "5 3538703594653 3594653\n",
       "6 3538703594688 3594688"
      ]
     },
     "metadata": {},
     "output_type": "display_data"
    }
   ],
   "source": [
    "head(lista_estab_ab)"
   ]
  },
  {
   "cell_type": "code",
   "execution_count": 56,
   "metadata": {},
   "outputs": [],
   "source": [
    "estabelecimentos_ab <- subset(estabelecimentos_reduced, \n",
    "                              estabelecimentos_reduced$CO_CNES %in% lista_estab_ab$CO_CNES)"
   ]
  },
  {
   "cell_type": "code",
   "execution_count": 57,
   "metadata": {},
   "outputs": [
    {
     "data": {
      "text/html": [
       "<table>\n",
       "<thead><tr><th></th><th scope=col>CO_MUNICIPIO_GESTOR</th><th scope=col>CO_UNIDADE</th><th scope=col>CO_CNES</th><th scope=col>TP_UNIDADE</th><th scope=col>TP_GESTAO</th><th scope=col>city</th><th scope=col>state</th><th scope=col>region</th><th scope=col>population</th></tr></thead>\n",
       "<tbody>\n",
       "\t<tr><th scope=row>1</th><td>110001               </td><td>1100017030908        </td><td>7030908              </td><td> 1                   </td><td>M                    </td><td>Alta Floresta D'Oeste</td><td>RondÃ´nia            </td><td>NORTE                </td><td>25437                </td></tr>\n",
       "\t<tr><th scope=row>2</th><td>110001               </td><td>1100012369966        </td><td>2369966              </td><td> 2                   </td><td>M                    </td><td>Alta Floresta D'Oeste</td><td>RondÃ´nia            </td><td>NORTE                </td><td>25437                </td></tr>\n",
       "\t<tr><th scope=row>3</th><td>110001               </td><td>1100013283577        </td><td>3283577              </td><td>70                   </td><td>M                    </td><td>Alta Floresta D'Oeste</td><td>RondÃ´nia            </td><td>NORTE                </td><td>25437                </td></tr>\n",
       "\t<tr><th scope=row>5</th><td>110001               </td><td>1100012679477        </td><td>2679477              </td><td> 5                   </td><td>M                    </td><td>Alta Floresta D'Oeste</td><td>RondÃ´nia            </td><td>NORTE                </td><td>25437                </td></tr>\n",
       "\t<tr><th scope=row>7</th><td>110001               </td><td>1100012497425        </td><td>2497425              </td><td> 1                   </td><td>M                    </td><td>Alta Floresta D'Oeste</td><td>RondÃ´nia            </td><td>NORTE                </td><td>25437                </td></tr>\n",
       "\t<tr><th scope=row>8</th><td>110001               </td><td>1100019390510        </td><td>9390510              </td><td>22                   </td><td>M                    </td><td>Alta Floresta D'Oeste</td><td>RondÃ´nia            </td><td>NORTE                </td><td>25437                </td></tr>\n",
       "</tbody>\n",
       "</table>\n"
      ],
      "text/latex": [
       "\\begin{tabular}{r|lllllllll}\n",
       "  & CO\\_MUNICIPIO\\_GESTOR & CO\\_UNIDADE & CO\\_CNES & TP\\_UNIDADE & TP\\_GESTAO & city & state & region & population\\\\\n",
       "\\hline\n",
       "\t1 & 110001                & 1100017030908         & 7030908               &  1                    & M                     & Alta Floresta D'Oeste & RondÃ´nia             & NORTE                 & 25437                \\\\\n",
       "\t2 & 110001                & 1100012369966         & 2369966               &  2                    & M                     & Alta Floresta D'Oeste & RondÃ´nia             & NORTE                 & 25437                \\\\\n",
       "\t3 & 110001                & 1100013283577         & 3283577               & 70                    & M                     & Alta Floresta D'Oeste & RondÃ´nia             & NORTE                 & 25437                \\\\\n",
       "\t5 & 110001                & 1100012679477         & 2679477               &  5                    & M                     & Alta Floresta D'Oeste & RondÃ´nia             & NORTE                 & 25437                \\\\\n",
       "\t7 & 110001                & 1100012497425         & 2497425               &  1                    & M                     & Alta Floresta D'Oeste & RondÃ´nia             & NORTE                 & 25437                \\\\\n",
       "\t8 & 110001                & 1100019390510         & 9390510               & 22                    & M                     & Alta Floresta D'Oeste & RondÃ´nia             & NORTE                 & 25437                \\\\\n",
       "\\end{tabular}\n"
      ],
      "text/markdown": [
       "\n",
       "| <!--/--> | CO_MUNICIPIO_GESTOR | CO_UNIDADE | CO_CNES | TP_UNIDADE | TP_GESTAO | city | state | region | population | \n",
       "|---|---|---|---|---|---|\n",
       "| 1 | 110001                | 1100017030908         | 7030908               |  1                    | M                     | Alta Floresta D'Oeste | RondÃ´nia             | NORTE                 | 25437                 | \n",
       "| 2 | 110001                | 1100012369966         | 2369966               |  2                    | M                     | Alta Floresta D'Oeste | RondÃ´nia             | NORTE                 | 25437                 | \n",
       "| 3 | 110001                | 1100013283577         | 3283577               | 70                    | M                     | Alta Floresta D'Oeste | RondÃ´nia             | NORTE                 | 25437                 | \n",
       "| 5 | 110001                | 1100012679477         | 2679477               |  5                    | M                     | Alta Floresta D'Oeste | RondÃ´nia             | NORTE                 | 25437                 | \n",
       "| 7 | 110001                | 1100012497425         | 2497425               |  1                    | M                     | Alta Floresta D'Oeste | RondÃ´nia             | NORTE                 | 25437                 | \n",
       "| 8 | 110001                | 1100019390510         | 9390510               | 22                    | M                     | Alta Floresta D'Oeste | RondÃ´nia             | NORTE                 | 25437                 | \n",
       "\n",
       "\n"
      ],
      "text/plain": [
       "  CO_MUNICIPIO_GESTOR CO_UNIDADE    CO_CNES TP_UNIDADE TP_GESTAO\n",
       "1 110001              1100017030908 7030908  1         M        \n",
       "2 110001              1100012369966 2369966  2         M        \n",
       "3 110001              1100013283577 3283577 70         M        \n",
       "5 110001              1100012679477 2679477  5         M        \n",
       "7 110001              1100012497425 2497425  1         M        \n",
       "8 110001              1100019390510 9390510 22         M        \n",
       "  city                  state     region population\n",
       "1 Alta Floresta D'Oeste RondÃ´nia NORTE  25437     \n",
       "2 Alta Floresta D'Oeste RondÃ´nia NORTE  25437     \n",
       "3 Alta Floresta D'Oeste RondÃ´nia NORTE  25437     \n",
       "5 Alta Floresta D'Oeste RondÃ´nia NORTE  25437     \n",
       "7 Alta Floresta D'Oeste RondÃ´nia NORTE  25437     \n",
       "8 Alta Floresta D'Oeste RondÃ´nia NORTE  25437     "
      ]
     },
     "metadata": {},
     "output_type": "display_data"
    }
   ],
   "source": [
    "head(estabelecimentos_ab)"
   ]
  },
  {
   "cell_type": "code",
   "execution_count": 58,
   "metadata": {},
   "outputs": [
    {
     "data": {
      "text/html": [
       "<table>\n",
       "<thead><tr><th scope=col>n</th></tr></thead>\n",
       "<tbody>\n",
       "\t<tr><td>160756</td></tr>\n",
       "</tbody>\n",
       "</table>\n"
      ],
      "text/latex": [
       "\\begin{tabular}{r|l}\n",
       " n\\\\\n",
       "\\hline\n",
       "\t 160756\\\\\n",
       "\\end{tabular}\n"
      ],
      "text/markdown": [
       "\n",
       "n | \n",
       "|---|\n",
       "| 160756 | \n",
       "\n",
       "\n"
      ],
      "text/plain": [
       "  n     \n",
       "1 160756"
      ]
     },
     "metadata": {},
     "output_type": "display_data"
    }
   ],
   "source": [
    "count(estabelecimentos_ab)"
   ]
  },
  {
   "cell_type": "code",
   "execution_count": 51,
   "metadata": {},
   "outputs": [],
   "source": [
    "write.csv2(estabelecimentos_ab, 'unidades_ab.csv', row.names = FALSE)"
   ]
  },
  {
   "cell_type": "code",
   "execution_count": 59,
   "metadata": {},
   "outputs": [],
   "source": [
    "#estabelecimentos_ab_regiao\n",
    "estabelecimentos_ab_regiao <- estabelecimentos_ab %>%\n",
    "  group_by(region) %>%\n",
    "  summarise(total = n())"
   ]
  },
  {
   "cell_type": "code",
   "execution_count": 60,
   "metadata": {},
   "outputs": [
    {
     "data": {
      "text/html": [
       "<table>\n",
       "<thead><tr><th scope=col>region</th><th scope=col>total</th></tr></thead>\n",
       "<tbody>\n",
       "\t<tr><td>CENTRO OESTE</td><td>13537       </td></tr>\n",
       "\t<tr><td>NORDESTE    </td><td>35859       </td></tr>\n",
       "\t<tr><td>NORTE       </td><td> 9591       </td></tr>\n",
       "\t<tr><td>SUDESTE     </td><td>68177       </td></tr>\n",
       "\t<tr><td>SUL         </td><td>33342       </td></tr>\n",
       "\t<tr><td>NA          </td><td>  250       </td></tr>\n",
       "</tbody>\n",
       "</table>\n"
      ],
      "text/latex": [
       "\\begin{tabular}{r|ll}\n",
       " region & total\\\\\n",
       "\\hline\n",
       "\t CENTRO OESTE & 13537       \\\\\n",
       "\t NORDESTE     & 35859       \\\\\n",
       "\t NORTE        &  9591       \\\\\n",
       "\t SUDESTE      & 68177       \\\\\n",
       "\t SUL          & 33342       \\\\\n",
       "\t NA           &   250       \\\\\n",
       "\\end{tabular}\n"
      ],
      "text/markdown": [
       "\n",
       "region | total | \n",
       "|---|---|---|---|---|---|\n",
       "| CENTRO OESTE | 13537        | \n",
       "| NORDESTE     | 35859        | \n",
       "| NORTE        |  9591        | \n",
       "| SUDESTE      | 68177        | \n",
       "| SUL          | 33342        | \n",
       "| NA           |   250        | \n",
       "\n",
       "\n"
      ],
      "text/plain": [
       "  region       total\n",
       "1 CENTRO OESTE 13537\n",
       "2 NORDESTE     35859\n",
       "3 NORTE         9591\n",
       "4 SUDESTE      68177\n",
       "5 SUL          33342\n",
       "6 NA             250"
      ]
     },
     "metadata": {},
     "output_type": "display_data"
    }
   ],
   "source": [
    "head(estabelecimentos_ab_regiao)"
   ]
  },
  {
   "cell_type": "code",
   "execution_count": 61,
   "metadata": {},
   "outputs": [],
   "source": [
    "estabelecimentos_ab_regiao <- estabelecimentos_ab %>%\n",
    "  group_by(city) %>%\n",
    "  summarise(total = n())"
   ]
  },
  {
   "cell_type": "code",
   "execution_count": 63,
   "metadata": {},
   "outputs": [
    {
     "data": {
      "text/html": [
       "<table>\n",
       "<thead><tr><th scope=col>city</th><th scope=col>total</th></tr></thead>\n",
       "<tbody>\n",
       "\t<tr><td>Ã‚ngulo            </td><td> 3                 </td></tr>\n",
       "\t<tr><td>Ã“bidos            </td><td>24                 </td></tr>\n",
       "\t<tr><td>Ã“leo              </td><td> 4                 </td></tr>\n",
       "\t<tr><td>Ã‰rico Cardoso     </td><td>12                 </td></tr>\n",
       "\t<tr><td>Ãgua Azul do Norte</td><td>14                 </td></tr>\n",
       "\t<tr><td>Ãgua Boa          </td><td>24                 </td></tr>\n",
       "</tbody>\n",
       "</table>\n"
      ],
      "text/latex": [
       "\\begin{tabular}{r|ll}\n",
       " city & total\\\\\n",
       "\\hline\n",
       "\t Ã‚ngulo             &  3                 \\\\\n",
       "\t Ã“bidos             & 24                 \\\\\n",
       "\t Ã“leo               &  4                 \\\\\n",
       "\t Ã‰rico Cardoso      & 12                 \\\\\n",
       "\t Ãgua Azul do Norte & 14                 \\\\\n",
       "\t Ãgua Boa           & 24                 \\\\\n",
       "\\end{tabular}\n"
      ],
      "text/markdown": [
       "\n",
       "city | total | \n",
       "|---|---|---|---|---|---|\n",
       "| Ã‚ngulo             |  3                  | \n",
       "| Ã“bidos             | 24                  | \n",
       "| Ã“leo               |  4                  | \n",
       "| Ã‰rico Cardoso      | 12                  | \n",
       "| Ãgua Azul do Norte | 14                  | \n",
       "| Ãgua Boa           | 24                  | \n",
       "\n",
       "\n"
      ],
      "text/plain": [
       "  city                total\n",
       "1 Ã‚ngulo              3   \n",
       "2 Ã“bidos             24   \n",
       "3 Ã“leo                4   \n",
       "4 Ã‰rico Cardoso      12   \n",
       "5 Ã\\201gua Azul do Norte 14   \n",
       "6 Ã\\201gua Boa           24   "
      ]
     },
     "metadata": {},
     "output_type": "display_data"
    }
   ],
   "source": [
    "head(estabelecimentos_ab_regiao)"
   ]
  },
  {
   "cell_type": "code",
   "execution_count": 64,
   "metadata": {},
   "outputs": [],
   "source": [
    "write.csv2(estabelecimentos_ab_regiao, 'atencao_basica_city.csv', row.names = FALSE)"
   ]
  },
  {
   "cell_type": "code",
   "execution_count": 65,
   "metadata": {},
   "outputs": [],
   "source": [
    "#estabelecimentos_ab_estado\n",
    "estabelecimentos_ab_estados <- estabelecimentos_ab %>%\n",
    "  group_by(state) %>%\n",
    "  summarise(total = n())"
   ]
  },
  {
   "cell_type": "code",
   "execution_count": 56,
   "metadata": {},
   "outputs": [
    {
     "data": {
      "text/html": [
       "<table>\n",
       "<thead><tr><th scope=col>state</th><th scope=col>total</th></tr></thead>\n",
       "<tbody>\n",
       "\t<tr><td>Acre    </td><td> 607    </td></tr>\n",
       "\t<tr><td>Alagoas </td><td>1737    </td></tr>\n",
       "\t<tr><td>AmapÃ¡  </td><td> 402    </td></tr>\n",
       "\t<tr><td>Amazonas</td><td>1521    </td></tr>\n",
       "\t<tr><td>Bahia   </td><td>9086    </td></tr>\n",
       "\t<tr><td>CearÃ¡  </td><td>3989    </td></tr>\n",
       "</tbody>\n",
       "</table>\n"
      ],
      "text/latex": [
       "\\begin{tabular}{r|ll}\n",
       " state & total\\\\\n",
       "\\hline\n",
       "\t Acre     &  607    \\\\\n",
       "\t Alagoas  & 1737    \\\\\n",
       "\t AmapÃ¡   &  402    \\\\\n",
       "\t Amazonas & 1521    \\\\\n",
       "\t Bahia    & 9086    \\\\\n",
       "\t CearÃ¡   & 3989    \\\\\n",
       "\\end{tabular}\n"
      ],
      "text/markdown": [
       "\n",
       "state | total | \n",
       "|---|---|---|---|---|---|\n",
       "| Acre     |  607     | \n",
       "| Alagoas  | 1737     | \n",
       "| AmapÃ¡   |  402     | \n",
       "| Amazonas | 1521     | \n",
       "| Bahia    | 9086     | \n",
       "| CearÃ¡   | 3989     | \n",
       "\n",
       "\n"
      ],
      "text/plain": [
       "  state    total\n",
       "1 Acre      607 \n",
       "2 Alagoas  1737 \n",
       "3 AmapÃ¡    402 \n",
       "4 Amazonas 1521 \n",
       "5 Bahia    9086 \n",
       "6 CearÃ¡   3989 "
      ]
     },
     "metadata": {},
     "output_type": "display_data"
    }
   ],
   "source": [
    "head(estabelecimentos_ab_estados)"
   ]
  },
  {
   "cell_type": "code",
   "execution_count": 66,
   "metadata": {},
   "outputs": [],
   "source": [
    "write.csv2(estabelecimentos_ab_estados, 'estados_ab.csv', row.names = FALSE)"
   ]
  },
  {
   "cell_type": "code",
   "execution_count": 67,
   "metadata": {},
   "outputs": [
    {
     "name": "stderr",
     "output_type": "stream",
     "text": [
      "Warning message in eval(expr, envir, enclos):\n",
      "\"NAs introduzidos por coerção\""
     ]
    }
   ],
   "source": [
    "#estabelecimentos lat_long\n",
    "estabelecimentos$NU_LONGITUDE <- as.numeric(as.character(estabelecimentos$NU_LONGITUDE))\n",
    "estabelecimentos$NU_LATITUDE <- as.numeric(as.character(estabelecimentos$NU_LATITUDE))"
   ]
  },
  {
   "cell_type": "code",
   "execution_count": 68,
   "metadata": {},
   "outputs": [
    {
     "data": {
      "text/plain": [
       "   Min. 1st Qu.  Median    Mean 3rd Qu.    Max.    NA's \n",
       " -72.90  -51.17  -47.87  -47.43  -43.74   57.39  278785 "
      ]
     },
     "metadata": {},
     "output_type": "display_data"
    },
    {
     "data": {
      "text/plain": [
       "   Min. 1st Qu.  Median    Mean 3rd Qu.    Max.    NA's \n",
       " -33.73  -23.91  -22.11  -20.04  -16.75   31.37  278785 "
      ]
     },
     "metadata": {},
     "output_type": "display_data"
    }
   ],
   "source": [
    "#estabelecimentos sumarizando lat_long\n",
    "summary(estabelecimentos$NU_LONGITUDE)\n",
    "summary(estabelecimentos$NU_LATITUDE)"
   ]
  },
  {
   "cell_type": "code",
   "execution_count": 69,
   "metadata": {},
   "outputs": [
    {
     "name": "stderr",
     "output_type": "stream",
     "text": [
      "Warning message:\n",
      "\"unable to access index for repository http://www.stats.ox.ac.uk/pub/RWin/bin/windows/contrib/3.5:\n",
      "  não foi possível abrir a URL 'http://www.stats.ox.ac.uk/pub/RWin/bin/windows/contrib/3.5/PACKAGES'\""
     ]
    },
    {
     "name": "stdout",
     "output_type": "stream",
     "text": [
      "package 'rworldxtra' successfully unpacked and MD5 sums checked\n",
      "\n",
      "The downloaded binary packages are in\n",
      "\tC:\\Users\\Rosangela\\AppData\\Local\\Temp\\RtmpERSwut\\downloaded_packages\n"
     ]
    }
   ],
   "source": [
    "install.packages('rworldxtra')"
   ]
  },
  {
   "cell_type": "code",
   "execution_count": 70,
   "metadata": {},
   "outputs": [],
   "source": [
    "library(rworldxtra)"
   ]
  },
  {
   "cell_type": "code",
   "execution_count": 71,
   "metadata": {},
   "outputs": [],
   "source": [
    "mapa_estabelecimentos <- getMap(resolution = 'high')"
   ]
  },
  {
   "cell_type": "code",
   "execution_count": 72,
   "metadata": {},
   "outputs": [
    {
     "data": {
      "image/png": "[encoded data removed]",
      "text/plain": [
       "plot without title"
      ]
     },
     "metadata": {},
     "output_type": "display_data"
    }
   ],
   "source": [
    "# recortando apenas o brasil\n",
    "plot(mapa_estabelecimentos,\n",
    "   xlim = c(-65, -55),\n",
    "   ylim = c(-35, 5),\n",
    "   asp = 1\n",
    ") \n",
    "\n",
    "points(estabelecimentos$NU_LONGITUDE, estabelecimentos$NU_LATITUDE, col = \"red\", cex = .8)"
   ]
  },
  {
   "cell_type": "code",
   "execution_count": 73,
   "metadata": {},
   "outputs": [],
   "source": [
    "write.csv2(mapa_estabelecimentos, 'mapa_ab.csv', row.names = FALSE)"
   ]
  },
  {
   "cell_type": "code",
   "execution_count": 74,
   "metadata": {},
   "outputs": [],
   "source": [
    "cobertura_ab <- read.csv2('cobertura_AB_2007_2018.csv', header = TRUE)"
   ]
  },
  {
   "cell_type": "code",
   "execution_count": 75,
   "metadata": {},
   "outputs": [
    {
     "data": {
      "text/html": [
       "<table>\n",
       "<thead><tr><th scope=col>Mes</th><th scope=col>Ano</th><th scope=col>UF</th><th scope=col>MunicÃ.pio</th><th scope=col>IBGE</th><th scope=col>PopulaÃ.Ã.o</th><th scope=col>NÂº.eSF</th><th scope=col>Estim..Pop..Cob..eSF</th><th scope=col>Cob..Pop..Estimada.eSF</th><th scope=col>CH.MÃ.dico.AB</th><th scope=col>CH.Enfermeiro.AB</th><th scope=col>NÂº.eSF.equivalente</th><th scope=col>NÂº.eAB.parametrizada</th><th scope=col>Estim..Pop..Cob..AB</th><th scope=col>Cob..Pop..Estimada.AB</th></tr></thead>\n",
       "<tbody>\n",
       "\t<tr><td>4              </td><td>2008           </td><td>AC             </td><td>ACRELÃ‚NDIA    </td><td>120001.0       </td><td>11.520         </td><td>5.0            </td><td>11.520         </td><td>100%           </td><td>20.0           </td><td>40.0           </td><td>0.33           </td><td>0.0            </td><td>11.520         </td><td>100%           </td></tr>\n",
       "\t<tr><td>4              </td><td>2008           </td><td>AC             </td><td>ASSIS BRASIL   </td><td>120005.0       </td><td>5.351          </td><td>2.0            </td><td>5.351          </td><td>100%           </td><td>0.0            </td><td>0.0            </td><td>0              </td><td>0.0            </td><td>5.351          </td><td>100%           </td></tr>\n",
       "\t<tr><td>4              </td><td>2008           </td><td>AC             </td><td>BRASILÃ‰IA     </td><td>120010.0       </td><td>19.065         </td><td>6.0            </td><td>19.065         </td><td>100%           </td><td>110.0          </td><td>120.0          </td><td>1.83           </td><td>0.0            </td><td>19.065         </td><td>100%           </td></tr>\n",
       "\t<tr><td>4              </td><td>2008           </td><td>AC             </td><td>BUJARI         </td><td>120013.0       </td><td>6.543          </td><td>1.0            </td><td>3.450          </td><td>52,73%         </td><td>40.0           </td><td>40.0           </td><td>0.66           </td><td>0.0            </td><td>5.430          </td><td>82,99%         </td></tr>\n",
       "\t<tr><td>4              </td><td>2008           </td><td>AC             </td><td>CAPIXABA       </td><td>120017.0       </td><td>8.446          </td><td>2.0            </td><td>6.900          </td><td>81,70%         </td><td>40.0           </td><td>0.0            </td><td>0              </td><td>0.0            </td><td>6.900          </td><td>81,70%         </td></tr>\n",
       "\t<tr><td>4              </td><td>2008           </td><td>AC             </td><td>CRUZEIRO DO SUL</td><td>120020.0       </td><td>73.948         </td><td>16.0           </td><td>55.200         </td><td>74,65%         </td><td>40.0           </td><td>80.0           </td><td>0.66           </td><td>0.0            </td><td>57.180         </td><td>77,32%         </td></tr>\n",
       "</tbody>\n",
       "</table>\n"
      ],
      "text/latex": [
       "\\begin{tabular}{r|lllllllllllllll}\n",
       " Mes & Ano & UF & MunicÃ.pio & IBGE & PopulaÃ.Ã.o & NÂº.eSF & Estim..Pop..Cob..eSF & Cob..Pop..Estimada.eSF & CH.MÃ.dico.AB & CH.Enfermeiro.AB & NÂº.eSF.equivalente & NÂº.eAB.parametrizada & Estim..Pop..Cob..AB & Cob..Pop..Estimada.AB\\\\\n",
       "\\hline\n",
       "\t 4               & 2008            & AC              & ACRELÃ‚NDIA     & 120001.0        & 11.520          & 5.0             & 11.520          & 100\\%          & 20.0            & 40.0            & 0.33            & 0.0             & 11.520          & 100\\%         \\\\\n",
       "\t 4               & 2008            & AC              & ASSIS BRASIL    & 120005.0        & 5.351           & 2.0             & 5.351           & 100\\%          & 0.0             & 0.0             & 0               & 0.0             & 5.351           & 100\\%         \\\\\n",
       "\t 4               & 2008            & AC              & BRASILÃ‰IA      & 120010.0        & 19.065          & 6.0             & 19.065          & 100\\%          & 110.0           & 120.0           & 1.83            & 0.0             & 19.065          & 100\\%         \\\\\n",
       "\t 4               & 2008            & AC              & BUJARI          & 120013.0        & 6.543           & 1.0             & 3.450           & 52,73\\%        & 40.0            & 40.0            & 0.66            & 0.0             & 5.430           & 82,99\\%       \\\\\n",
       "\t 4               & 2008            & AC              & CAPIXABA        & 120017.0        & 8.446           & 2.0             & 6.900           & 81,70\\%        & 40.0            & 0.0             & 0               & 0.0             & 6.900           & 81,70\\%       \\\\\n",
       "\t 4               & 2008            & AC              & CRUZEIRO DO SUL & 120020.0        & 73.948          & 16.0            & 55.200          & 74,65\\%        & 40.0            & 80.0            & 0.66            & 0.0             & 57.180          & 77,32\\%       \\\\\n",
       "\\end{tabular}\n"
      ],
      "text/markdown": [
       "\n",
       "Mes | Ano | UF | MunicÃ.pio | IBGE | PopulaÃ.Ã.o | NÂº.eSF | Estim..Pop..Cob..eSF | Cob..Pop..Estimada.eSF | CH.MÃ.dico.AB | CH.Enfermeiro.AB | NÂº.eSF.equivalente | NÂº.eAB.parametrizada | Estim..Pop..Cob..AB | Cob..Pop..Estimada.AB | \n",
       "|---|---|---|---|---|---|\n",
       "| 4               | 2008            | AC              | ACRELÃ‚NDIA     | 120001.0        | 11.520          | 5.0             | 11.520          | 100%            | 20.0            | 40.0            | 0.33            | 0.0             | 11.520          | 100%            | \n",
       "| 4               | 2008            | AC              | ASSIS BRASIL    | 120005.0        | 5.351           | 2.0             | 5.351           | 100%            | 0.0             | 0.0             | 0               | 0.0             | 5.351           | 100%            | \n",
       "| 4               | 2008            | AC              | BRASILÃ‰IA      | 120010.0        | 19.065          | 6.0             | 19.065          | 100%            | 110.0           | 120.0           | 1.83            | 0.0             | 19.065          | 100%            | \n",
       "| 4               | 2008            | AC              | BUJARI          | 120013.0        | 6.543           | 1.0             | 3.450           | 52,73%          | 40.0            | 40.0            | 0.66            | 0.0             | 5.430           | 82,99%          | \n",
       "| 4               | 2008            | AC              | CAPIXABA        | 120017.0        | 8.446           | 2.0             | 6.900           | 81,70%          | 40.0            | 0.0             | 0               | 0.0             | 6.900           | 81,70%          | \n",
       "| 4               | 2008            | AC              | CRUZEIRO DO SUL | 120020.0        | 73.948          | 16.0            | 55.200          | 74,65%          | 40.0            | 80.0            | 0.66            | 0.0             | 57.180          | 77,32%          | \n",
       "\n",
       "\n"
      ],
      "text/plain": [
       "  Mes Ano  UF MunicÃ.pio      IBGE     PopulaÃ.Ã.o NÂº.eSF Estim..Pop..Cob..eSF\n",
       "1 4   2008 AC ACRELÃ‚NDIA     120001.0 11.520      5.0     11.520              \n",
       "2 4   2008 AC ASSIS BRASIL    120005.0 5.351       2.0     5.351               \n",
       "3 4   2008 AC BRASILÃ‰IA      120010.0 19.065      6.0     19.065              \n",
       "4 4   2008 AC BUJARI          120013.0 6.543       1.0     3.450               \n",
       "5 4   2008 AC CAPIXABA        120017.0 8.446       2.0     6.900               \n",
       "6 4   2008 AC CRUZEIRO DO SUL 120020.0 73.948      16.0    55.200              \n",
       "  Cob..Pop..Estimada.eSF CH.MÃ.dico.AB CH.Enfermeiro.AB NÂº.eSF.equivalente\n",
       "1 100%                   20.0          40.0             0.33               \n",
       "2 100%                   0.0           0.0              0                  \n",
       "3 100%                   110.0         120.0            1.83               \n",
       "4 52,73%                 40.0          40.0             0.66               \n",
       "5 81,70%                 40.0          0.0              0                  \n",
       "6 74,65%                 40.0          80.0             0.66               \n",
       "  NÂº.eAB.parametrizada Estim..Pop..Cob..AB Cob..Pop..Estimada.AB\n",
       "1 0.0                   11.520              100%                 \n",
       "2 0.0                   5.351               100%                 \n",
       "3 0.0                   19.065              100%                 \n",
       "4 0.0                   5.430               82,99%               \n",
       "5 0.0                   6.900               81,70%               \n",
       "6 0.0                   57.180              77,32%               "
      ]
     },
     "metadata": {},
     "output_type": "display_data"
    }
   ],
   "source": [
    "head(cobertura_ab)"
   ]
  },
  {
   "cell_type": "code",
   "execution_count": 76,
   "metadata": {},
   "outputs": [],
   "source": [
    "cobertura_ab_reduced <- cobertura_ab %>%\n",
    "  filter(Ano == 2017 & Mes == 12) %>%\n",
    "  select(IBGE, UF, MunicÃ.pio, Cob..Pop..Estimada.AB)"
   ]
  },
  {
   "cell_type": "code",
   "execution_count": 77,
   "metadata": {},
   "outputs": [
    {
     "data": {
      "text/html": [
       "<table>\n",
       "<thead><tr><th scope=col>IBGE</th><th scope=col>UF</th><th scope=col>MunicÃ.pio</th><th scope=col>Cob..Pop..Estimada.AB</th></tr></thead>\n",
       "<tbody>\n",
       "\t<tr><td>120001.0       </td><td>AC             </td><td>ACRELÃ‚NDIA    </td><td>100%           </td></tr>\n",
       "\t<tr><td>120005.0       </td><td>AC             </td><td>ASSIS BRASIL   </td><td>100%           </td></tr>\n",
       "\t<tr><td>120010.0       </td><td>AC             </td><td>BRASILÃ‰IA     </td><td>100%           </td></tr>\n",
       "\t<tr><td>120013.0       </td><td>AC             </td><td>BUJARI         </td><td>100%           </td></tr>\n",
       "\t<tr><td>120017.0       </td><td>AC             </td><td>CAPIXABA       </td><td>100%           </td></tr>\n",
       "\t<tr><td>120020.0       </td><td>AC             </td><td>CRUZEIRO DO SUL</td><td>100%           </td></tr>\n",
       "</tbody>\n",
       "</table>\n"
      ],
      "text/latex": [
       "\\begin{tabular}{r|llll}\n",
       " IBGE & UF & MunicÃ.pio & Cob..Pop..Estimada.AB\\\\\n",
       "\\hline\n",
       "\t 120001.0        & AC              & ACRELÃ‚NDIA     & 100\\%         \\\\\n",
       "\t 120005.0        & AC              & ASSIS BRASIL    & 100\\%         \\\\\n",
       "\t 120010.0        & AC              & BRASILÃ‰IA      & 100\\%         \\\\\n",
       "\t 120013.0        & AC              & BUJARI          & 100\\%         \\\\\n",
       "\t 120017.0        & AC              & CAPIXABA        & 100\\%         \\\\\n",
       "\t 120020.0        & AC              & CRUZEIRO DO SUL & 100\\%         \\\\\n",
       "\\end{tabular}\n"
      ],
      "text/markdown": [
       "\n",
       "IBGE | UF | MunicÃ.pio | Cob..Pop..Estimada.AB | \n",
       "|---|---|---|---|---|---|\n",
       "| 120001.0        | AC              | ACRELÃ‚NDIA     | 100%            | \n",
       "| 120005.0        | AC              | ASSIS BRASIL    | 100%            | \n",
       "| 120010.0        | AC              | BRASILÃ‰IA      | 100%            | \n",
       "| 120013.0        | AC              | BUJARI          | 100%            | \n",
       "| 120017.0        | AC              | CAPIXABA        | 100%            | \n",
       "| 120020.0        | AC              | CRUZEIRO DO SUL | 100%            | \n",
       "\n",
       "\n"
      ],
      "text/plain": [
       "  IBGE     UF MunicÃ.pio      Cob..Pop..Estimada.AB\n",
       "1 120001.0 AC ACRELÃ‚NDIA     100%                 \n",
       "2 120005.0 AC ASSIS BRASIL    100%                 \n",
       "3 120010.0 AC BRASILÃ‰IA      100%                 \n",
       "4 120013.0 AC BUJARI          100%                 \n",
       "5 120017.0 AC CAPIXABA        100%                 \n",
       "6 120020.0 AC CRUZEIRO DO SUL 100%                 "
      ]
     },
     "metadata": {},
     "output_type": "display_data"
    }
   ],
   "source": [
    "head(cobertura_ab_reduced)"
   ]
  },
  {
   "cell_type": "code",
   "execution_count": 78,
   "metadata": {},
   "outputs": [],
   "source": [
    "names(cobertura_ab_reduced)[1] <- 'code'\n",
    "names(cobertura_ab_reduced)[2] <- 'pop_coberta_ab_percent'\n",
    "cobertura_ab_reduced$code <- substr(as.character(cobertura_ab_reduced$code),1,6)\n",
    "cobertura_ab_reduced$pop_coberta_ab_percent <- as.character(cobertura_ab_reduced$pop_coberta_ab_percent)\n",
    "cobertura_ab_reduced$pop_coberta_ab_percent <- gsub(\"%\", \"\", cobertura_ab_reduced$pop_coberta_ab_percent)\n",
    "cobertura_ab_reduced$pop_coberta_ab_percent <- gsub(\",\", \".\", cobertura_ab_reduced$pop_coberta_ab_percent)"
   ]
  },
  {
   "cell_type": "code",
   "execution_count": 79,
   "metadata": {},
   "outputs": [],
   "source": [
    "cobertura_brasil <- merge(brasil, cobertura_ab_reduced, by = 'code', all.x = TRUE)"
   ]
  },
  {
   "cell_type": "code",
   "execution_count": 80,
   "metadata": {},
   "outputs": [
    {
     "data": {
      "text/html": [
       "<table>\n",
       "<thead><tr><th scope=col>code</th><th scope=col>city</th><th scope=col>state</th><th scope=col>region</th><th scope=col>population</th><th scope=col>pop_coberta_ab_percent</th><th scope=col>MunicÃ.pio</th><th scope=col>Cob..Pop..Estimada.AB</th></tr></thead>\n",
       "<tbody>\n",
       "\t<tr><td>110001               </td><td>Alta Floresta D'Oeste</td><td>RondÃ´nia            </td><td>NORTE                </td><td> 25437               </td><td>RO                   </td><td>ALTA FLORESTA D'OESTE</td><td>67,63%               </td></tr>\n",
       "\t<tr><td>110002               </td><td>Ariquemes            </td><td>RondÃ´nia            </td><td>NORTE                </td><td>107345               </td><td>RO                   </td><td>ARIQUEMES            </td><td>66,72%               </td></tr>\n",
       "\t<tr><td>110003               </td><td>Cabixi               </td><td>RondÃ´nia            </td><td>NORTE                </td><td>  6224               </td><td>RO                   </td><td>CABIXI               </td><td>100%                 </td></tr>\n",
       "\t<tr><td>110004               </td><td>Cacoal               </td><td>RondÃ´nia            </td><td>NORTE                </td><td> 88507               </td><td>RO                   </td><td>CACOAL               </td><td>62,82%               </td></tr>\n",
       "\t<tr><td>110005               </td><td>Cerejeiras           </td><td>RondÃ´nia            </td><td>NORTE                </td><td> 17934               </td><td>RO                   </td><td>CEREJEIRAS           </td><td>96,05%               </td></tr>\n",
       "\t<tr><td>110006               </td><td>Colorado do Oeste    </td><td>RondÃ´nia            </td><td>NORTE                </td><td> 18467               </td><td>RO                   </td><td>COLORADO DO OESTE    </td><td>92,55%               </td></tr>\n",
       "</tbody>\n",
       "</table>\n"
      ],
      "text/latex": [
       "\\begin{tabular}{r|llllllll}\n",
       " code & city & state & region & population & pop\\_coberta\\_ab\\_percent & MunicÃ.pio & Cob..Pop..Estimada.AB\\\\\n",
       "\\hline\n",
       "\t 110001                & Alta Floresta D'Oeste & RondÃ´nia             & NORTE                 &  25437                & RO                    & ALTA FLORESTA D'OESTE & 67,63\\%             \\\\\n",
       "\t 110002                & Ariquemes             & RondÃ´nia             & NORTE                 & 107345                & RO                    & ARIQUEMES             & 66,72\\%             \\\\\n",
       "\t 110003                & Cabixi                & RondÃ´nia             & NORTE                 &   6224                & RO                    & CABIXI                & 100\\%               \\\\\n",
       "\t 110004                & Cacoal                & RondÃ´nia             & NORTE                 &  88507                & RO                    & CACOAL                & 62,82\\%             \\\\\n",
       "\t 110005                & Cerejeiras            & RondÃ´nia             & NORTE                 &  17934                & RO                    & CEREJEIRAS            & 96,05\\%             \\\\\n",
       "\t 110006                & Colorado do Oeste     & RondÃ´nia             & NORTE                 &  18467                & RO                    & COLORADO DO OESTE     & 92,55\\%             \\\\\n",
       "\\end{tabular}\n"
      ],
      "text/markdown": [
       "\n",
       "code | city | state | region | population | pop_coberta_ab_percent | MunicÃ.pio | Cob..Pop..Estimada.AB | \n",
       "|---|---|---|---|---|---|\n",
       "| 110001                | Alta Floresta D'Oeste | RondÃ´nia             | NORTE                 |  25437                | RO                    | ALTA FLORESTA D'OESTE | 67,63%                | \n",
       "| 110002                | Ariquemes             | RondÃ´nia             | NORTE                 | 107345                | RO                    | ARIQUEMES             | 66,72%                | \n",
       "| 110003                | Cabixi                | RondÃ´nia             | NORTE                 |   6224                | RO                    | CABIXI                | 100%                  | \n",
       "| 110004                | Cacoal                | RondÃ´nia             | NORTE                 |  88507                | RO                    | CACOAL                | 62,82%                | \n",
       "| 110005                | Cerejeiras            | RondÃ´nia             | NORTE                 |  17934                | RO                    | CEREJEIRAS            | 96,05%                | \n",
       "| 110006                | Colorado do Oeste     | RondÃ´nia             | NORTE                 |  18467                | RO                    | COLORADO DO OESTE     | 92,55%                | \n",
       "\n",
       "\n"
      ],
      "text/plain": [
       "  code   city                  state     region population\n",
       "1 110001 Alta Floresta D'Oeste RondÃ´nia NORTE   25437    \n",
       "2 110002 Ariquemes             RondÃ´nia NORTE  107345    \n",
       "3 110003 Cabixi                RondÃ´nia NORTE    6224    \n",
       "4 110004 Cacoal                RondÃ´nia NORTE   88507    \n",
       "5 110005 Cerejeiras            RondÃ´nia NORTE   17934    \n",
       "6 110006 Colorado do Oeste     RondÃ´nia NORTE   18467    \n",
       "  pop_coberta_ab_percent MunicÃ.pio            Cob..Pop..Estimada.AB\n",
       "1 RO                     ALTA FLORESTA D'OESTE 67,63%               \n",
       "2 RO                     ARIQUEMES             66,72%               \n",
       "3 RO                     CABIXI                100%                 \n",
       "4 RO                     CACOAL                62,82%               \n",
       "5 RO                     CEREJEIRAS            96,05%               \n",
       "6 RO                     COLORADO DO OESTE     92,55%               "
      ]
     },
     "metadata": {},
     "output_type": "display_data"
    }
   ],
   "source": [
    "head(cobertura_brasil)"
   ]
  },
  {
   "cell_type": "code",
   "execution_count": 81,
   "metadata": {},
   "outputs": [],
   "source": [
    "write.csv2(cobertura_brasil, 'brasil_cobertura.csv', row.names = FALSE)"
   ]
  },
  {
   "cell_type": "code",
   "execution_count": 82,
   "metadata": {},
   "outputs": [
    {
     "name": "stderr",
     "output_type": "stream",
     "text": [
      "Warning message in eval(expr, envir, enclos):\n",
      "\"NAs introduzidos por coerção\""
     ]
    }
   ],
   "source": [
    "cobertura_brasil$pop_coberta_ab_percent <- as.numeric(cobertura_brasil$pop_coberta_ab_percent)\n",
    "cobertura_brasil$pop_coberta_ab <- floor((cobertura_brasil$population*cobertura_brasil$pop_coberta_ab_percent)/100)"
   ]
  },
  {
   "cell_type": "code",
   "execution_count": 83,
   "metadata": {},
   "outputs": [
    {
     "data": {
      "text/html": [
       "<table>\n",
       "<thead><tr><th scope=col>code</th><th scope=col>city</th><th scope=col>state</th><th scope=col>region</th><th scope=col>population</th><th scope=col>pop_coberta_ab_percent</th><th scope=col>MunicÃ.pio</th><th scope=col>Cob..Pop..Estimada.AB</th><th scope=col>pop_coberta_ab</th></tr></thead>\n",
       "<tbody>\n",
       "\t<tr><td>110001               </td><td>Alta Floresta D'Oeste</td><td>RondÃ´nia            </td><td>NORTE                </td><td> 25437               </td><td>NA                   </td><td>ALTA FLORESTA D'OESTE</td><td>67,63%               </td><td>NA                   </td></tr>\n",
       "\t<tr><td>110002               </td><td>Ariquemes            </td><td>RondÃ´nia            </td><td>NORTE                </td><td>107345               </td><td>NA                   </td><td>ARIQUEMES            </td><td>66,72%               </td><td>NA                   </td></tr>\n",
       "\t<tr><td>110003               </td><td>Cabixi               </td><td>RondÃ´nia            </td><td>NORTE                </td><td>  6224               </td><td>NA                   </td><td>CABIXI               </td><td>100%                 </td><td>NA                   </td></tr>\n",
       "\t<tr><td>110004               </td><td>Cacoal               </td><td>RondÃ´nia            </td><td>NORTE                </td><td> 88507               </td><td>NA                   </td><td>CACOAL               </td><td>62,82%               </td><td>NA                   </td></tr>\n",
       "\t<tr><td>110005               </td><td>Cerejeiras           </td><td>RondÃ´nia            </td><td>NORTE                </td><td> 17934               </td><td>NA                   </td><td>CEREJEIRAS           </td><td>96,05%               </td><td>NA                   </td></tr>\n",
       "\t<tr><td>110006               </td><td>Colorado do Oeste    </td><td>RondÃ´nia            </td><td>NORTE                </td><td> 18467               </td><td>NA                   </td><td>COLORADO DO OESTE    </td><td>92,55%               </td><td>NA                   </td></tr>\n",
       "</tbody>\n",
       "</table>\n"
      ],
      "text/latex": [
       "\\begin{tabular}{r|lllllllll}\n",
       " code & city & state & region & population & pop\\_coberta\\_ab\\_percent & MunicÃ.pio & Cob..Pop..Estimada.AB & pop\\_coberta\\_ab\\\\\n",
       "\\hline\n",
       "\t 110001                & Alta Floresta D'Oeste & RondÃ´nia             & NORTE                 &  25437                & NA                    & ALTA FLORESTA D'OESTE & 67,63\\%              & NA                   \\\\\n",
       "\t 110002                & Ariquemes             & RondÃ´nia             & NORTE                 & 107345                & NA                    & ARIQUEMES             & 66,72\\%              & NA                   \\\\\n",
       "\t 110003                & Cabixi                & RondÃ´nia             & NORTE                 &   6224                & NA                    & CABIXI                & 100\\%                & NA                   \\\\\n",
       "\t 110004                & Cacoal                & RondÃ´nia             & NORTE                 &  88507                & NA                    & CACOAL                & 62,82\\%              & NA                   \\\\\n",
       "\t 110005                & Cerejeiras            & RondÃ´nia             & NORTE                 &  17934                & NA                    & CEREJEIRAS            & 96,05\\%              & NA                   \\\\\n",
       "\t 110006                & Colorado do Oeste     & RondÃ´nia             & NORTE                 &  18467                & NA                    & COLORADO DO OESTE     & 92,55\\%              & NA                   \\\\\n",
       "\\end{tabular}\n"
      ],
      "text/markdown": [
       "\n",
       "code | city | state | region | population | pop_coberta_ab_percent | MunicÃ.pio | Cob..Pop..Estimada.AB | pop_coberta_ab | \n",
       "|---|---|---|---|---|---|\n",
       "| 110001                | Alta Floresta D'Oeste | RondÃ´nia             | NORTE                 |  25437                | NA                    | ALTA FLORESTA D'OESTE | 67,63%                | NA                    | \n",
       "| 110002                | Ariquemes             | RondÃ´nia             | NORTE                 | 107345                | NA                    | ARIQUEMES             | 66,72%                | NA                    | \n",
       "| 110003                | Cabixi                | RondÃ´nia             | NORTE                 |   6224                | NA                    | CABIXI                | 100%                  | NA                    | \n",
       "| 110004                | Cacoal                | RondÃ´nia             | NORTE                 |  88507                | NA                    | CACOAL                | 62,82%                | NA                    | \n",
       "| 110005                | Cerejeiras            | RondÃ´nia             | NORTE                 |  17934                | NA                    | CEREJEIRAS            | 96,05%                | NA                    | \n",
       "| 110006                | Colorado do Oeste     | RondÃ´nia             | NORTE                 |  18467                | NA                    | COLORADO DO OESTE     | 92,55%                | NA                    | \n",
       "\n",
       "\n"
      ],
      "text/plain": [
       "  code   city                  state     region population\n",
       "1 110001 Alta Floresta D'Oeste RondÃ´nia NORTE   25437    \n",
       "2 110002 Ariquemes             RondÃ´nia NORTE  107345    \n",
       "3 110003 Cabixi                RondÃ´nia NORTE    6224    \n",
       "4 110004 Cacoal                RondÃ´nia NORTE   88507    \n",
       "5 110005 Cerejeiras            RondÃ´nia NORTE   17934    \n",
       "6 110006 Colorado do Oeste     RondÃ´nia NORTE   18467    \n",
       "  pop_coberta_ab_percent MunicÃ.pio            Cob..Pop..Estimada.AB\n",
       "1 NA                     ALTA FLORESTA D'OESTE 67,63%               \n",
       "2 NA                     ARIQUEMES             66,72%               \n",
       "3 NA                     CABIXI                100%                 \n",
       "4 NA                     CACOAL                62,82%               \n",
       "5 NA                     CEREJEIRAS            96,05%               \n",
       "6 NA                     COLORADO DO OESTE     92,55%               \n",
       "  pop_coberta_ab\n",
       "1 NA            \n",
       "2 NA            \n",
       "3 NA            \n",
       "4 NA            \n",
       "5 NA            \n",
       "6 NA            "
      ]
     },
     "metadata": {},
     "output_type": "display_data"
    }
   ],
   "source": [
    "head(cobertura_brasil)"
   ]
  },
  {
   "cell_type": "code",
   "execution_count": 84,
   "metadata": {},
   "outputs": [],
   "source": [
    "write.csv2(cobertura_brasil, 'cobertura_brasil.csv', row.names = FALSE)"
   ]
  },
  {
   "cell_type": "code",
   "execution_count": 85,
   "metadata": {},
   "outputs": [],
   "source": [
    "sih <- read.csv2('SIH-Brasil-0818.csv', header = TRUE)"
   ]
  },
  {
   "cell_type": "code",
   "execution_count": 86,
   "metadata": {},
   "outputs": [
    {
     "data": {
      "text/html": [
       "<table>\n",
       "<thead><tr><th scope=col>SP_GESTOR</th><th scope=col>SP_UF</th><th scope=col>SP_AA</th><th scope=col>SP_MM</th><th scope=col>SP_CNES</th><th scope=col>SP_NAIH</th><th scope=col>SP_PROCREA</th><th scope=col>SP_DTINTER</th><th scope=col>SP_DTSAIDA</th><th scope=col>SP_NUM_PR</th><th scope=col>...</th><th scope=col>SP_PF_DOC</th><th scope=col>SP_PJ_DOC</th><th scope=col>IN_TP_VAL</th><th scope=col>SEQUENCIA</th><th scope=col>REMESSA</th><th scope=col>SERV_CLA</th><th scope=col>SP_CIDPRI</th><th scope=col>SP_CIDSEC</th><th scope=col>SP_QT_PROC</th><th scope=col>SP_U_AIH</th></tr></thead>\n",
       "<tbody>\n",
       "\t<tr><td>110009               </td><td>11                   </td><td>2018                 </td><td>8                    </td><td>2808587              </td><td>1.118101e+12         </td><td>407030026            </td><td>20180815             </td><td>20180817             </td><td>NA                   </td><td>...                  </td><td>1.239041e+14         </td><td>2808587              </td><td>2                    </td><td>11                   </td><td>HM11000901N201808.DTS</td><td>0                    </td><td>K805                 </td><td>0                    </td><td>0                    </td><td>0                    </td></tr>\n",
       "\t<tr><td>110009               </td><td>11                   </td><td>2018                 </td><td>8                    </td><td>2808587              </td><td>1.118101e+12         </td><td>407030026            </td><td>20180815             </td><td>20180817             </td><td>NA                   </td><td>...                  </td><td>9.800160e+14         </td><td>2808587              </td><td>1                    </td><td>11                   </td><td>HM11000901N201808.DTS</td><td>0                    </td><td>K805                 </td><td>0                    </td><td>1                    </td><td>0                    </td></tr>\n",
       "\t<tr><td>110009               </td><td>11                   </td><td>2018                 </td><td>8                    </td><td>2808587              </td><td>1.118101e+12         </td><td>407030026            </td><td>20180815             </td><td>20180817             </td><td>NA                   </td><td>...                  </td><td>0.000000e+00         </td><td>2808587              </td><td>1                    </td><td>11                   </td><td>HM11000901N201808.DTS</td><td>0                    </td><td>K805                 </td><td>0                    </td><td>1                    </td><td>0                    </td></tr>\n",
       "\t<tr><td>110009               </td><td>11                   </td><td>2018                 </td><td>8                    </td><td>2808587              </td><td>1.118101e+12         </td><td>407030026            </td><td>20180815             </td><td>20180817             </td><td>NA                   </td><td>...                  </td><td>0.000000e+00         </td><td>2808587              </td><td>1                    </td><td>11                   </td><td>HM11000901N201808.DTS</td><td>0                    </td><td>K805                 </td><td>0                    </td><td>1                    </td><td>0                    </td></tr>\n",
       "\t<tr><td>110009               </td><td>11                   </td><td>2018                 </td><td>8                    </td><td>2808587              </td><td>1.118101e+12         </td><td>407030026            </td><td>20180815             </td><td>20180817             </td><td>NA                   </td><td>...                  </td><td>0.000000e+00         </td><td>2808587              </td><td>1                    </td><td>11                   </td><td>HM11000901N201808.DTS</td><td>0                    </td><td>K805                 </td><td>0                    </td><td>1                    </td><td>0                    </td></tr>\n",
       "\t<tr><td>110009               </td><td>11                   </td><td>2018                 </td><td>8                    </td><td>2808587              </td><td>1.118101e+12         </td><td>407040145            </td><td>20180817             </td><td>20180818             </td><td>NA                   </td><td>...                  </td><td>9.800163e+14         </td><td>2808587              </td><td>2                    </td><td>12                   </td><td>HM11000901N201808.DTS</td><td>0                    </td><td>K409                 </td><td>0                    </td><td>0                    </td><td>1                    </td></tr>\n",
       "</tbody>\n",
       "</table>\n"
      ],
      "text/latex": [
       "\\begin{tabular}{r|llllllllllllllllllllllllllllllllllll}\n",
       " SP\\_GESTOR & SP\\_UF & SP\\_AA & SP\\_MM & SP\\_CNES & SP\\_NAIH & SP\\_PROCREA & SP\\_DTINTER & SP\\_DTSAIDA & SP\\_NUM\\_PR & ... & SP\\_PF\\_DOC & SP\\_PJ\\_DOC & IN\\_TP\\_VAL & SEQUENCIA & REMESSA & SERV\\_CLA & SP\\_CIDPRI & SP\\_CIDSEC & SP\\_QT\\_PROC & SP\\_U\\_AIH\\\\\n",
       "\\hline\n",
       "\t 110009                & 11                    & 2018                  & 8                     & 2808587               & 1.118101e+12          & 407030026             & 20180815              & 20180817              & NA                    & ...                   & 1.239041e+14          & 2808587               & 2                     & 11                    & HM11000901N201808.DTS & 0                     & K805                  & 0                     & 0                     & 0                    \\\\\n",
       "\t 110009                & 11                    & 2018                  & 8                     & 2808587               & 1.118101e+12          & 407030026             & 20180815              & 20180817              & NA                    & ...                   & 9.800160e+14          & 2808587               & 1                     & 11                    & HM11000901N201808.DTS & 0                     & K805                  & 0                     & 1                     & 0                    \\\\\n",
       "\t 110009                & 11                    & 2018                  & 8                     & 2808587               & 1.118101e+12          & 407030026             & 20180815              & 20180817              & NA                    & ...                   & 0.000000e+00          & 2808587               & 1                     & 11                    & HM11000901N201808.DTS & 0                     & K805                  & 0                     & 1                     & 0                    \\\\\n",
       "\t 110009                & 11                    & 2018                  & 8                     & 2808587               & 1.118101e+12          & 407030026             & 20180815              & 20180817              & NA                    & ...                   & 0.000000e+00          & 2808587               & 1                     & 11                    & HM11000901N201808.DTS & 0                     & K805                  & 0                     & 1                     & 0                    \\\\\n",
       "\t 110009                & 11                    & 2018                  & 8                     & 2808587               & 1.118101e+12          & 407030026             & 20180815              & 20180817              & NA                    & ...                   & 0.000000e+00          & 2808587               & 1                     & 11                    & HM11000901N201808.DTS & 0                     & K805                  & 0                     & 1                     & 0                    \\\\\n",
       "\t 110009                & 11                    & 2018                  & 8                     & 2808587               & 1.118101e+12          & 407040145             & 20180817              & 20180818              & NA                    & ...                   & 9.800163e+14          & 2808587               & 2                     & 12                    & HM11000901N201808.DTS & 0                     & K409                  & 0                     & 0                     & 1                    \\\\\n",
       "\\end{tabular}\n"
      ],
      "text/markdown": [
       "\n",
       "SP_GESTOR | SP_UF | SP_AA | SP_MM | SP_CNES | SP_NAIH | SP_PROCREA | SP_DTINTER | SP_DTSAIDA | SP_NUM_PR | ... | SP_PF_DOC | SP_PJ_DOC | IN_TP_VAL | SEQUENCIA | REMESSA | SERV_CLA | SP_CIDPRI | SP_CIDSEC | SP_QT_PROC | SP_U_AIH | \n",
       "|---|---|---|---|---|---|\n",
       "| 110009                | 11                    | 2018                  | 8                     | 2808587               | 1.118101e+12          | 407030026             | 20180815              | 20180817              | NA                    | ...                   | 1.239041e+14          | 2808587               | 2                     | 11                    | HM11000901N201808.DTS | 0                     | K805                  | 0                     | 0                     | 0                     | \n",
       "| 110009                | 11                    | 2018                  | 8                     | 2808587               | 1.118101e+12          | 407030026             | 20180815              | 20180817              | NA                    | ...                   | 9.800160e+14          | 2808587               | 1                     | 11                    | HM11000901N201808.DTS | 0                     | K805                  | 0                     | 1                     | 0                     | \n",
       "| 110009                | 11                    | 2018                  | 8                     | 2808587               | 1.118101e+12          | 407030026             | 20180815              | 20180817              | NA                    | ...                   | 0.000000e+00          | 2808587               | 1                     | 11                    | HM11000901N201808.DTS | 0                     | K805                  | 0                     | 1                     | 0                     | \n",
       "| 110009                | 11                    | 2018                  | 8                     | 2808587               | 1.118101e+12          | 407030026             | 20180815              | 20180817              | NA                    | ...                   | 0.000000e+00          | 2808587               | 1                     | 11                    | HM11000901N201808.DTS | 0                     | K805                  | 0                     | 1                     | 0                     | \n",
       "| 110009                | 11                    | 2018                  | 8                     | 2808587               | 1.118101e+12          | 407030026             | 20180815              | 20180817              | NA                    | ...                   | 0.000000e+00          | 2808587               | 1                     | 11                    | HM11000901N201808.DTS | 0                     | K805                  | 0                     | 1                     | 0                     | \n",
       "| 110009                | 11                    | 2018                  | 8                     | 2808587               | 1.118101e+12          | 407040145             | 20180817              | 20180818              | NA                    | ...                   | 9.800163e+14          | 2808587               | 2                     | 12                    | HM11000901N201808.DTS | 0                     | K409                  | 0                     | 0                     | 1                     | \n",
       "\n",
       "\n"
      ],
      "text/plain": [
       "  SP_GESTOR SP_UF SP_AA SP_MM SP_CNES SP_NAIH      SP_PROCREA SP_DTINTER\n",
       "1 110009    11    2018  8     2808587 1.118101e+12 407030026  20180815  \n",
       "2 110009    11    2018  8     2808587 1.118101e+12 407030026  20180815  \n",
       "3 110009    11    2018  8     2808587 1.118101e+12 407030026  20180815  \n",
       "4 110009    11    2018  8     2808587 1.118101e+12 407030026  20180815  \n",
       "5 110009    11    2018  8     2808587 1.118101e+12 407030026  20180815  \n",
       "6 110009    11    2018  8     2808587 1.118101e+12 407040145  20180817  \n",
       "  SP_DTSAIDA SP_NUM_PR ... SP_PF_DOC    SP_PJ_DOC IN_TP_VAL SEQUENCIA\n",
       "1 20180817   NA        ... 1.239041e+14 2808587   2         11       \n",
       "2 20180817   NA        ... 9.800160e+14 2808587   1         11       \n",
       "3 20180817   NA        ... 0.000000e+00 2808587   1         11       \n",
       "4 20180817   NA        ... 0.000000e+00 2808587   1         11       \n",
       "5 20180817   NA        ... 0.000000e+00 2808587   1         11       \n",
       "6 20180818   NA        ... 9.800163e+14 2808587   2         12       \n",
       "  REMESSA               SERV_CLA SP_CIDPRI SP_CIDSEC SP_QT_PROC SP_U_AIH\n",
       "1 HM11000901N201808.DTS 0        K805      0         0          0       \n",
       "2 HM11000901N201808.DTS 0        K805      0         1          0       \n",
       "3 HM11000901N201808.DTS 0        K805      0         1          0       \n",
       "4 HM11000901N201808.DTS 0        K805      0         1          0       \n",
       "5 HM11000901N201808.DTS 0        K805      0         1          0       \n",
       "6 HM11000901N201808.DTS 0        K409      0         0          1       "
      ]
     },
     "metadata": {},
     "output_type": "display_data"
    }
   ],
   "source": [
    "head(sih)"
   ]
  },
  {
   "cell_type": "code",
   "execution_count": 87,
   "metadata": {},
   "outputs": [],
   "source": [
    "sih_acupuntura <- sih %>%\n",
    "  filter(SP_PROCREA == 0101010044) %>%\n",
    "  group_by(SP_UF) %>%\n",
    "  summarise(Media = format(round(mean(SP_VALATO), 2), nsmall = 2)) %>% \n",
    "  mutate(Sigtap = 6145)\n",
    "#225105 Médico acupunturista "
   ]
  },
  {
   "cell_type": "code",
   "execution_count": 88,
   "metadata": {},
   "outputs": [
    {
     "data": {
      "text/html": [
       "<table>\n",
       "<thead><tr><th scope=col>SP_UF</th><th scope=col>Media</th><th scope=col>Sigtap</th></tr></thead>\n",
       "<tbody>\n",
       "</tbody>\n",
       "</table>\n"
      ],
      "text/latex": [
       "\\begin{tabular}{r|lll}\n",
       " SP\\_UF & Media & Sigtap\\\\\n",
       "\\hline\n",
       "\\end{tabular}\n"
      ],
      "text/markdown": [
       "\n",
       "SP_UF | Media | Sigtap | \n",
       "||\n",
       "\n",
       "\n"
      ],
      "text/plain": [
       "     SP_UF Media Sigtap"
      ]
     },
     "metadata": {},
     "output_type": "display_data"
    }
   ],
   "source": [
    "head(sih_acupuntura)"
   ]
  },
  {
   "cell_type": "markdown",
   "metadata": {},
   "source": [
    "225105 Médico acupunturista código\n"
   ]
  },
  {
   "cell_type": "code",
   "execution_count": 92,
   "metadata": {},
   "outputs": [
    {
     "name": "stderr",
     "output_type": "stream",
     "text": [
      "Warning message in read.table(file = file, header = header, sep = sep, quote = quote, :\n",
      "\"incomplete final line found by readTableHeader on 'tbFluxoDadosClientela201809.csv'\""
     ]
    }
   ],
   "source": [
    "cliente <- read.csv2('tbFluxoDadosClientela201809.csv', sep=';', header = TRUE)"
   ]
  },
  {
   "cell_type": "code",
   "execution_count": 93,
   "metadata": {},
   "outputs": [
    {
     "data": {
      "text/html": [
       "<table>\n",
       "<thead><tr><th scope=col>CO_CLIENTELA..DS_CLIENTELA.</th></tr></thead>\n",
       "<tbody>\n",
       "\t<tr><td>01;\"ATENDIMENTO DE DEMANDA ESPONTANEA\"               </td></tr>\n",
       "\t<tr><td>02;\"ATENDIMENTO DE DEMANDA REFERENCIADA\"             </td></tr>\n",
       "\t<tr><td>03;\"ATENDIMENTO DE DEMANDA ESPONTANEA E REFERENCIADA\"</td></tr>\n",
       "</tbody>\n",
       "</table>\n"
      ],
      "text/latex": [
       "\\begin{tabular}{r|l}\n",
       " CO\\_CLIENTELA..DS\\_CLIENTELA.\\\\\n",
       "\\hline\n",
       "\t 01;\"ATENDIMENTO DE DEMANDA ESPONTANEA\"               \\\\\n",
       "\t 02;\"ATENDIMENTO DE DEMANDA REFERENCIADA\"             \\\\\n",
       "\t 03;\"ATENDIMENTO DE DEMANDA ESPONTANEA E REFERENCIADA\"\\\\\n",
       "\\end{tabular}\n"
      ],
      "text/markdown": [
       "\n",
       "CO_CLIENTELA..DS_CLIENTELA. | \n",
       "|---|---|---|\n",
       "| 01;\"ATENDIMENTO DE DEMANDA ESPONTANEA\"                | \n",
       "| 02;\"ATENDIMENTO DE DEMANDA REFERENCIADA\"              | \n",
       "| 03;\"ATENDIMENTO DE DEMANDA ESPONTANEA E REFERENCIADA\" | \n",
       "\n",
       "\n"
      ],
      "text/plain": [
       "  CO_CLIENTELA..DS_CLIENTELA.                          \n",
       "1 01;\"ATENDIMENTO DE DEMANDA ESPONTANEA\"               \n",
       "2 02;\"ATENDIMENTO DE DEMANDA REFERENCIADA\"             \n",
       "3 03;\"ATENDIMENTO DE DEMANDA ESPONTANEA E REFERENCIADA\""
      ]
     },
     "metadata": {},
     "output_type": "display_data"
    }
   ],
   "source": [
    "paged_table(cliente)"
   ]
  },
  {
   "cell_type": "code",
   "execution_count": 94,
   "metadata": {},
   "outputs": [],
   "source": [
    "estabelecimento_clientela <- subset(estabelecimentos, select = c('CO_CNES', 'CO_CLIENTELA'))"
   ]
  },
  {
   "cell_type": "code",
   "execution_count": 95,
   "metadata": {},
   "outputs": [
    {
     "data": {
      "text/html": [
       "<table>\n",
       "<thead><tr><th scope=col>CO_CNES</th><th scope=col>CO_CLIENTELA</th></tr></thead>\n",
       "<tbody>\n",
       "\t<tr><td>7453280</td><td>3      </td></tr>\n",
       "\t<tr><td>7450184</td><td>1      </td></tr>\n",
       "\t<tr><td>7462956</td><td>1      </td></tr>\n",
       "\t<tr><td>7462476</td><td>1      </td></tr>\n",
       "\t<tr><td>7416490</td><td>3      </td></tr>\n",
       "\t<tr><td>7462123</td><td>1      </td></tr>\n",
       "</tbody>\n",
       "</table>\n"
      ],
      "text/latex": [
       "\\begin{tabular}{r|ll}\n",
       " CO\\_CNES & CO\\_CLIENTELA\\\\\n",
       "\\hline\n",
       "\t 7453280 & 3      \\\\\n",
       "\t 7450184 & 1      \\\\\n",
       "\t 7462956 & 1      \\\\\n",
       "\t 7462476 & 1      \\\\\n",
       "\t 7416490 & 3      \\\\\n",
       "\t 7462123 & 1      \\\\\n",
       "\\end{tabular}\n"
      ],
      "text/markdown": [
       "\n",
       "CO_CNES | CO_CLIENTELA | \n",
       "|---|---|---|---|---|---|\n",
       "| 7453280 | 3       | \n",
       "| 7450184 | 1       | \n",
       "| 7462956 | 1       | \n",
       "| 7462476 | 1       | \n",
       "| 7416490 | 3       | \n",
       "| 7462123 | 1       | \n",
       "\n",
       "\n"
      ],
      "text/plain": [
       "  CO_CNES CO_CLIENTELA\n",
       "1 7453280 3           \n",
       "2 7450184 1           \n",
       "3 7462956 1           \n",
       "4 7462476 1           \n",
       "5 7416490 3           \n",
       "6 7462123 1           "
      ]
     },
     "metadata": {},
     "output_type": "display_data"
    }
   ],
   "source": [
    "head(estabelecimento_clientela)"
   ]
  },
  {
   "cell_type": "code",
   "execution_count": 96,
   "metadata": {},
   "outputs": [
    {
     "data": {
      "text/html": [
       "<table>\n",
       "<thead><tr><th scope=col>CO_UNIDADE</th><th scope=col>CO_PROFISSIONAL_SUS</th><th scope=col>CO_CBO</th><th scope=col>TP_SUS_NAO_SUS</th><th scope=col>IND_VINCULACAO</th><th scope=col>TP_TERCEIRO_SIH</th><th scope=col>QT_CARGA_HORARIA_AMBULATORIAL</th><th scope=col>CO_CONSELHO_CLASSE</th><th scope=col>NU_REGISTRO</th><th scope=col>SG_UF_CRM</th><th scope=col>TP_PRECEPTOR</th><th scope=col>TP_RESIDENTE</th><th scope=col>NU_CNPJ_DETALHAMENTO_VINCULO</th><th scope=col>TO_CHAR.A.DT_ATUALIZACAO..DD.MM.YYYY..</th><th scope=col>CO_USUARIO</th><th scope=col>TO_CHAR.A.DT_ATUALIZACAO_ORIGEM..DD.MM.YYYY..</th></tr></thead>\n",
       "<tbody>\n",
       "\t<tr><td>AP00000000000000099990010000004</td><td>1EFFD0E1186062EE               </td><td>515105                         </td><td>S                              </td><td>10000                          </td><td>2                              </td><td> 0                             </td><td>99                             </td><td>                               </td><td>                               </td><td>NA                             </td><td>NA                             </td><td>                               </td><td>01/10/2001                     </td><td>eneida                         </td><td>NA                             </td></tr>\n",
       "\t<tr><td>AP00000000000000099990010000005</td><td>E93ACAD355032651               </td><td>515105                         </td><td>S                              </td><td>10000                          </td><td>2                              </td><td> 0                             </td><td>99                             </td><td>                               </td><td>                               </td><td>NA                             </td><td>NA                             </td><td>                               </td><td>10/12/2001                     </td><td>eneida                         </td><td>NA                             </td></tr>\n",
       "\t<tr><td>AP00000000000000099990010000006</td><td>9D7D13462EBC2D66               </td><td>1999A1                         </td><td>S                              </td><td>10000                          </td><td>2                              </td><td>40                             </td><td>99                             </td><td>                               </td><td>                               </td><td>NA                             </td><td>NA                             </td><td>                               </td><td>31/10/2001                     </td><td>eneida                         </td><td>NA                             </td></tr>\n",
       "\t<tr><td>AP00000000000000099990010000006</td><td>DEF8D0C3756B2772               </td><td>1999A1                         </td><td>S                              </td><td>10000                          </td><td>2                              </td><td>40                             </td><td>99                             </td><td>                               </td><td>                               </td><td>NA                             </td><td>NA                             </td><td>                               </td><td>31/10/2001                     </td><td>eneida                         </td><td>NA                             </td></tr>\n",
       "\t<tr><td>BA00002914802000000000001538640</td><td>67A69EB2A0A7D21F               </td><td>324210                         </td><td>S                              </td><td>10000                          </td><td>2                              </td><td>48                             </td><td>99                             </td><td>                               </td><td>                               </td><td>NA                             </td><td>NA                             </td><td>                               </td><td>25/09/2001                     </td><td>carlinda                       </td><td>NA                             </td></tr>\n",
       "\t<tr><td>BA00002914802000000000001538640</td><td>4B9101A88F718691               </td><td>324210                         </td><td>S                              </td><td>10000                          </td><td>2                              </td><td>48                             </td><td>99                             </td><td>                               </td><td>                               </td><td>NA                             </td><td>NA                             </td><td>                               </td><td>25/09/2001                     </td><td>carlinda                       </td><td>NA                             </td></tr>\n",
       "</tbody>\n",
       "</table>\n"
      ],
      "text/latex": [
       "\\begin{tabular}{r|llllllllllllllll}\n",
       " CO\\_UNIDADE & CO\\_PROFISSIONAL\\_SUS & CO\\_CBO & TP\\_SUS\\_NAO\\_SUS & IND\\_VINCULACAO & TP\\_TERCEIRO\\_SIH & QT\\_CARGA\\_HORARIA\\_AMBULATORIAL & CO\\_CONSELHO\\_CLASSE & NU\\_REGISTRO & SG\\_UF\\_CRM & TP\\_PRECEPTOR & TP\\_RESIDENTE & NU\\_CNPJ\\_DETALHAMENTO\\_VINCULO & TO\\_CHAR.A.DT\\_ATUALIZACAO..DD.MM.YYYY.. & CO\\_USUARIO & TO\\_CHAR.A.DT\\_ATUALIZACAO\\_ORIGEM..DD.MM.YYYY..\\\\\n",
       "\\hline\n",
       "\t AP00000000000000099990010000004 & 1EFFD0E1186062EE                & 515105                          & S                               & 10000                           & 2                               &  0                              & 99                              &                                 &                                 & NA                              & NA                              &                                 & 01/10/2001                      & eneida                          & NA                             \\\\\n",
       "\t AP00000000000000099990010000005 & E93ACAD355032651                & 515105                          & S                               & 10000                           & 2                               &  0                              & 99                              &                                 &                                 & NA                              & NA                              &                                 & 10/12/2001                      & eneida                          & NA                             \\\\\n",
       "\t AP00000000000000099990010000006 & 9D7D13462EBC2D66                & 1999A1                          & S                               & 10000                           & 2                               & 40                              & 99                              &                                 &                                 & NA                              & NA                              &                                 & 31/10/2001                      & eneida                          & NA                             \\\\\n",
       "\t AP00000000000000099990010000006 & DEF8D0C3756B2772                & 1999A1                          & S                               & 10000                           & 2                               & 40                              & 99                              &                                 &                                 & NA                              & NA                              &                                 & 31/10/2001                      & eneida                          & NA                             \\\\\n",
       "\t BA00002914802000000000001538640 & 67A69EB2A0A7D21F                & 324210                          & S                               & 10000                           & 2                               & 48                              & 99                              &                                 &                                 & NA                              & NA                              &                                 & 25/09/2001                      & carlinda                        & NA                             \\\\\n",
       "\t BA00002914802000000000001538640 & 4B9101A88F718691                & 324210                          & S                               & 10000                           & 2                               & 48                              & 99                              &                                 &                                 & NA                              & NA                              &                                 & 25/09/2001                      & carlinda                        & NA                             \\\\\n",
       "\\end{tabular}\n"
      ],
      "text/markdown": [
       "\n",
       "CO_UNIDADE | CO_PROFISSIONAL_SUS | CO_CBO | TP_SUS_NAO_SUS | IND_VINCULACAO | TP_TERCEIRO_SIH | QT_CARGA_HORARIA_AMBULATORIAL | CO_CONSELHO_CLASSE | NU_REGISTRO | SG_UF_CRM | TP_PRECEPTOR | TP_RESIDENTE | NU_CNPJ_DETALHAMENTO_VINCULO | TO_CHAR.A.DT_ATUALIZACAO..DD.MM.YYYY.. | CO_USUARIO | TO_CHAR.A.DT_ATUALIZACAO_ORIGEM..DD.MM.YYYY.. | \n",
       "|---|---|---|---|---|---|\n",
       "| AP00000000000000099990010000004 | 1EFFD0E1186062EE                | 515105                          | S                               | 10000                           | 2                               |  0                              | 99                              |                                 |                                 | NA                              | NA                              |                                 | 01/10/2001                      | eneida                          | NA                              | \n",
       "| AP00000000000000099990010000005 | E93ACAD355032651                | 515105                          | S                               | 10000                           | 2                               |  0                              | 99                              |                                 |                                 | NA                              | NA                              |                                 | 10/12/2001                      | eneida                          | NA                              | \n",
       "| AP00000000000000099990010000006 | 9D7D13462EBC2D66                | 1999A1                          | S                               | 10000                           | 2                               | 40                              | 99                              |                                 |                                 | NA                              | NA                              |                                 | 31/10/2001                      | eneida                          | NA                              | \n",
       "| AP00000000000000099990010000006 | DEF8D0C3756B2772                | 1999A1                          | S                               | 10000                           | 2                               | 40                              | 99                              |                                 |                                 | NA                              | NA                              |                                 | 31/10/2001                      | eneida                          | NA                              | \n",
       "| BA00002914802000000000001538640 | 67A69EB2A0A7D21F                | 324210                          | S                               | 10000                           | 2                               | 48                              | 99                              |                                 |                                 | NA                              | NA                              |                                 | 25/09/2001                      | carlinda                        | NA                              | \n",
       "| BA00002914802000000000001538640 | 4B9101A88F718691                | 324210                          | S                               | 10000                           | 2                               | 48                              | 99                              |                                 |                                 | NA                              | NA                              |                                 | 25/09/2001                      | carlinda                        | NA                              | \n",
       "\n",
       "\n"
      ],
      "text/plain": [
       "  CO_UNIDADE                      CO_PROFISSIONAL_SUS CO_CBO TP_SUS_NAO_SUS\n",
       "1 AP00000000000000099990010000004 1EFFD0E1186062EE    515105 S             \n",
       "2 AP00000000000000099990010000005 E93ACAD355032651    515105 S             \n",
       "3 AP00000000000000099990010000006 9D7D13462EBC2D66    1999A1 S             \n",
       "4 AP00000000000000099990010000006 DEF8D0C3756B2772    1999A1 S             \n",
       "5 BA00002914802000000000001538640 67A69EB2A0A7D21F    324210 S             \n",
       "6 BA00002914802000000000001538640 4B9101A88F718691    324210 S             \n",
       "  IND_VINCULACAO TP_TERCEIRO_SIH QT_CARGA_HORARIA_AMBULATORIAL\n",
       "1 10000          2                0                           \n",
       "2 10000          2                0                           \n",
       "3 10000          2               40                           \n",
       "4 10000          2               40                           \n",
       "5 10000          2               48                           \n",
       "6 10000          2               48                           \n",
       "  CO_CONSELHO_CLASSE NU_REGISTRO SG_UF_CRM TP_PRECEPTOR TP_RESIDENTE\n",
       "1 99                                       NA           NA          \n",
       "2 99                                       NA           NA          \n",
       "3 99                                       NA           NA          \n",
       "4 99                                       NA           NA          \n",
       "5 99                                       NA           NA          \n",
       "6 99                                       NA           NA          \n",
       "  NU_CNPJ_DETALHAMENTO_VINCULO TO_CHAR.A.DT_ATUALIZACAO..DD.MM.YYYY..\n",
       "1                              01/10/2001                            \n",
       "2                              10/12/2001                            \n",
       "3                              31/10/2001                            \n",
       "4                              31/10/2001                            \n",
       "5                              25/09/2001                            \n",
       "6                              25/09/2001                            \n",
       "  CO_USUARIO TO_CHAR.A.DT_ATUALIZACAO_ORIGEM..DD.MM.YYYY..\n",
       "1 eneida     NA                                           \n",
       "2 eneida     NA                                           \n",
       "3 eneida     NA                                           \n",
       "4 eneida     NA                                           \n",
       "5 carlinda   NA                                           \n",
       "6 carlinda   NA                                           "
      ]
     },
     "metadata": {},
     "output_type": "display_data"
    }
   ],
   "source": [
    "# profissionais de saúde\n",
    "\n",
    "profissionais <- read.csv2('tbCargaHorariaSus201809.csv', header = TRUE)\n",
    "head(profissionais)"
   ]
  },
  {
   "cell_type": "code",
   "execution_count": 97,
   "metadata": {},
   "outputs": [],
   "source": [
    "profissionais$CO_CBO <- as.character(profissionais$CO_CBO)\n",
    "medicos <- profissionais %>%\n",
    "  select(CO_UNIDADE, CO_PROFISSIONAL_SUS, CO_CBO, TP_SUS_NAO_SUS, QT_CARGA_HORARIA_AMBULATORIAL) %>%\n",
    "  filter(startsWith(CO_CBO, \"2251\") | startsWith(CO_CBO, \"2253\")  | startsWith(CO_CBO, \"2253\"))"
   ]
  },
  {
   "cell_type": "code",
   "execution_count": 98,
   "metadata": {},
   "outputs": [
    {
     "data": {
      "text/html": [
       "<table>\n",
       "<thead><tr><th scope=col>CO_UNIDADE</th><th scope=col>CO_PROFISSIONAL_SUS</th><th scope=col>CO_CBO</th><th scope=col>TP_SUS_NAO_SUS</th><th scope=col>QT_CARGA_HORARIA_AMBULATORIAL</th></tr></thead>\n",
       "<tbody>\n",
       "\t<tr><td>CE0000231290000000000000047929 </td><td>0B6C6813432D9673               </td><td>225142                         </td><td>S                              </td><td> 8                             </td></tr>\n",
       "\t<tr><td>ES00000000000000000000000003930</td><td>3E9FD1ABE6A26194               </td><td>225142                         </td><td>S                              </td><td>40                             </td></tr>\n",
       "\t<tr><td>ES00000000000000027503747000119</td><td>0FC7DFF406F99A54               </td><td>225125                         </td><td>S                              </td><td>20                             </td></tr>\n",
       "\t<tr><td>MA0000210120000001862880000178 </td><td>19EA60157171EA00               </td><td>225124                         </td><td>S                              </td><td>20                             </td></tr>\n",
       "\t<tr><td>MA0000210120000001862880000178 </td><td>19EA60157171EA00               </td><td>225125                         </td><td>S                              </td><td>20                             </td></tr>\n",
       "\t<tr><td>MA0000211150000000004442890382 </td><td>5936668BE1F5C1B8               </td><td>225125                         </td><td>S                              </td><td>20                             </td></tr>\n",
       "</tbody>\n",
       "</table>\n"
      ],
      "text/latex": [
       "\\begin{tabular}{r|lllll}\n",
       " CO\\_UNIDADE & CO\\_PROFISSIONAL\\_SUS & CO\\_CBO & TP\\_SUS\\_NAO\\_SUS & QT\\_CARGA\\_HORARIA\\_AMBULATORIAL\\\\\n",
       "\\hline\n",
       "\t CE0000231290000000000000047929  & 0B6C6813432D9673                & 225142                          & S                               &  8                             \\\\\n",
       "\t ES00000000000000000000000003930 & 3E9FD1ABE6A26194                & 225142                          & S                               & 40                             \\\\\n",
       "\t ES00000000000000027503747000119 & 0FC7DFF406F99A54                & 225125                          & S                               & 20                             \\\\\n",
       "\t MA0000210120000001862880000178  & 19EA60157171EA00                & 225124                          & S                               & 20                             \\\\\n",
       "\t MA0000210120000001862880000178  & 19EA60157171EA00                & 225125                          & S                               & 20                             \\\\\n",
       "\t MA0000211150000000004442890382  & 5936668BE1F5C1B8                & 225125                          & S                               & 20                             \\\\\n",
       "\\end{tabular}\n"
      ],
      "text/markdown": [
       "\n",
       "CO_UNIDADE | CO_PROFISSIONAL_SUS | CO_CBO | TP_SUS_NAO_SUS | QT_CARGA_HORARIA_AMBULATORIAL | \n",
       "|---|---|---|---|---|---|\n",
       "| CE0000231290000000000000047929  | 0B6C6813432D9673                | 225142                          | S                               |  8                              | \n",
       "| ES00000000000000000000000003930 | 3E9FD1ABE6A26194                | 225142                          | S                               | 40                              | \n",
       "| ES00000000000000027503747000119 | 0FC7DFF406F99A54                | 225125                          | S                               | 20                              | \n",
       "| MA0000210120000001862880000178  | 19EA60157171EA00                | 225124                          | S                               | 20                              | \n",
       "| MA0000210120000001862880000178  | 19EA60157171EA00                | 225125                          | S                               | 20                              | \n",
       "| MA0000211150000000004442890382  | 5936668BE1F5C1B8                | 225125                          | S                               | 20                              | \n",
       "\n",
       "\n"
      ],
      "text/plain": [
       "  CO_UNIDADE                      CO_PROFISSIONAL_SUS CO_CBO TP_SUS_NAO_SUS\n",
       "1 CE0000231290000000000000047929  0B6C6813432D9673    225142 S             \n",
       "2 ES00000000000000000000000003930 3E9FD1ABE6A26194    225142 S             \n",
       "3 ES00000000000000027503747000119 0FC7DFF406F99A54    225125 S             \n",
       "4 MA0000210120000001862880000178  19EA60157171EA00    225124 S             \n",
       "5 MA0000210120000001862880000178  19EA60157171EA00    225125 S             \n",
       "6 MA0000211150000000004442890382  5936668BE1F5C1B8    225125 S             \n",
       "  QT_CARGA_HORARIA_AMBULATORIAL\n",
       "1  8                           \n",
       "2 40                           \n",
       "3 20                           \n",
       "4 20                           \n",
       "5 20                           \n",
       "6 20                           "
      ]
     },
     "metadata": {},
     "output_type": "display_data"
    }
   ],
   "source": [
    "head(medicos)"
   ]
  },
  {
   "cell_type": "code",
   "execution_count": 99,
   "metadata": {},
   "outputs": [],
   "source": [
    "#|2251|Médicos Clínicos|\n",
    "#|2252|Médicos Especialidades Cirurgicas|\n",
    "#|2253|Médicos Dignóstico e Terapêutico|\n"
   ]
  },
  {
   "cell_type": "code",
   "execution_count": 100,
   "metadata": {},
   "outputs": [],
   "source": [
    "#É comum que o médico possua mais de um vínculo, então não devemos confiar no resultado acima, \n",
    "#precisamos primeiros filtrar os vinculos multiplos.\n",
    "\n",
    "medicos_unico <- medicos %>%\n",
    "  distinct(CO_PROFISSIONAL_SUS)\n"
   ]
  },
  {
   "cell_type": "code",
   "execution_count": 101,
   "metadata": {},
   "outputs": [
    {
     "data": {
      "text/html": [
       "<table>\n",
       "<thead><tr><th scope=col>CO_PROFISSIONAL_SUS</th></tr></thead>\n",
       "<tbody>\n",
       "\t<tr><td>0B6C6813432D9673</td></tr>\n",
       "\t<tr><td>3E9FD1ABE6A26194</td></tr>\n",
       "\t<tr><td>0FC7DFF406F99A54</td></tr>\n",
       "\t<tr><td>19EA60157171EA00</td></tr>\n",
       "\t<tr><td>5936668BE1F5C1B8</td></tr>\n",
       "\t<tr><td>B5B23E4ED1D1896A</td></tr>\n",
       "</tbody>\n",
       "</table>\n"
      ],
      "text/latex": [
       "\\begin{tabular}{r|l}\n",
       " CO\\_PROFISSIONAL\\_SUS\\\\\n",
       "\\hline\n",
       "\t 0B6C6813432D9673\\\\\n",
       "\t 3E9FD1ABE6A26194\\\\\n",
       "\t 0FC7DFF406F99A54\\\\\n",
       "\t 19EA60157171EA00\\\\\n",
       "\t 5936668BE1F5C1B8\\\\\n",
       "\t B5B23E4ED1D1896A\\\\\n",
       "\\end{tabular}\n"
      ],
      "text/markdown": [
       "\n",
       "CO_PROFISSIONAL_SUS | \n",
       "|---|---|---|---|---|---|\n",
       "| 0B6C6813432D9673 | \n",
       "| 3E9FD1ABE6A26194 | \n",
       "| 0FC7DFF406F99A54 | \n",
       "| 19EA60157171EA00 | \n",
       "| 5936668BE1F5C1B8 | \n",
       "| B5B23E4ED1D1896A | \n",
       "\n",
       "\n"
      ],
      "text/plain": [
       "  CO_PROFISSIONAL_SUS\n",
       "1 0B6C6813432D9673   \n",
       "2 3E9FD1ABE6A26194   \n",
       "3 0FC7DFF406F99A54   \n",
       "4 19EA60157171EA00   \n",
       "5 5936668BE1F5C1B8   \n",
       "6 B5B23E4ED1D1896A   "
      ]
     },
     "metadata": {},
     "output_type": "display_data"
    }
   ],
   "source": [
    "head(medicos_unico)"
   ]
  },
  {
   "cell_type": "code",
   "execution_count": 103,
   "metadata": {},
   "outputs": [],
   "source": [
    "#Qual a média de vinculos, maximo e mínimo encontrados nos dados?\n",
    "\n",
    "medicos_vinculos <- medicos %>%\n",
    "  group_by(CO_PROFISSIONAL_SUS) %>%\n",
    "  summarise(Vinculos = n())"
   ]
  },
  {
   "cell_type": "code",
   "execution_count": 104,
   "metadata": {},
   "outputs": [
    {
     "data": {
      "text/html": [
       "<table>\n",
       "<thead><tr><th scope=col>CO_PROFISSIONAL_SUS</th><th scope=col>Vinculos</th></tr></thead>\n",
       "<tbody>\n",
       "\t<tr><td>00000B89F3840DB3</td><td>1               </td></tr>\n",
       "\t<tr><td>00005AA631AF8AB1</td><td>1               </td></tr>\n",
       "\t<tr><td>000081913134B2FD</td><td>2               </td></tr>\n",
       "\t<tr><td>000097B131348BFE</td><td>2               </td></tr>\n",
       "\t<tr><td>00010160B6D9A7BF</td><td>1               </td></tr>\n",
       "\t<tr><td>0001022809EFF22A</td><td>1               </td></tr>\n",
       "</tbody>\n",
       "</table>\n"
      ],
      "text/latex": [
       "\\begin{tabular}{r|ll}\n",
       " CO\\_PROFISSIONAL\\_SUS & Vinculos\\\\\n",
       "\\hline\n",
       "\t 00000B89F3840DB3 & 1               \\\\\n",
       "\t 00005AA631AF8AB1 & 1               \\\\\n",
       "\t 000081913134B2FD & 2               \\\\\n",
       "\t 000097B131348BFE & 2               \\\\\n",
       "\t 00010160B6D9A7BF & 1               \\\\\n",
       "\t 0001022809EFF22A & 1               \\\\\n",
       "\\end{tabular}\n"
      ],
      "text/markdown": [
       "\n",
       "CO_PROFISSIONAL_SUS | Vinculos | \n",
       "|---|---|---|---|---|---|\n",
       "| 00000B89F3840DB3 | 1                | \n",
       "| 00005AA631AF8AB1 | 1                | \n",
       "| 000081913134B2FD | 2                | \n",
       "| 000097B131348BFE | 2                | \n",
       "| 00010160B6D9A7BF | 1                | \n",
       "| 0001022809EFF22A | 1                | \n",
       "\n",
       "\n"
      ],
      "text/plain": [
       "  CO_PROFISSIONAL_SUS Vinculos\n",
       "1 00000B89F3840DB3    1       \n",
       "2 00005AA631AF8AB1    1       \n",
       "3 000081913134B2FD    2       \n",
       "4 000097B131348BFE    2       \n",
       "5 00010160B6D9A7BF    1       \n",
       "6 0001022809EFF22A    1       "
      ]
     },
     "metadata": {},
     "output_type": "display_data"
    }
   ],
   "source": [
    "head(medicos_vinculos)"
   ]
  },
  {
   "cell_type": "code",
   "execution_count": 106,
   "metadata": {},
   "outputs": [
    {
     "data": {
      "text/html": [
       "2.32766383191596"
      ],
      "text/latex": [
       "2.32766383191596"
      ],
      "text/markdown": [
       "2.32766383191596"
      ],
      "text/plain": [
       "[1] 2.327664"
      ]
     },
     "metadata": {},
     "output_type": "display_data"
    }
   ],
   "source": [
    "mean(medicos_vinculos$Vinculos)"
   ]
  },
  {
   "cell_type": "code",
   "execution_count": 107,
   "metadata": {},
   "outputs": [
    {
     "data": {
      "text/html": [
       "<table>\n",
       "<thead><tr><th scope=col>Mes</th><th scope=col>Ano</th><th scope=col>UF</th><th scope=col>MunicÃ.pio</th><th scope=col>IBGE</th><th scope=col>PopulaÃ.Ã.o</th><th scope=col>NÂº.eSF</th><th scope=col>Estim..Pop..Cob..eSF</th><th scope=col>Cob..Pop..Estimada.eSF</th><th scope=col>CH.MÃ.dico.AB</th><th scope=col>CH.Enfermeiro.AB</th><th scope=col>NÂº.eSF.equivalente</th><th scope=col>NÂº.eAB.parametrizada</th><th scope=col>Estim..Pop..Cob..AB</th><th scope=col>Cob..Pop..Estimada.AB</th></tr></thead>\n",
       "<tbody>\n",
       "\t<tr><td>4              </td><td>2008           </td><td>AC             </td><td>ACRELÃ‚NDIA    </td><td>120001.0       </td><td>11.520         </td><td>5.0            </td><td>11.520         </td><td>100%           </td><td>20.0           </td><td>40.0           </td><td>0.33           </td><td>0.0            </td><td>11.520         </td><td>100%           </td></tr>\n",
       "\t<tr><td>4              </td><td>2008           </td><td>AC             </td><td>ASSIS BRASIL   </td><td>120005.0       </td><td>5.351          </td><td>2.0            </td><td>5.351          </td><td>100%           </td><td>0.0            </td><td>0.0            </td><td>0              </td><td>0.0            </td><td>5.351          </td><td>100%           </td></tr>\n",
       "\t<tr><td>4              </td><td>2008           </td><td>AC             </td><td>BRASILÃ‰IA     </td><td>120010.0       </td><td>19.065         </td><td>6.0            </td><td>19.065         </td><td>100%           </td><td>110.0          </td><td>120.0          </td><td>1.83           </td><td>0.0            </td><td>19.065         </td><td>100%           </td></tr>\n",
       "\t<tr><td>4              </td><td>2008           </td><td>AC             </td><td>BUJARI         </td><td>120013.0       </td><td>6.543          </td><td>1.0            </td><td>3.450          </td><td>52,73%         </td><td>40.0           </td><td>40.0           </td><td>0.66           </td><td>0.0            </td><td>5.430          </td><td>82,99%         </td></tr>\n",
       "\t<tr><td>4              </td><td>2008           </td><td>AC             </td><td>CAPIXABA       </td><td>120017.0       </td><td>8.446          </td><td>2.0            </td><td>6.900          </td><td>81,70%         </td><td>40.0           </td><td>0.0            </td><td>0              </td><td>0.0            </td><td>6.900          </td><td>81,70%         </td></tr>\n",
       "\t<tr><td>4              </td><td>2008           </td><td>AC             </td><td>CRUZEIRO DO SUL</td><td>120020.0       </td><td>73.948         </td><td>16.0           </td><td>55.200         </td><td>74,65%         </td><td>40.0           </td><td>80.0           </td><td>0.66           </td><td>0.0            </td><td>57.180         </td><td>77,32%         </td></tr>\n",
       "</tbody>\n",
       "</table>\n"
      ],
      "text/latex": [
       "\\begin{tabular}{r|lllllllllllllll}\n",
       " Mes & Ano & UF & MunicÃ.pio & IBGE & PopulaÃ.Ã.o & NÂº.eSF & Estim..Pop..Cob..eSF & Cob..Pop..Estimada.eSF & CH.MÃ.dico.AB & CH.Enfermeiro.AB & NÂº.eSF.equivalente & NÂº.eAB.parametrizada & Estim..Pop..Cob..AB & Cob..Pop..Estimada.AB\\\\\n",
       "\\hline\n",
       "\t 4               & 2008            & AC              & ACRELÃ‚NDIA     & 120001.0        & 11.520          & 5.0             & 11.520          & 100\\%          & 20.0            & 40.0            & 0.33            & 0.0             & 11.520          & 100\\%         \\\\\n",
       "\t 4               & 2008            & AC              & ASSIS BRASIL    & 120005.0        & 5.351           & 2.0             & 5.351           & 100\\%          & 0.0             & 0.0             & 0               & 0.0             & 5.351           & 100\\%         \\\\\n",
       "\t 4               & 2008            & AC              & BRASILÃ‰IA      & 120010.0        & 19.065          & 6.0             & 19.065          & 100\\%          & 110.0           & 120.0           & 1.83            & 0.0             & 19.065          & 100\\%         \\\\\n",
       "\t 4               & 2008            & AC              & BUJARI          & 120013.0        & 6.543           & 1.0             & 3.450           & 52,73\\%        & 40.0            & 40.0            & 0.66            & 0.0             & 5.430           & 82,99\\%       \\\\\n",
       "\t 4               & 2008            & AC              & CAPIXABA        & 120017.0        & 8.446           & 2.0             & 6.900           & 81,70\\%        & 40.0            & 0.0             & 0               & 0.0             & 6.900           & 81,70\\%       \\\\\n",
       "\t 4               & 2008            & AC              & CRUZEIRO DO SUL & 120020.0        & 73.948          & 16.0            & 55.200          & 74,65\\%        & 40.0            & 80.0            & 0.66            & 0.0             & 57.180          & 77,32\\%       \\\\\n",
       "\\end{tabular}\n"
      ],
      "text/markdown": [
       "\n",
       "Mes | Ano | UF | MunicÃ.pio | IBGE | PopulaÃ.Ã.o | NÂº.eSF | Estim..Pop..Cob..eSF | Cob..Pop..Estimada.eSF | CH.MÃ.dico.AB | CH.Enfermeiro.AB | NÂº.eSF.equivalente | NÂº.eAB.parametrizada | Estim..Pop..Cob..AB | Cob..Pop..Estimada.AB | \n",
       "|---|---|---|---|---|---|\n",
       "| 4               | 2008            | AC              | ACRELÃ‚NDIA     | 120001.0        | 11.520          | 5.0             | 11.520          | 100%            | 20.0            | 40.0            | 0.33            | 0.0             | 11.520          | 100%            | \n",
       "| 4               | 2008            | AC              | ASSIS BRASIL    | 120005.0        | 5.351           | 2.0             | 5.351           | 100%            | 0.0             | 0.0             | 0               | 0.0             | 5.351           | 100%            | \n",
       "| 4               | 2008            | AC              | BRASILÃ‰IA      | 120010.0        | 19.065          | 6.0             | 19.065          | 100%            | 110.0           | 120.0           | 1.83            | 0.0             | 19.065          | 100%            | \n",
       "| 4               | 2008            | AC              | BUJARI          | 120013.0        | 6.543           | 1.0             | 3.450           | 52,73%          | 40.0            | 40.0            | 0.66            | 0.0             | 5.430           | 82,99%          | \n",
       "| 4               | 2008            | AC              | CAPIXABA        | 120017.0        | 8.446           | 2.0             | 6.900           | 81,70%          | 40.0            | 0.0             | 0               | 0.0             | 6.900           | 81,70%          | \n",
       "| 4               | 2008            | AC              | CRUZEIRO DO SUL | 120020.0        | 73.948          | 16.0            | 55.200          | 74,65%          | 40.0            | 80.0            | 0.66            | 0.0             | 57.180          | 77,32%          | \n",
       "\n",
       "\n"
      ],
      "text/plain": [
       "  Mes Ano  UF MunicÃ.pio      IBGE     PopulaÃ.Ã.o NÂº.eSF Estim..Pop..Cob..eSF\n",
       "1 4   2008 AC ACRELÃ‚NDIA     120001.0 11.520      5.0     11.520              \n",
       "2 4   2008 AC ASSIS BRASIL    120005.0 5.351       2.0     5.351               \n",
       "3 4   2008 AC BRASILÃ‰IA      120010.0 19.065      6.0     19.065              \n",
       "4 4   2008 AC BUJARI          120013.0 6.543       1.0     3.450               \n",
       "5 4   2008 AC CAPIXABA        120017.0 8.446       2.0     6.900               \n",
       "6 4   2008 AC CRUZEIRO DO SUL 120020.0 73.948      16.0    55.200              \n",
       "  Cob..Pop..Estimada.eSF CH.MÃ.dico.AB CH.Enfermeiro.AB NÂº.eSF.equivalente\n",
       "1 100%                   20.0          40.0             0.33               \n",
       "2 100%                   0.0           0.0              0                  \n",
       "3 100%                   110.0         120.0            1.83               \n",
       "4 52,73%                 40.0          40.0             0.66               \n",
       "5 81,70%                 40.0          0.0              0                  \n",
       "6 74,65%                 40.0          80.0             0.66               \n",
       "  NÂº.eAB.parametrizada Estim..Pop..Cob..AB Cob..Pop..Estimada.AB\n",
       "1 0.0                   11.520              100%                 \n",
       "2 0.0                   5.351               100%                 \n",
       "3 0.0                   19.065              100%                 \n",
       "4 0.0                   5.430               82,99%               \n",
       "5 0.0                   6.900               81,70%               \n",
       "6 0.0                   57.180              77,32%               "
      ]
     },
     "metadata": {},
     "output_type": "display_data"
    }
   ],
   "source": [
    "cobertura_ab <- read.csv2('cobertura_AB_2007_2018.csv', header = TRUE)\n",
    "head(cobertura_ab)"
   ]
  },
  {
   "cell_type": "code",
   "execution_count": 124,
   "metadata": {},
   "outputs": [],
   "source": [
    "#de todos os valores recebidos, qual a porcentagem correspondente à Atenção Básica?\n",
    "fns$vlLiquido <- as.numeric(as.character(fns$vlLiquido))\n",
    "fns_reduced <- fns %>%\n",
    "  filter(ANO == 2017) %>%\n",
    "  group_by(MUNICIPIO) %>%\n",
    "  summarise(Total_Investido = sum(vlLiquido))\n",
    "fns_tmp <- fns %>%\n",
    "  filter(ANO == 2017 & nome == 'ATENÇÃO BÁSICA') %>%\n",
    "  select(MUNICIPIO, vlLiquido)"
   ]
  },
  {
   "cell_type": "code",
   "execution_count": 125,
   "metadata": {},
   "outputs": [
    {
     "data": {
      "text/html": [
       "<table>\n",
       "<thead><tr><th scope=col>MUNICIPIO</th><th scope=col>Total_Investido</th></tr></thead>\n",
       "<tbody>\n",
       "\t<tr><td>110001  </td><td> 4880383</td></tr>\n",
       "\t<tr><td>110002  </td><td>22314782</td></tr>\n",
       "\t<tr><td>110003  </td><td> 1406911</td></tr>\n",
       "\t<tr><td>110004  </td><td>17907238</td></tr>\n",
       "\t<tr><td>110005  </td><td> 4084366</td></tr>\n",
       "\t<tr><td>110006  </td><td> 3492792</td></tr>\n",
       "</tbody>\n",
       "</table>\n"
      ],
      "text/latex": [
       "\\begin{tabular}{r|ll}\n",
       " MUNICIPIO & Total\\_Investido\\\\\n",
       "\\hline\n",
       "\t 110001   &  4880383\\\\\n",
       "\t 110002   & 22314782\\\\\n",
       "\t 110003   &  1406911\\\\\n",
       "\t 110004   & 17907238\\\\\n",
       "\t 110005   &  4084366\\\\\n",
       "\t 110006   &  3492792\\\\\n",
       "\\end{tabular}\n"
      ],
      "text/markdown": [
       "\n",
       "MUNICIPIO | Total_Investido | \n",
       "|---|---|---|---|---|---|\n",
       "| 110001   |  4880383 | \n",
       "| 110002   | 22314782 | \n",
       "| 110003   |  1406911 | \n",
       "| 110004   | 17907238 | \n",
       "| 110005   |  4084366 | \n",
       "| 110006   |  3492792 | \n",
       "\n",
       "\n"
      ],
      "text/plain": [
       "  MUNICIPIO Total_Investido\n",
       "1 110001     4880383       \n",
       "2 110002    22314782       \n",
       "3 110003     1406911       \n",
       "4 110004    17907238       \n",
       "5 110005     4084366       \n",
       "6 110006     3492792       "
      ]
     },
     "metadata": {},
     "output_type": "display_data"
    }
   ],
   "source": [
    "head(fns_reduced)\n"
   ]
  },
  {
   "cell_type": "code",
   "execution_count": 126,
   "metadata": {},
   "outputs": [],
   "source": [
    "fns_reduced <- merge(fns_reduced,fns_tmp)\n",
    "names(fns_reduced)[1] <- 'code'\n",
    "names(fns_reduced)[3] <- 'Total_AB'"
   ]
  },
  {
   "cell_type": "code",
   "execution_count": 129,
   "metadata": {},
   "outputs": [],
   "source": [
    "fns_reduced$percent_ab <- (fns_reduced$Total_AB/fns_reduced$Total_Investido)*100"
   ]
  },
  {
   "cell_type": "code",
   "execution_count": 132,
   "metadata": {},
   "outputs": [],
   "source": [
    "cobertura_brasil <- merge(brasil, cobertura_ab_reduced, all.x = TRUE)"
   ]
  },
  {
   "cell_type": "code",
   "execution_count": 133,
   "metadata": {},
   "outputs": [
    {
     "data": {
      "text/html": [
       "<table>\n",
       "<thead><tr><th scope=col>code</th><th scope=col>city</th><th scope=col>state</th><th scope=col>region</th><th scope=col>population</th><th scope=col>pop_coberta_ab_percent</th><th scope=col>MunicÃ.pio</th><th scope=col>Cob..Pop..Estimada.AB</th><th scope=col>pop_coberta_ab</th></tr></thead>\n",
       "<tbody>\n",
       "\t<tr><td>110001               </td><td>Alta Floresta D'Oeste</td><td>RondÃ´nia            </td><td>NORTE                </td><td> 25437               </td><td>NA                   </td><td>ALTA FLORESTA D'OESTE</td><td>67,63%               </td><td>NA                   </td></tr>\n",
       "\t<tr><td>110002               </td><td>Ariquemes            </td><td>RondÃ´nia            </td><td>NORTE                </td><td>107345               </td><td>NA                   </td><td>ARIQUEMES            </td><td>66,72%               </td><td>NA                   </td></tr>\n",
       "\t<tr><td>110003               </td><td>Cabixi               </td><td>RondÃ´nia            </td><td>NORTE                </td><td>  6224               </td><td>NA                   </td><td>CABIXI               </td><td>100%                 </td><td>NA                   </td></tr>\n",
       "\t<tr><td>110004               </td><td>Cacoal               </td><td>RondÃ´nia            </td><td>NORTE                </td><td> 88507               </td><td>NA                   </td><td>CACOAL               </td><td>62,82%               </td><td>NA                   </td></tr>\n",
       "\t<tr><td>110005               </td><td>Cerejeiras           </td><td>RondÃ´nia            </td><td>NORTE                </td><td> 17934               </td><td>NA                   </td><td>CEREJEIRAS           </td><td>96,05%               </td><td>NA                   </td></tr>\n",
       "\t<tr><td>110006               </td><td>Colorado do Oeste    </td><td>RondÃ´nia            </td><td>NORTE                </td><td> 18467               </td><td>NA                   </td><td>COLORADO DO OESTE    </td><td>92,55%               </td><td>NA                   </td></tr>\n",
       "</tbody>\n",
       "</table>\n"
      ],
      "text/latex": [
       "\\begin{tabular}{r|lllllllll}\n",
       " code & city & state & region & population & pop\\_coberta\\_ab\\_percent & MunicÃ.pio & Cob..Pop..Estimada.AB & pop\\_coberta\\_ab\\\\\n",
       "\\hline\n",
       "\t 110001                & Alta Floresta D'Oeste & RondÃ´nia             & NORTE                 &  25437                & NA                    & ALTA FLORESTA D'OESTE & 67,63\\%              & NA                   \\\\\n",
       "\t 110002                & Ariquemes             & RondÃ´nia             & NORTE                 & 107345                & NA                    & ARIQUEMES             & 66,72\\%              & NA                   \\\\\n",
       "\t 110003                & Cabixi                & RondÃ´nia             & NORTE                 &   6224                & NA                    & CABIXI                & 100\\%                & NA                   \\\\\n",
       "\t 110004                & Cacoal                & RondÃ´nia             & NORTE                 &  88507                & NA                    & CACOAL                & 62,82\\%              & NA                   \\\\\n",
       "\t 110005                & Cerejeiras            & RondÃ´nia             & NORTE                 &  17934                & NA                    & CEREJEIRAS            & 96,05\\%              & NA                   \\\\\n",
       "\t 110006                & Colorado do Oeste     & RondÃ´nia             & NORTE                 &  18467                & NA                    & COLORADO DO OESTE     & 92,55\\%              & NA                   \\\\\n",
       "\\end{tabular}\n"
      ],
      "text/markdown": [
       "\n",
       "code | city | state | region | population | pop_coberta_ab_percent | MunicÃ.pio | Cob..Pop..Estimada.AB | pop_coberta_ab | \n",
       "|---|---|---|---|---|---|\n",
       "| 110001                | Alta Floresta D'Oeste | RondÃ´nia             | NORTE                 |  25437                | NA                    | ALTA FLORESTA D'OESTE | 67,63%                | NA                    | \n",
       "| 110002                | Ariquemes             | RondÃ´nia             | NORTE                 | 107345                | NA                    | ARIQUEMES             | 66,72%                | NA                    | \n",
       "| 110003                | Cabixi                | RondÃ´nia             | NORTE                 |   6224                | NA                    | CABIXI                | 100%                  | NA                    | \n",
       "| 110004                | Cacoal                | RondÃ´nia             | NORTE                 |  88507                | NA                    | CACOAL                | 62,82%                | NA                    | \n",
       "| 110005                | Cerejeiras            | RondÃ´nia             | NORTE                 |  17934                | NA                    | CEREJEIRAS            | 96,05%                | NA                    | \n",
       "| 110006                | Colorado do Oeste     | RondÃ´nia             | NORTE                 |  18467                | NA                    | COLORADO DO OESTE     | 92,55%                | NA                    | \n",
       "\n",
       "\n"
      ],
      "text/plain": [
       "  code   city                  state     region population\n",
       "1 110001 Alta Floresta D'Oeste RondÃ´nia NORTE   25437    \n",
       "2 110002 Ariquemes             RondÃ´nia NORTE  107345    \n",
       "3 110003 Cabixi                RondÃ´nia NORTE    6224    \n",
       "4 110004 Cacoal                RondÃ´nia NORTE   88507    \n",
       "5 110005 Cerejeiras            RondÃ´nia NORTE   17934    \n",
       "6 110006 Colorado do Oeste     RondÃ´nia NORTE   18467    \n",
       "  pop_coberta_ab_percent MunicÃ.pio            Cob..Pop..Estimada.AB\n",
       "1 NA                     ALTA FLORESTA D'OESTE 67,63%               \n",
       "2 NA                     ARIQUEMES             66,72%               \n",
       "3 NA                     CABIXI                100%                 \n",
       "4 NA                     CACOAL                62,82%               \n",
       "5 NA                     CEREJEIRAS            96,05%               \n",
       "6 NA                     COLORADO DO OESTE     92,55%               \n",
       "  pop_coberta_ab\n",
       "1 NA            \n",
       "2 NA            \n",
       "3 NA            \n",
       "4 NA            \n",
       "5 NA            \n",
       "6 NA            "
      ]
     },
     "metadata": {},
     "output_type": "display_data"
    }
   ],
   "source": [
    "head(cobertura_brasil)"
   ]
  },
  {
   "cell_type": "code",
   "execution_count": 134,
   "metadata": {},
   "outputs": [],
   "source": [
    "write.csv2(cobertura_brasil, 'brasil_basico.csv', row.names = FALSE)"
   ]
  },
  {
   "cell_type": "code",
   "execution_count": 114,
   "metadata": {},
   "outputs": [
    {
     "data": {
      "text/html": [
       "<table>\n",
       "<thead><tr><th scope=col>nome</th><th scope=col>vlTotal</th><th scope=col>vlDesconto</th><th scope=col>vlLiquido</th><th scope=col>ANO</th><th scope=col>MUNICIPIO</th></tr></thead>\n",
       "<tbody>\n",
       "\t<tr><td>ASSISTÃŠNCIA FARMACÃŠUTICA                          </td><td>124205.4                                            </td><td>0                                                   </td><td>124205.4                                            </td><td>2012                                                </td><td>110001                                              </td></tr>\n",
       "\t<tr><td>ATENÃ‡ÃƒO BÃSICA                                   </td><td>2572117.87                                          </td><td>0                                                   </td><td>2572117.87                                          </td><td>2012                                                </td><td>110001                                              </td></tr>\n",
       "\t<tr><td>INVESTIMENTO                                        </td><td>60000                                               </td><td>0                                                   </td><td>60000                                               </td><td>2012                                                </td><td>110001                                              </td></tr>\n",
       "\t<tr><td>MÃ‰DIA E ALTA COMPLEXIDADE AMBULATORIAL E HOSPITALAR</td><td>2013077.58                                          </td><td>960                                                 </td><td>2012117.58                                          </td><td>2012                                                </td><td>110001                                              </td></tr>\n",
       "\t<tr><td>VIGILÃ‚NCIA EM SAÃšDE                               </td><td>246711.2                                            </td><td>0                                                   </td><td>246711.2                                            </td><td>2012                                                </td><td>110001                                              </td></tr>\n",
       "\t<tr><td>ASSISTÃŠNCIA FARMACÃŠUTICA                          </td><td>436259.16                                           </td><td>0                                                   </td><td>436259.16                                           </td><td>2012                                                </td><td>110002                                              </td></tr>\n",
       "</tbody>\n",
       "</table>\n"
      ],
      "text/latex": [
       "\\begin{tabular}{r|llllll}\n",
       " nome & vlTotal & vlDesconto & vlLiquido & ANO & MUNICIPIO\\\\\n",
       "\\hline\n",
       "\t ASSISTÃŠNCIA FARMACÃŠUTICA                           & 124205.4                                             & 0                                                    & 124205.4                                             & 2012                                                 & 110001                                              \\\\\n",
       "\t ATENÃ‡ÃƒO BÃSICA                                    & 2572117.87                                           & 0                                                    & 2572117.87                                           & 2012                                                 & 110001                                              \\\\\n",
       "\t INVESTIMENTO                                         & 60000                                                & 0                                                    & 60000                                                & 2012                                                 & 110001                                              \\\\\n",
       "\t MÃ‰DIA E ALTA COMPLEXIDADE AMBULATORIAL E HOSPITALAR & 2013077.58                                           & 960                                                  & 2012117.58                                           & 2012                                                 & 110001                                              \\\\\n",
       "\t VIGILÃ‚NCIA EM SAÃšDE                                & 246711.2                                             & 0                                                    & 246711.2                                             & 2012                                                 & 110001                                              \\\\\n",
       "\t ASSISTÃŠNCIA FARMACÃŠUTICA                           & 436259.16                                            & 0                                                    & 436259.16                                            & 2012                                                 & 110002                                              \\\\\n",
       "\\end{tabular}\n"
      ],
      "text/markdown": [
       "\n",
       "nome | vlTotal | vlDesconto | vlLiquido | ANO | MUNICIPIO | \n",
       "|---|---|---|---|---|---|\n",
       "| ASSISTÃŠNCIA FARMACÃŠUTICA                           | 124205.4                                             | 0                                                    | 124205.4                                             | 2012                                                 | 110001                                               | \n",
       "| ATENÃ‡ÃƒO BÃSICA                                    | 2572117.87                                           | 0                                                    | 2572117.87                                           | 2012                                                 | 110001                                               | \n",
       "| INVESTIMENTO                                         | 60000                                                | 0                                                    | 60000                                                | 2012                                                 | 110001                                               | \n",
       "| MÃ‰DIA E ALTA COMPLEXIDADE AMBULATORIAL E HOSPITALAR | 2013077.58                                           | 960                                                  | 2012117.58                                           | 2012                                                 | 110001                                               | \n",
       "| VIGILÃ‚NCIA EM SAÃšDE                                | 246711.2                                             | 0                                                    | 246711.2                                             | 2012                                                 | 110001                                               | \n",
       "| ASSISTÃŠNCIA FARMACÃŠUTICA                           | 436259.16                                            | 0                                                    | 436259.16                                            | 2012                                                 | 110002                                               | \n",
       "\n",
       "\n"
      ],
      "text/plain": [
       "  nome                                                 vlTotal    vlDesconto\n",
       "1 ASSISTÃŠNCIA FARMACÃŠUTICA                           124205.4   0         \n",
       "2 ATENÃ‡ÃƒO BÃ\\201SICA                                    2572117.87 0         \n",
       "3 INVESTIMENTO                                         60000      0         \n",
       "4 MÃ‰DIA E ALTA COMPLEXIDADE AMBULATORIAL E HOSPITALAR 2013077.58 960       \n",
       "5 VIGILÃ‚NCIA EM SAÃšDE                                246711.2   0         \n",
       "6 ASSISTÃŠNCIA FARMACÃŠUTICA                           436259.16  0         \n",
       "  vlLiquido  ANO  MUNICIPIO\n",
       "1 124205.4   2012 110001   \n",
       "2 2572117.87 2012 110001   \n",
       "3 60000      2012 110001   \n",
       "4 2012117.58 2012 110001   \n",
       "5 246711.2   2012 110001   \n",
       "6 436259.16  2012 110002   "
      ]
     },
     "metadata": {},
     "output_type": "display_data"
    }
   ],
   "source": [
    "#recursos repassados pelo Fundo Nacional de Saúde (FNS) para os municípios. O valor que já representou no passado quase 80% do orçamento de saúde dos municípios, hoje está na média dos 30%.\n",
    "fns <- read.csv2('investimentos-sus-2012-2017.csv', header = TRUE)\n",
    "head(fns)"
   ]
  },
  {
   "cell_type": "code",
   "execution_count": 135,
   "metadata": {},
   "outputs": [],
   "source": [
    "fns$vlLiquido <- as.numeric(as.character(fns$vlLiquido))\n",
    "fns_reduced <- fns %>%\n",
    "  filter(ANO == 2017) %>%\n",
    "  group_by(MUNICIPIO) %>%\n",
    "  summarise(Total_Investido = sum(vlLiquido))\n"
   ]
  },
  {
   "cell_type": "code",
   "execution_count": 136,
   "metadata": {},
   "outputs": [
    {
     "data": {
      "text/html": [
       "<table>\n",
       "<thead><tr><th scope=col>MUNICIPIO</th><th scope=col>Total_Investido</th></tr></thead>\n",
       "<tbody>\n",
       "\t<tr><td>110001  </td><td> 4880383</td></tr>\n",
       "\t<tr><td>110002  </td><td>22314782</td></tr>\n",
       "\t<tr><td>110003  </td><td> 1406911</td></tr>\n",
       "\t<tr><td>110004  </td><td>17907238</td></tr>\n",
       "\t<tr><td>110005  </td><td> 4084366</td></tr>\n",
       "\t<tr><td>110006  </td><td> 3492792</td></tr>\n",
       "</tbody>\n",
       "</table>\n"
      ],
      "text/latex": [
       "\\begin{tabular}{r|ll}\n",
       " MUNICIPIO & Total\\_Investido\\\\\n",
       "\\hline\n",
       "\t 110001   &  4880383\\\\\n",
       "\t 110002   & 22314782\\\\\n",
       "\t 110003   &  1406911\\\\\n",
       "\t 110004   & 17907238\\\\\n",
       "\t 110005   &  4084366\\\\\n",
       "\t 110006   &  3492792\\\\\n",
       "\\end{tabular}\n"
      ],
      "text/markdown": [
       "\n",
       "MUNICIPIO | Total_Investido | \n",
       "|---|---|---|---|---|---|\n",
       "| 110001   |  4880383 | \n",
       "| 110002   | 22314782 | \n",
       "| 110003   |  1406911 | \n",
       "| 110004   | 17907238 | \n",
       "| 110005   |  4084366 | \n",
       "| 110006   |  3492792 | \n",
       "\n",
       "\n"
      ],
      "text/plain": [
       "  MUNICIPIO Total_Investido\n",
       "1 110001     4880383       \n",
       "2 110002    22314782       \n",
       "3 110003     1406911       \n",
       "4 110004    17907238       \n",
       "5 110005     4084366       \n",
       "6 110006     3492792       "
      ]
     },
     "metadata": {},
     "output_type": "display_data"
    }
   ],
   "source": [
    "head(fns_reduced)"
   ]
  },
  {
   "cell_type": "code",
   "execution_count": 137,
   "metadata": {},
   "outputs": [],
   "source": [
    "fns_tmp <- fns %>%\n",
    "  filter(ANO == 2017 & nome == 'ATENÇÃO BÁSICA') %>%\n",
    "  select(MUNICIPIO, vlLiquido)"
   ]
  },
  {
   "cell_type": "code",
   "execution_count": 138,
   "metadata": {},
   "outputs": [],
   "source": [
    "fns_reduced <- merge(fns_reduced,fns_tmp)\n",
    "names(fns_reduced)[1] <- 'code'\n",
    "names(fns_reduced)[3] <- 'Total_AB'"
   ]
  },
  {
   "cell_type": "code",
   "execution_count": 139,
   "metadata": {},
   "outputs": [],
   "source": [
    "fns_reduced$percent_ab <- (fns_reduced$Total_AB/fns_reduced$Total_Investido)*100"
   ]
  },
  {
   "cell_type": "code",
   "execution_count": 140,
   "metadata": {},
   "outputs": [
    {
     "data": {
      "text/html": [
       "<table>\n",
       "<thead><tr><th scope=col>code</th><th scope=col>Total_Investido</th><th scope=col>Total_AB</th><th scope=col>percent_ab</th></tr></thead>\n",
       "<tbody>\n",
       "</tbody>\n",
       "</table>\n"
      ],
      "text/latex": [
       "\\begin{tabular}{r|llll}\n",
       " code & Total\\_Investido & Total\\_AB & percent\\_ab\\\\\n",
       "\\hline\n",
       "\\end{tabular}\n"
      ],
      "text/markdown": [
       "\n",
       "code | Total_Investido | Total_AB | percent_ab | \n",
       "||\n",
       "\n",
       "\n"
      ],
      "text/plain": [
       "     code Total_Investido Total_AB percent_ab"
      ]
     },
     "metadata": {},
     "output_type": "display_data"
    }
   ],
   "source": [
    "fns_reduced\n"
   ]
  },
  {
   "cell_type": "code",
   "execution_count": null,
   "metadata": {},
   "outputs": [],
   "source": []
  }
 ],
 "metadata": {
  "kernelspec": {
   "display_name": "R",
   "language": "R",
   "name": "ir"
  },
  "language_info": {
   "codemirror_mode": "r",
   "file_extension": ".r",
   "mimetype": "text/x-r-source",
   "name": "R",
   "pygments_lexer": "r",
   "version": "3.5.1"
  }
 },
 "nbformat": 4,
 "nbformat_minor": 2
}
