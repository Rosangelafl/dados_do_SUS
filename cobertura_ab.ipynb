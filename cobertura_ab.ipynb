{
 "cells": [
  {
   "cell_type": "code",
   "execution_count": 1,
   "metadata": {},
   "outputs": [
    {
     "name": "stdout",
     "output_type": "stream",
     "text": [
      "['CO_UNIDADE;\"CO_CNES\";\"NU_CNPJ_MANTENEDORA\";\"TP_PFPJ\";\"NIVEL_DEP\";\"NO_RAZAO_SOCIAL\";\"NO_FANTASIA\";\"NO_LOGRADOURO\";\"NU_ENDERECO\";\"NO_COMPLEMENTO\";\"NO_BAIRRO\";\"CO_CEP\";\"CO_REGIAO_SAUDE\";\"CO_MICRO_REGIAO\";\"CO_DISTRITO_SANITARIO\";\"CO_DISTRITO_ADMINISTRATIVO\";\"NU_TELEFONE\";\"NU_FAX\";\"NO_EMAIL\";\"NU_CPF\";\"NU_CNPJ\";\"CO_ATIVIDADE\";\"CO_CLIENTELA\";\"NU_ALVARA\";\"DT_EXPEDICAO\";\"TP_ORGAO_EXPEDIDOR\";\"DT_VAL_LIC_SANI\";\"TP_LIC_SANI\";\"TP_UNIDADE\";\"CO_TURNO_ATENDIMENTO\";\"CO_ESTADO_GESTOR\";\"CO_MUNICIPIO_GESTOR\";\"TO_CHAR(DT_ATUALIZACAO', '\\'DD/MM/YYYY\\')\";\"CO_USUARIO\";\"CO_CPFDIRETORCLN\";\"REG_DIRETORCLN\";\"ST_ADESAO_FILANTROP\";\"CO_MOTIVO_DESAB\";\"NO_URL\";\"NU_LATITUDE\";\"NU_LONGITUDE\";\"TO_CHAR(DT_ATU_GEO', '\\'DD/MM/YYYY\\')\";\"NO_USUARIO_GEO\";\"CO_NATUREZA_JUR\";\"TP_ESTAB_SEMPRE_ABERTO\";\"ST_GERACREDITO_GERENTE_SGIF\";\"ST_CONEXAO_INTERNET\";\"CO_TIPO_UNIDADE\";\"NO_FANTASIA_ABREV\";\"TP_GESTAO\";\"TO_CHAR(DT_ATUALIZACAO_ORIGEM', '\\'DD/MM/YYYY\\')\"']\n"
     ]
    }
   ],
   "source": [
    "import csv\n",
    "estabelecimentos = open('tbEstabelecimento201809.csv')\n",
    "leitor = csv.reader(estabelecimentos)\n",
    "print(next(leitor))"
   ]
  },
  {
   "cell_type": "code",
   "execution_count": 2,
   "metadata": {},
   "outputs": [],
   "source": [
    "import pandas as pd\n",
    "import numpy as np"
   ]
  },
  {
   "cell_type": "code",
   "execution_count": 3,
   "metadata": {},
   "outputs": [],
   "source": [
    "cobertura_ab = pd.read_csv('tbEstabelecimento201809.csv', sep=';', encoding='utf8', low_memory=False)"
   ]
  },
  {
   "cell_type": "code",
   "execution_count": 4,
   "metadata": {},
   "outputs": [
    {
     "data": {
      "text/html": [
       "<div>\n",
       "<style scoped>\n",
       "    .dataframe tbody tr th:only-of-type {\n",
       "        vertical-align: middle;\n",
       "    }\n",
       "\n",
       "    .dataframe tbody tr th {\n",
       "        vertical-align: top;\n",
       "    }\n",
       "\n",
       "    .dataframe thead th {\n",
       "        text-align: right;\n",
       "    }\n",
       "</style>\n",
       "<table border=\"1\" class=\"dataframe\">\n",
       "  <thead>\n",
       "    <tr style=\"text-align: right;\">\n",
       "      <th></th>\n",
       "      <th>CO_UNIDADE</th>\n",
       "      <th>CO_CNES</th>\n",
       "      <th>NU_CNPJ_MANTENEDORA</th>\n",
       "      <th>TP_PFPJ</th>\n",
       "      <th>NIVEL_DEP</th>\n",
       "      <th>NO_RAZAO_SOCIAL</th>\n",
       "      <th>NO_FANTASIA</th>\n",
       "      <th>NO_LOGRADOURO</th>\n",
       "      <th>NU_ENDERECO</th>\n",
       "      <th>NO_COMPLEMENTO</th>\n",
       "      <th>...</th>\n",
       "      <th>TO_CHAR(DT_ATU_GEO,'DD/MM/YYYY')</th>\n",
       "      <th>NO_USUARIO_GEO</th>\n",
       "      <th>CO_NATUREZA_JUR</th>\n",
       "      <th>TP_ESTAB_SEMPRE_ABERTO</th>\n",
       "      <th>ST_GERACREDITO_GERENTE_SGIF</th>\n",
       "      <th>ST_CONEXAO_INTERNET</th>\n",
       "      <th>CO_TIPO_UNIDADE</th>\n",
       "      <th>NO_FANTASIA_ABREV</th>\n",
       "      <th>TP_GESTAO</th>\n",
       "      <th>TO_CHAR(DT_ATUALIZACAO_ORIGEM,'DD/MM/YYYY')</th>\n",
       "    </tr>\n",
       "  </thead>\n",
       "  <tbody>\n",
       "    <tr>\n",
       "      <th>0</th>\n",
       "      <td>2928707453280</td>\n",
       "      <td>7453280</td>\n",
       "      <td>1.382548e+13</td>\n",
       "      <td>3</td>\n",
       "      <td>3</td>\n",
       "      <td>PREFEITURA MUNICIPAL DE SANTO ANTONIO DE JESUS</td>\n",
       "      <td>POSTO DE SAUDE MINA DO SAPE</td>\n",
       "      <td>COMUNIDADE MINA DO SAPE</td>\n",
       "      <td>S/N</td>\n",
       "      <td>CASA</td>\n",
       "      <td>...</td>\n",
       "      <td>NaN</td>\n",
       "      <td>NaN</td>\n",
       "      <td>1244.0</td>\n",
       "      <td>NaN</td>\n",
       "      <td>NaN</td>\n",
       "      <td>N</td>\n",
       "      <td>NaN</td>\n",
       "      <td>NaN</td>\n",
       "      <td>M</td>\n",
       "      <td>03/04/2014</td>\n",
       "    </tr>\n",
       "    <tr>\n",
       "      <th>1</th>\n",
       "      <td>2301307450184</td>\n",
       "      <td>7450184</td>\n",
       "      <td>7.539984e+12</td>\n",
       "      <td>3</td>\n",
       "      <td>3</td>\n",
       "      <td>PREFEITURA MUNICIPAL DE SAUDE</td>\n",
       "      <td>ACADEMIA DA SAUDE DE ARARIPE</td>\n",
       "      <td>AV ELISIO ALVES DE ALENCAR</td>\n",
       "      <td>S/N</td>\n",
       "      <td>NaN</td>\n",
       "      <td>...</td>\n",
       "      <td>04/09/2018</td>\n",
       "      <td>0130ARA</td>\n",
       "      <td>1244.0</td>\n",
       "      <td>N</td>\n",
       "      <td>NaN</td>\n",
       "      <td>S</td>\n",
       "      <td>NaN</td>\n",
       "      <td>NaN</td>\n",
       "      <td>M</td>\n",
       "      <td>02/04/2014</td>\n",
       "    </tr>\n",
       "    <tr>\n",
       "      <th>2</th>\n",
       "      <td>2307307462956</td>\n",
       "      <td>7462956</td>\n",
       "      <td>NaN</td>\n",
       "      <td>1</td>\n",
       "      <td>1</td>\n",
       "      <td>CONSULTORIO DE PSICOLOGIA FLAVIA GONCALVES MACEDO</td>\n",
       "      <td>CONSULTORIO DE PSICOLOGIA FLAVIA GONCALVES MACEDO</td>\n",
       "      <td>RUA DA CONCEICAO</td>\n",
       "      <td>818</td>\n",
       "      <td>NaN</td>\n",
       "      <td>...</td>\n",
       "      <td>27/12/2017</td>\n",
       "      <td>GORETTI</td>\n",
       "      <td>4000.0</td>\n",
       "      <td>N</td>\n",
       "      <td>NaN</td>\n",
       "      <td>S</td>\n",
       "      <td>NaN</td>\n",
       "      <td>NaN</td>\n",
       "      <td>M</td>\n",
       "      <td>02/04/2014</td>\n",
       "    </tr>\n",
       "  </tbody>\n",
       "</table>\n",
       "<p>3 rows × 51 columns</p>\n",
       "</div>"
      ],
      "text/plain": [
       "      CO_UNIDADE  CO_CNES  NU_CNPJ_MANTENEDORA  TP_PFPJ  NIVEL_DEP  \\\n",
       "0  2928707453280  7453280         1.382548e+13        3          3   \n",
       "1  2301307450184  7450184         7.539984e+12        3          3   \n",
       "2  2307307462956  7462956                  NaN        1          1   \n",
       "\n",
       "                                     NO_RAZAO_SOCIAL  \\\n",
       "0     PREFEITURA MUNICIPAL DE SANTO ANTONIO DE JESUS   \n",
       "1                      PREFEITURA MUNICIPAL DE SAUDE   \n",
       "2  CONSULTORIO DE PSICOLOGIA FLAVIA GONCALVES MACEDO   \n",
       "\n",
       "                                         NO_FANTASIA  \\\n",
       "0                        POSTO DE SAUDE MINA DO SAPE   \n",
       "1                       ACADEMIA DA SAUDE DE ARARIPE   \n",
       "2  CONSULTORIO DE PSICOLOGIA FLAVIA GONCALVES MACEDO   \n",
       "\n",
       "                NO_LOGRADOURO NU_ENDERECO NO_COMPLEMENTO  \\\n",
       "0     COMUNIDADE MINA DO SAPE         S/N           CASA   \n",
       "1  AV ELISIO ALVES DE ALENCAR         S/N            NaN   \n",
       "2            RUA DA CONCEICAO         818            NaN   \n",
       "\n",
       "                      ...                       \\\n",
       "0                     ...                        \n",
       "1                     ...                        \n",
       "2                     ...                        \n",
       "\n",
       "  TO_CHAR(DT_ATU_GEO,'DD/MM/YYYY')  NO_USUARIO_GEO CO_NATUREZA_JUR  \\\n",
       "0                              NaN             NaN          1244.0   \n",
       "1                       04/09/2018         0130ARA          1244.0   \n",
       "2                       27/12/2017         GORETTI          4000.0   \n",
       "\n",
       "  TP_ESTAB_SEMPRE_ABERTO ST_GERACREDITO_GERENTE_SGIF ST_CONEXAO_INTERNET  \\\n",
       "0                    NaN                         NaN                   N   \n",
       "1                      N                         NaN                   S   \n",
       "2                      N                         NaN                   S   \n",
       "\n",
       "  CO_TIPO_UNIDADE NO_FANTASIA_ABREV TP_GESTAO  \\\n",
       "0             NaN               NaN         M   \n",
       "1             NaN               NaN         M   \n",
       "2             NaN               NaN         M   \n",
       "\n",
       "   TO_CHAR(DT_ATUALIZACAO_ORIGEM,'DD/MM/YYYY')  \n",
       "0                                   03/04/2014  \n",
       "1                                   02/04/2014  \n",
       "2                                   02/04/2014  \n",
       "\n",
       "[3 rows x 51 columns]"
      ]
     },
     "execution_count": 4,
     "metadata": {},
     "output_type": "execute_result"
    }
   ],
   "source": [
    "cobertura_ab.head(3)"
   ]
  },
  {
   "cell_type": "code",
   "execution_count": 5,
   "metadata": {},
   "outputs": [
    {
     "data": {
      "text/plain": [
       "364701"
      ]
     },
     "execution_count": 5,
     "metadata": {},
     "output_type": "execute_result"
    }
   ],
   "source": [
    "cobertura_ab['CO_CNES'].count()"
   ]
  },
  {
   "cell_type": "code",
   "execution_count": 6,
   "metadata": {},
   "outputs": [],
   "source": [
    "#cobertura_ab.select_dtypes([np.CO_CNES]).columns.tolist().str.find('068') \n",
    "#for col in cobertura_ab.columns.tolist().astype(str)\n",
    "\n",
    "#cod_pic = cobertura_ab[cobertura_ab['CO_CNES'].str('068')].count()\n",
    "#cod_pic"
   ]
  },
  {
   "cell_type": "code",
   "execution_count": 7,
   "metadata": {},
   "outputs": [
    {
     "data": {
      "text/plain": [
       "4    359897\n",
       "3      3425\n",
       "1       756\n",
       "2       468\n",
       "5       155\n",
       "Name: CO_ATIVIDADE, dtype: int64"
      ]
     },
     "execution_count": 7,
     "metadata": {},
     "output_type": "execute_result"
    }
   ],
   "source": [
    "cobertura_ab['CO_ATIVIDADE'].value_counts()"
   ]
  },
  {
   "cell_type": "code",
   "execution_count": 8,
   "metadata": {},
   "outputs": [
    {
     "data": {
      "text/html": [
       "<div>\n",
       "<style scoped>\n",
       "    .dataframe tbody tr th:only-of-type {\n",
       "        vertical-align: middle;\n",
       "    }\n",
       "\n",
       "    .dataframe tbody tr th {\n",
       "        vertical-align: top;\n",
       "    }\n",
       "\n",
       "    .dataframe thead th {\n",
       "        text-align: right;\n",
       "    }\n",
       "</style>\n",
       "<table border=\"1\" class=\"dataframe\">\n",
       "  <thead>\n",
       "    <tr style=\"text-align: right;\">\n",
       "      <th></th>\n",
       "      <th>CO_CNES</th>\n",
       "      <th>NIVEL_DEP</th>\n",
       "      <th>CO_ATIVIDADE</th>\n",
       "      <th>CO_CLIENTELA</th>\n",
       "      <th>TP_UNIDADE</th>\n",
       "      <th>NU_LATITUDE</th>\n",
       "      <th>NU_LONGITUDE</th>\n",
       "      <th>TP_GESTAO</th>\n",
       "    </tr>\n",
       "  </thead>\n",
       "  <tbody>\n",
       "    <tr>\n",
       "      <th>0</th>\n",
       "      <td>7453280</td>\n",
       "      <td>3</td>\n",
       "      <td>4</td>\n",
       "      <td>3.0</td>\n",
       "      <td>1</td>\n",
       "      <td>NaN</td>\n",
       "      <td>NaN</td>\n",
       "      <td>M</td>\n",
       "    </tr>\n",
       "    <tr>\n",
       "      <th>1</th>\n",
       "      <td>7450184</td>\n",
       "      <td>3</td>\n",
       "      <td>4</td>\n",
       "      <td>1.0</td>\n",
       "      <td>74</td>\n",
       "      <td>-7.213000</td>\n",
       "      <td>-40.046</td>\n",
       "      <td>M</td>\n",
       "    </tr>\n",
       "    <tr>\n",
       "      <th>2</th>\n",
       "      <td>7462956</td>\n",
       "      <td>1</td>\n",
       "      <td>4</td>\n",
       "      <td>1.0</td>\n",
       "      <td>22</td>\n",
       "      <td>-7.204114</td>\n",
       "      <td>-39.3153054</td>\n",
       "      <td>M</td>\n",
       "    </tr>\n",
       "    <tr>\n",
       "      <th>3</th>\n",
       "      <td>7462476</td>\n",
       "      <td>3</td>\n",
       "      <td>4</td>\n",
       "      <td>1.0</td>\n",
       "      <td>2</td>\n",
       "      <td>NaN</td>\n",
       "      <td>NaN</td>\n",
       "      <td>M</td>\n",
       "    </tr>\n",
       "    <tr>\n",
       "      <th>4</th>\n",
       "      <td>7416490</td>\n",
       "      <td>3</td>\n",
       "      <td>4</td>\n",
       "      <td>3.0</td>\n",
       "      <td>71</td>\n",
       "      <td>-6.455000</td>\n",
       "      <td>-36.203</td>\n",
       "      <td>M</td>\n",
       "    </tr>\n",
       "  </tbody>\n",
       "</table>\n",
       "</div>"
      ],
      "text/plain": [
       "   CO_CNES  NIVEL_DEP  CO_ATIVIDADE  CO_CLIENTELA  TP_UNIDADE  NU_LATITUDE  \\\n",
       "0  7453280          3             4           3.0           1          NaN   \n",
       "1  7450184          3             4           1.0          74    -7.213000   \n",
       "2  7462956          1             4           1.0          22    -7.204114   \n",
       "3  7462476          3             4           1.0           2          NaN   \n",
       "4  7416490          3             4           3.0          71    -6.455000   \n",
       "\n",
       "  NU_LONGITUDE TP_GESTAO  \n",
       "0          NaN         M  \n",
       "1      -40.046         M  \n",
       "2  -39.3153054         M  \n",
       "3          NaN         M  \n",
       "4      -36.203         M  "
      ]
     },
     "execution_count": 8,
     "metadata": {},
     "output_type": "execute_result"
    }
   ],
   "source": [
    "cobertura_ab = pd.read_csv('tbEstabelecimento201809.csv', sep=';', encoding='utf8', usecols=[1, 4, 21, 22, 28, 39, 40, 49])\n",
    "cobertura_ab.head()"
   ]
  },
  {
   "cell_type": "code",
   "execution_count": 9,
   "metadata": {},
   "outputs": [],
   "source": [
    "cobertura_ab.fillna(0,inplace=True)                       #substituindo os valores faltantes por 0"
   ]
  },
  {
   "cell_type": "code",
   "execution_count": 10,
   "metadata": {},
   "outputs": [
    {
     "data": {
      "text/plain": [
       "Index(['CO_CNES', 'NIVEL_DEP', 'CO_ATIVIDADE', 'CO_CLIENTELA', 'TP_UNIDADE',\n",
       "       'NU_LATITUDE', 'NU_LONGITUDE', 'TP_GESTAO'],\n",
       "      dtype='object')"
      ]
     },
     "execution_count": 10,
     "metadata": {},
     "output_type": "execute_result"
    }
   ],
   "source": [
    "cobertura_ab.columns"
   ]
  },
  {
   "cell_type": "code",
   "execution_count": 11,
   "metadata": {},
   "outputs": [
    {
     "data": {
      "text/html": [
       "<div>\n",
       "<style scoped>\n",
       "    .dataframe tbody tr th:only-of-type {\n",
       "        vertical-align: middle;\n",
       "    }\n",
       "\n",
       "    .dataframe tbody tr th {\n",
       "        vertical-align: top;\n",
       "    }\n",
       "\n",
       "    .dataframe thead th {\n",
       "        text-align: right;\n",
       "    }\n",
       "</style>\n",
       "<table border=\"1\" class=\"dataframe\">\n",
       "  <thead>\n",
       "    <tr style=\"text-align: right;\">\n",
       "      <th></th>\n",
       "      <th>CO_CNES</th>\n",
       "      <th>TP_UNIDADE</th>\n",
       "      <th>NU_LATITUDE</th>\n",
       "      <th>NU_LONGITUDE</th>\n",
       "    </tr>\n",
       "  </thead>\n",
       "  <tbody>\n",
       "    <tr>\n",
       "      <th>0</th>\n",
       "      <td>7453280</td>\n",
       "      <td>1</td>\n",
       "      <td>NaN</td>\n",
       "      <td>NaN</td>\n",
       "    </tr>\n",
       "    <tr>\n",
       "      <th>1</th>\n",
       "      <td>7450184</td>\n",
       "      <td>74</td>\n",
       "      <td>-7.213000</td>\n",
       "      <td>-40.046</td>\n",
       "    </tr>\n",
       "    <tr>\n",
       "      <th>2</th>\n",
       "      <td>7462956</td>\n",
       "      <td>22</td>\n",
       "      <td>-7.204114</td>\n",
       "      <td>-39.3153054</td>\n",
       "    </tr>\n",
       "    <tr>\n",
       "      <th>3</th>\n",
       "      <td>7462476</td>\n",
       "      <td>2</td>\n",
       "      <td>NaN</td>\n",
       "      <td>NaN</td>\n",
       "    </tr>\n",
       "    <tr>\n",
       "      <th>4</th>\n",
       "      <td>7416490</td>\n",
       "      <td>71</td>\n",
       "      <td>-6.455000</td>\n",
       "      <td>-36.203</td>\n",
       "    </tr>\n",
       "  </tbody>\n",
       "</table>\n",
       "</div>"
      ],
      "text/plain": [
       "   CO_CNES  TP_UNIDADE  NU_LATITUDE NU_LONGITUDE\n",
       "0  7453280           1          NaN          NaN\n",
       "1  7450184          74    -7.213000      -40.046\n",
       "2  7462956          22    -7.204114  -39.3153054\n",
       "3  7462476           2          NaN          NaN\n",
       "4  7416490          71    -6.455000      -36.203"
      ]
     },
     "execution_count": 11,
     "metadata": {},
     "output_type": "execute_result"
    }
   ],
   "source": [
    "mapa_ab = pd.read_csv('tbEstabelecimento201809.csv', sep=';', encoding='utf8', usecols=[1, 28, 39, 40])\n",
    "mapa_ab.head()"
   ]
  },
  {
   "cell_type": "code",
   "execution_count": 19,
   "metadata": {},
   "outputs": [
    {
     "data": {
      "text/plain": [
       "364701"
      ]
     },
     "execution_count": 19,
     "metadata": {},
     "output_type": "execute_result"
    }
   ],
   "source": [
    "cobertura_ab['CO_CNES'].count()"
   ]
  },
  {
   "cell_type": "code",
   "execution_count": 13,
   "metadata": {},
   "outputs": [
    {
     "data": {
      "text/plain": [
       "array([4, 2, 3, 1, 5], dtype=int64)"
      ]
     },
     "execution_count": 13,
     "metadata": {},
     "output_type": "execute_result"
    }
   ],
   "source": [
    "cobertura_ab['CO_ATIVIDADE'].unique()"
   ]
  },
  {
   "cell_type": "code",
   "execution_count": 14,
   "metadata": {},
   "outputs": [
    {
     "data": {
      "text/html": [
       "<div>\n",
       "<style scoped>\n",
       "    .dataframe tbody tr th:only-of-type {\n",
       "        vertical-align: middle;\n",
       "    }\n",
       "\n",
       "    .dataframe tbody tr th {\n",
       "        vertical-align: top;\n",
       "    }\n",
       "\n",
       "    .dataframe thead th {\n",
       "        text-align: right;\n",
       "    }\n",
       "</style>\n",
       "<table border=\"1\" class=\"dataframe\">\n",
       "  <thead>\n",
       "    <tr style=\"text-align: right;\">\n",
       "      <th></th>\n",
       "      <th>CO_GESTAO</th>\n",
       "      <th>DS_GESTAO</th>\n",
       "      <th>TP_PROG</th>\n",
       "    </tr>\n",
       "  </thead>\n",
       "  <tbody>\n",
       "    <tr>\n",
       "      <th>0</th>\n",
       "      <td>1</td>\n",
       "      <td>ATENCAO BASICA</td>\n",
       "      <td>1</td>\n",
       "    </tr>\n",
       "    <tr>\n",
       "      <th>1</th>\n",
       "      <td>2</td>\n",
       "      <td>MEDIA COMPLEXIDADE</td>\n",
       "      <td>1</td>\n",
       "    </tr>\n",
       "    <tr>\n",
       "      <th>2</th>\n",
       "      <td>3</td>\n",
       "      <td>INTERNACAO</td>\n",
       "      <td>2</td>\n",
       "    </tr>\n",
       "    <tr>\n",
       "      <th>3</th>\n",
       "      <td>4</td>\n",
       "      <td>ALTA COMPLEXIDADE</td>\n",
       "      <td>1</td>\n",
       "    </tr>\n",
       "    <tr>\n",
       "      <th>4</th>\n",
       "      <td>5</td>\n",
       "      <td>MEDIA COMPLEXIDADE</td>\n",
       "      <td>2</td>\n",
       "    </tr>\n",
       "    <tr>\n",
       "      <th>5</th>\n",
       "      <td>6</td>\n",
       "      <td>ALTA COMPLEXIDADE</td>\n",
       "      <td>2</td>\n",
       "    </tr>\n",
       "    <tr>\n",
       "      <th>6</th>\n",
       "      <td>0</td>\n",
       "      <td>NAO SE APLICA</td>\n",
       "      <td>0</td>\n",
       "    </tr>\n",
       "  </tbody>\n",
       "</table>\n",
       "</div>"
      ],
      "text/plain": [
       "   CO_GESTAO           DS_GESTAO  TP_PROG\n",
       "0          1      ATENCAO BASICA        1\n",
       "1          2  MEDIA COMPLEXIDADE        1\n",
       "2          3          INTERNACAO        2\n",
       "3          4   ALTA COMPLEXIDADE        1\n",
       "4          5  MEDIA COMPLEXIDADE        2\n",
       "5          6   ALTA COMPLEXIDADE        2\n",
       "6          0       NAO SE APLICA        0"
      ]
     },
     "execution_count": 14,
     "metadata": {},
     "output_type": "execute_result"
    }
   ],
   "source": [
    "gestao = pd.read_csv('tbGestao201809.csv', sep=';')\n",
    "gestao"
   ]
  },
  {
   "cell_type": "code",
   "execution_count": 15,
   "metadata": {},
   "outputs": [
    {
     "data": {
      "text/plain": [
       "22    180265\n",
       "36     55028\n",
       "2      39253\n",
       "39     27822\n",
       "1      11328\n",
       "4       8770\n",
       "68      6145\n",
       "5       5795\n",
       "42      4769\n",
       "43      3573\n",
       "70      3100\n",
       "50      3048\n",
       "74      2635\n",
       "40      1497\n",
       "81      1304\n",
       "73      1284\n",
       "7       1245\n",
       "71      1200\n",
       "72      1148\n",
       "77       750\n",
       "62       731\n",
       "15       703\n",
       "60       695\n",
       "20       448\n",
       "80       447\n",
       "69       409\n",
       "83       373\n",
       "76       238\n",
       "82       139\n",
       "64       139\n",
       "21       127\n",
       "75        89\n",
       "32        63\n",
       "78        39\n",
       "67        38\n",
       "61        33\n",
       "79        31\n",
       "Name: TP_UNIDADE, dtype: int64"
      ]
     },
     "execution_count": 15,
     "metadata": {},
     "output_type": "execute_result"
    }
   ],
   "source": [
    "cobertura_ab['TP_UNIDADE'].value_counts()"
   ]
  },
  {
   "cell_type": "code",
   "execution_count": 16,
   "metadata": {},
   "outputs": [
    {
     "data": {
      "text/plain": [
       "22    180265\n",
       "36     55028\n",
       "2      39253\n",
       "39     27822\n",
       "1      11328\n",
       "Name: TP_UNIDADE, dtype: int64"
      ]
     },
     "execution_count": 16,
     "metadata": {},
     "output_type": "execute_result"
    }
   ],
   "source": [
    "unidades = cobertura_ab['TP_UNIDADE'].value_counts()\n",
    "unidades.head()"
   ]
  },
  {
   "cell_type": "code",
   "execution_count": 17,
   "metadata": {},
   "outputs": [],
   "source": [
    "tipos_unidades = pd.read_excel('tipos_unidade_saude.xlsx')"
   ]
  },
  {
   "cell_type": "code",
   "execution_count": 18,
   "metadata": {},
   "outputs": [
    {
     "data": {
      "text/plain": [
       "Index(['unidades_tipo', 'quantidade', 'conceito', 'legislação'], dtype='object')"
      ]
     },
     "execution_count": 18,
     "metadata": {},
     "output_type": "execute_result"
    }
   ],
   "source": [
    "tipos_unidades.columns"
   ]
  },
  {
   "cell_type": "code",
   "execution_count": 20,
   "metadata": {},
   "outputs": [
    {
     "data": {
      "text/html": [
       "<div>\n",
       "<style scoped>\n",
       "    .dataframe tbody tr th:only-of-type {\n",
       "        vertical-align: middle;\n",
       "    }\n",
       "\n",
       "    .dataframe tbody tr th {\n",
       "        vertical-align: top;\n",
       "    }\n",
       "\n",
       "    .dataframe thead th {\n",
       "        text-align: right;\n",
       "    }\n",
       "</style>\n",
       "<table border=\"1\" class=\"dataframe\">\n",
       "  <thead>\n",
       "    <tr style=\"text-align: right;\">\n",
       "      <th></th>\n",
       "      <th>unidades_tipo</th>\n",
       "      <th>quantidade</th>\n",
       "      <th>conceito</th>\n",
       "      <th>legislação</th>\n",
       "    </tr>\n",
       "  </thead>\n",
       "  <tbody>\n",
       "    <tr>\n",
       "      <th>0</th>\n",
       "      <td>1 POSTO DE SAÚDE</td>\n",
       "      <td>11328.0</td>\n",
       "      <td>Unidade destinada à prestação de assistência a...</td>\n",
       "      <td>PT SAS 511 DE</td>\n",
       "    </tr>\n",
       "    <tr>\n",
       "      <th>1</th>\n",
       "      <td>2 CENTRO DE SAÚDE/UNIDADE BÁSICA DE SAÚDE</td>\n",
       "      <td>39253.0</td>\n",
       "      <td>Unidade para realização de atendimentos de\\t\\t...</td>\n",
       "      <td>PT SAS 511 DE</td>\n",
       "    </tr>\n",
       "    <tr>\n",
       "      <th>2</th>\n",
       "      <td>4 POLICLÍNICA</td>\n",
       "      <td>8770.0</td>\n",
       "      <td>Unidade de saúde para prestação de atendimento...</td>\n",
       "      <td>PT SAS 511 DE</td>\n",
       "    </tr>\n",
       "    <tr>\n",
       "      <th>3</th>\n",
       "      <td>5 HOSPITAL GERAL</td>\n",
       "      <td>5795.0</td>\n",
       "      <td>Hospital destinado à prestação de atendimento\\...</td>\n",
       "      <td>PT SAS 511 DE</td>\n",
       "    </tr>\n",
       "    <tr>\n",
       "      <th>4</th>\n",
       "      <td>7 HOSPITAL ESPECIALIZADO</td>\n",
       "      <td>1245.0</td>\n",
       "      <td>Hospital destinado à prestação de assistência ...</td>\n",
       "      <td>PT SAS 511 DE</td>\n",
       "    </tr>\n",
       "    <tr>\n",
       "      <th>5</th>\n",
       "      <td>15 UNIDADE MISTA</td>\n",
       "      <td>703.0</td>\n",
       "      <td>Unidade de saúde básica destinada à prestação\\...</td>\n",
       "      <td>PT SAS 511 DE</td>\n",
       "    </tr>\n",
       "    <tr>\n",
       "      <th>6</th>\n",
       "      <td>20 PRONTO SOCORRO GERAL</td>\n",
       "      <td>448.0</td>\n",
       "      <td>Unidade destinada à prestação de assistência a...</td>\n",
       "      <td>PT SAS 511 DE</td>\n",
       "    </tr>\n",
       "    <tr>\n",
       "      <th>7</th>\n",
       "      <td>21 PRONTO SOCORRO ESPECIALIZADO</td>\n",
       "      <td>127.0</td>\n",
       "      <td>Unidade destinada à prestação de assistência e...</td>\n",
       "      <td>PT SAS 511 DE</td>\n",
       "    </tr>\n",
       "    <tr>\n",
       "      <th>8</th>\n",
       "      <td>22 CONSULTÓRIO ISOLADO</td>\n",
       "      <td>180265.0</td>\n",
       "      <td>Sala isolada destinada à prestação de assistên...</td>\n",
       "      <td>PT SAS 511 DE</td>\n",
       "    </tr>\n",
       "    <tr>\n",
       "      <th>9</th>\n",
       "      <td>32 UNIDADE MÓVEL FLUVIAL</td>\n",
       "      <td>63.0</td>\n",
       "      <td>Barco/navio equipado como unidade de saúde,\\t\\...</td>\n",
       "      <td>PT SAS 511 DE</td>\n",
       "    </tr>\n",
       "    <tr>\n",
       "      <th>10</th>\n",
       "      <td>36 CLÍNICA ESPECIALIZADA/AMBULATÓRIO  ESPECIAL...</td>\n",
       "      <td>55028.0</td>\n",
       "      <td>Clínica especializada destinada à assistência\\...</td>\n",
       "      <td>PT SAS 511 DE</td>\n",
       "    </tr>\n",
       "    <tr>\n",
       "      <th>11</th>\n",
       "      <td>39 UNIDADE DE SERVIÇO DE APOIO DE DIAGNOSE E A...</td>\n",
       "      <td>27822.0</td>\n",
       "      <td>Unidades isoladas onde são realizadas atividad...</td>\n",
       "      <td>PT SAS 511 DE</td>\n",
       "    </tr>\n",
       "    <tr>\n",
       "      <th>12</th>\n",
       "      <td>40 UNIDADE MÓVEL TERRESTRE</td>\n",
       "      <td>NaN</td>\n",
       "      <td>Veículo automotor equipado, especificamente, p...</td>\n",
       "      <td>PT SAS 511 DE</td>\n",
       "    </tr>\n",
       "    <tr>\n",
       "      <th>13</th>\n",
       "      <td>42 UNIDADE MÓVEL DE NÍVEL PRÉ-HOSPITALAR NA ÁR...</td>\n",
       "      <td>4769.0</td>\n",
       "      <td>Veículo terrestre, aéreo ou hidroviário destin...</td>\n",
       "      <td>PT SAS 511 DE</td>\n",
       "    </tr>\n",
       "    <tr>\n",
       "      <th>14</th>\n",
       "      <td>43 FARMÁCIA</td>\n",
       "      <td>3573.0</td>\n",
       "      <td>Estabelecimento de saúde isolado em que é feit...</td>\n",
       "      <td>PT SAS 511 DE</td>\n",
       "    </tr>\n",
       "    <tr>\n",
       "      <th>15</th>\n",
       "      <td>50 UNIDADE DE VIGILÂNCIA EM SAÚDE</td>\n",
       "      <td>3048.0</td>\n",
       "      <td>É o estabelecimento isolado que realiza trabal...</td>\n",
       "      <td>NaN</td>\n",
       "    </tr>\n",
       "    <tr>\n",
       "      <th>16</th>\n",
       "      <td>67 LABORATÓRIO CENTRAL DE SAÚDE PÚBLICA - LACEN</td>\n",
       "      <td>38.0</td>\n",
       "      <td>Estabelecimento de saúde que integra o Sistema...</td>\n",
       "      <td>NaN</td>\n",
       "    </tr>\n",
       "    <tr>\n",
       "      <th>17</th>\n",
       "      <td>68 SECRETARIA DE SAÚDE</td>\n",
       "      <td>6145.0</td>\n",
       "      <td>Unidade gerencial/administrativa podendo dispo...</td>\n",
       "      <td>SAS/MS Nº 195,</td>\n",
       "    </tr>\n",
       "    <tr>\n",
       "      <th>18</th>\n",
       "      <td>69 CENTRO DE ATENCAO HEMOTERAPICA E OU HEMOTER...</td>\n",
       "      <td>409.0</td>\n",
       "      <td>Estabelecimento que realiza o ciclo do sangue,...</td>\n",
       "      <td>NaN</td>\n",
       "    </tr>\n",
       "    <tr>\n",
       "      <th>19</th>\n",
       "      <td>70 CENTRO DE ATENÇÃO PSICOSSOCIAL</td>\n",
       "      <td>3100.0</td>\n",
       "      <td>Unidade especializada que oferece atendimento ...</td>\n",
       "      <td>CAPS</td>\n",
       "    </tr>\n",
       "    <tr>\n",
       "      <th>20</th>\n",
       "      <td>71 CENTRO DE APOIO A SAÚDE DA FAMÍLIA</td>\n",
       "      <td>1200.0</td>\n",
       "      <td>Estabelecimento isolado com as seguintes\\t\\t\\n...</td>\n",
       "      <td>Portaria 198</td>\n",
       "    </tr>\n",
       "    <tr>\n",
       "      <th>21</th>\n",
       "      <td>72 UNIDADE DE ATENÇÃO A SAÚDE INDIGENA</td>\n",
       "      <td>1148.0</td>\n",
       "      <td>Estabelecimento de natureza pública ou privada...</td>\n",
       "      <td>Portaria 475</td>\n",
       "    </tr>\n",
       "  </tbody>\n",
       "</table>\n",
       "</div>"
      ],
      "text/plain": [
       "                                        unidades_tipo  quantidade  \\\n",
       "0                                    1 POSTO DE SAÚDE     11328.0   \n",
       "1           2 CENTRO DE SAÚDE/UNIDADE BÁSICA DE SAÚDE     39253.0   \n",
       "2                                       4 POLICLÍNICA      8770.0   \n",
       "3                                    5 HOSPITAL GERAL      5795.0   \n",
       "4                            7 HOSPITAL ESPECIALIZADO      1245.0   \n",
       "5                                    15 UNIDADE MISTA       703.0   \n",
       "6                             20 PRONTO SOCORRO GERAL       448.0   \n",
       "7                     21 PRONTO SOCORRO ESPECIALIZADO       127.0   \n",
       "8                              22 CONSULTÓRIO ISOLADO    180265.0   \n",
       "9                            32 UNIDADE MÓVEL FLUVIAL        63.0   \n",
       "10  36 CLÍNICA ESPECIALIZADA/AMBULATÓRIO  ESPECIAL...     55028.0   \n",
       "11  39 UNIDADE DE SERVIÇO DE APOIO DE DIAGNOSE E A...     27822.0   \n",
       "12                       40 UNIDADE MÓVEL TERRESTRE           NaN   \n",
       "13  42 UNIDADE MÓVEL DE NÍVEL PRÉ-HOSPITALAR NA ÁR...      4769.0   \n",
       "14                                        43 FARMÁCIA      3573.0   \n",
       "15                  50 UNIDADE DE VIGILÂNCIA EM SAÚDE      3048.0   \n",
       "16   67 LABORATÓRIO CENTRAL DE SAÚDE PÚBLICA - LACEN         38.0   \n",
       "17                             68 SECRETARIA DE SAÚDE      6145.0   \n",
       "18  69 CENTRO DE ATENCAO HEMOTERAPICA E OU HEMOTER...       409.0   \n",
       "19                 70 CENTRO DE ATENÇÃO PSICOSSOCIAL       3100.0   \n",
       "20              71 CENTRO DE APOIO A SAÚDE DA FAMÍLIA      1200.0   \n",
       "21             72 UNIDADE DE ATENÇÃO A SAÚDE INDIGENA      1148.0   \n",
       "\n",
       "                                             conceito      legislação  \n",
       "0   Unidade destinada à prestação de assistência a...   PT SAS 511 DE  \n",
       "1   Unidade para realização de atendimentos de\\t\\t...   PT SAS 511 DE  \n",
       "2   Unidade de saúde para prestação de atendimento...   PT SAS 511 DE  \n",
       "3   Hospital destinado à prestação de atendimento\\...   PT SAS 511 DE  \n",
       "4   Hospital destinado à prestação de assistência ...   PT SAS 511 DE  \n",
       "5   Unidade de saúde básica destinada à prestação\\...   PT SAS 511 DE  \n",
       "6   Unidade destinada à prestação de assistência a...   PT SAS 511 DE  \n",
       "7   Unidade destinada à prestação de assistência e...   PT SAS 511 DE  \n",
       "8   Sala isolada destinada à prestação de assistên...   PT SAS 511 DE  \n",
       "9   Barco/navio equipado como unidade de saúde,\\t\\...   PT SAS 511 DE  \n",
       "10  Clínica especializada destinada à assistência\\...   PT SAS 511 DE  \n",
       "11  Unidades isoladas onde são realizadas atividad...   PT SAS 511 DE  \n",
       "12  Veículo automotor equipado, especificamente, p...   PT SAS 511 DE  \n",
       "13  Veículo terrestre, aéreo ou hidroviário destin...   PT SAS 511 DE  \n",
       "14  Estabelecimento de saúde isolado em que é feit...   PT SAS 511 DE  \n",
       "15  É o estabelecimento isolado que realiza trabal...             NaN  \n",
       "16  Estabelecimento de saúde que integra o Sistema...             NaN  \n",
       "17  Unidade gerencial/administrativa podendo dispo...  SAS/MS Nº 195,  \n",
       "18  Estabelecimento que realiza o ciclo do sangue,...             NaN  \n",
       "19  Unidade especializada que oferece atendimento ...            CAPS  \n",
       "20  Estabelecimento isolado com as seguintes\\t\\t\\n...    Portaria 198  \n",
       "21  Estabelecimento de natureza pública ou privada...    Portaria 475  "
      ]
     },
     "execution_count": 20,
     "metadata": {},
     "output_type": "execute_result"
    }
   ],
   "source": [
    "tipos_unidades"
   ]
  },
  {
   "cell_type": "code",
   "execution_count": null,
   "metadata": {},
   "outputs": [],
   "source": []
  }
 ],
 "metadata": {
  "kernelspec": {
   "display_name": "Python 3",
   "language": "python",
   "name": "python3"
  },
  "language_info": {
   "codemirror_mode": {
    "name": "ipython",
    "version": 3
   },
   "file_extension": ".py",
   "mimetype": "text/x-python",
   "name": "python",
   "nbconvert_exporter": "python",
   "pygments_lexer": "ipython3",
   "version": "3.6.8"
  }
 },
 "nbformat": 4,
 "nbformat_minor": 2
}
