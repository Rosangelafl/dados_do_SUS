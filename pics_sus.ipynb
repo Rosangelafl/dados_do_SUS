{
 "cells": [
  {
   "cell_type": "code",
   "execution_count": 1,
   "metadata": {},
   "outputs": [],
   "source": [
    "import pandas as pd\n",
    "import numpy as np"
   ]
  },
  {
   "cell_type": "code",
   "execution_count": 3,
   "metadata": {},
   "outputs": [
    {
     "data": {
      "text/html": [
       "<div>\n",
       "<style scoped>\n",
       "    .dataframe tbody tr th:only-of-type {\n",
       "        vertical-align: middle;\n",
       "    }\n",
       "\n",
       "    .dataframe tbody tr th {\n",
       "        vertical-align: top;\n",
       "    }\n",
       "\n",
       "    .dataframe thead th {\n",
       "        text-align: right;\n",
       "    }\n",
       "</style>\n",
       "<table border=\"1\" class=\"dataframe\">\n",
       "  <thead>\n",
       "    <tr style=\"text-align: right;\">\n",
       "      <th></th>\n",
       "      <th>code</th>\n",
       "      <th>city</th>\n",
       "      <th>state</th>\n",
       "      <th>abbreviation</th>\n",
       "      <th>region</th>\n",
       "      <th>lat</th>\n",
       "      <th>long</th>\n",
       "      <th>year</th>\n",
       "      <th>population</th>\n",
       "    </tr>\n",
       "  </thead>\n",
       "  <tbody>\n",
       "    <tr>\n",
       "      <th>0</th>\n",
       "      <td>110001</td>\n",
       "      <td>Alta Floresta D'Oeste</td>\n",
       "      <td>Rondônia</td>\n",
       "      <td>RO</td>\n",
       "      <td>NORTE</td>\n",
       "      <td>-11.9283</td>\n",
       "      <td>-61.9953</td>\n",
       "      <td>2014</td>\n",
       "      <td>25652</td>\n",
       "    </tr>\n",
       "    <tr>\n",
       "      <th>1</th>\n",
       "      <td>110001</td>\n",
       "      <td>Alta Floresta D'Oeste</td>\n",
       "      <td>Rondônia</td>\n",
       "      <td>RO</td>\n",
       "      <td>NORTE</td>\n",
       "      <td>-11.9283</td>\n",
       "      <td>-61.9953</td>\n",
       "      <td>2015</td>\n",
       "      <td>25578</td>\n",
       "    </tr>\n",
       "    <tr>\n",
       "      <th>2</th>\n",
       "      <td>110001</td>\n",
       "      <td>Alta Floresta D'Oeste</td>\n",
       "      <td>Rondônia</td>\n",
       "      <td>RO</td>\n",
       "      <td>NORTE</td>\n",
       "      <td>-11.9283</td>\n",
       "      <td>-61.9953</td>\n",
       "      <td>2011</td>\n",
       "      <td>24228</td>\n",
       "    </tr>\n",
       "    <tr>\n",
       "      <th>3</th>\n",
       "      <td>110001</td>\n",
       "      <td>Alta Floresta D'Oeste</td>\n",
       "      <td>Rondônia</td>\n",
       "      <td>RO</td>\n",
       "      <td>NORTE</td>\n",
       "      <td>-11.9283</td>\n",
       "      <td>-61.9953</td>\n",
       "      <td>2009</td>\n",
       "      <td>24354</td>\n",
       "    </tr>\n",
       "    <tr>\n",
       "      <th>4</th>\n",
       "      <td>110001</td>\n",
       "      <td>Alta Floresta D'Oeste</td>\n",
       "      <td>Rondônia</td>\n",
       "      <td>RO</td>\n",
       "      <td>NORTE</td>\n",
       "      <td>-11.9283</td>\n",
       "      <td>-61.9953</td>\n",
       "      <td>2006</td>\n",
       "      <td>29005</td>\n",
       "    </tr>\n",
       "    <tr>\n",
       "      <th>5</th>\n",
       "      <td>110001</td>\n",
       "      <td>Alta Floresta D'Oeste</td>\n",
       "      <td>Rondônia</td>\n",
       "      <td>RO</td>\n",
       "      <td>NORTE</td>\n",
       "      <td>-11.9283</td>\n",
       "      <td>-61.9953</td>\n",
       "      <td>2016</td>\n",
       "      <td>25506</td>\n",
       "    </tr>\n",
       "    <tr>\n",
       "      <th>6</th>\n",
       "      <td>110001</td>\n",
       "      <td>Alta Floresta D'Oeste</td>\n",
       "      <td>Rondônia</td>\n",
       "      <td>RO</td>\n",
       "      <td>NORTE</td>\n",
       "      <td>-11.9283</td>\n",
       "      <td>-61.9953</td>\n",
       "      <td>2005</td>\n",
       "      <td>28629</td>\n",
       "    </tr>\n",
       "    <tr>\n",
       "      <th>7</th>\n",
       "      <td>110001</td>\n",
       "      <td>Alta Floresta D'Oeste</td>\n",
       "      <td>Rondônia</td>\n",
       "      <td>RO</td>\n",
       "      <td>NORTE</td>\n",
       "      <td>-11.9283</td>\n",
       "      <td>-61.9953</td>\n",
       "      <td>2003</td>\n",
       "      <td>27563</td>\n",
       "    </tr>\n",
       "    <tr>\n",
       "      <th>8</th>\n",
       "      <td>110001</td>\n",
       "      <td>Alta Floresta D'Oeste</td>\n",
       "      <td>Rondônia</td>\n",
       "      <td>RO</td>\n",
       "      <td>NORTE</td>\n",
       "      <td>-11.9283</td>\n",
       "      <td>-61.9953</td>\n",
       "      <td>2001</td>\n",
       "      <td>26919</td>\n",
       "    </tr>\n",
       "    <tr>\n",
       "      <th>9</th>\n",
       "      <td>110001</td>\n",
       "      <td>Alta Floresta D'Oeste</td>\n",
       "      <td>Rondônia</td>\n",
       "      <td>RO</td>\n",
       "      <td>NORTE</td>\n",
       "      <td>-11.9283</td>\n",
       "      <td>-61.9953</td>\n",
       "      <td>2007</td>\n",
       "      <td>23857</td>\n",
       "    </tr>\n",
       "  </tbody>\n",
       "</table>\n",
       "</div>"
      ],
      "text/plain": [
       "     code                   city     state abbreviation region      lat  \\\n",
       "0  110001  Alta Floresta D'Oeste  Rondônia           RO  NORTE -11.9283   \n",
       "1  110001  Alta Floresta D'Oeste  Rondônia           RO  NORTE -11.9283   \n",
       "2  110001  Alta Floresta D'Oeste  Rondônia           RO  NORTE -11.9283   \n",
       "3  110001  Alta Floresta D'Oeste  Rondônia           RO  NORTE -11.9283   \n",
       "4  110001  Alta Floresta D'Oeste  Rondônia           RO  NORTE -11.9283   \n",
       "5  110001  Alta Floresta D'Oeste  Rondônia           RO  NORTE -11.9283   \n",
       "6  110001  Alta Floresta D'Oeste  Rondônia           RO  NORTE -11.9283   \n",
       "7  110001  Alta Floresta D'Oeste  Rondônia           RO  NORTE -11.9283   \n",
       "8  110001  Alta Floresta D'Oeste  Rondônia           RO  NORTE -11.9283   \n",
       "9  110001  Alta Floresta D'Oeste  Rondônia           RO  NORTE -11.9283   \n",
       "\n",
       "      long  year  population  \n",
       "0 -61.9953  2014       25652  \n",
       "1 -61.9953  2015       25578  \n",
       "2 -61.9953  2011       24228  \n",
       "3 -61.9953  2009       24354  \n",
       "4 -61.9953  2006       29005  \n",
       "5 -61.9953  2016       25506  \n",
       "6 -61.9953  2005       28629  \n",
       "7 -61.9953  2003       27563  \n",
       "8 -61.9953  2001       26919  \n",
       "9 -61.9953  2007       23857  "
      ]
     },
     "execution_count": 3,
     "metadata": {},
     "output_type": "execute_result"
    }
   ],
   "source": [
    "# Dados do Brasil, estados, municípios, população referente dos últimos 20 anos. Os cálculos levam em conta natalidade, \n",
    "#mortalidade e migração populacional.\n",
    "\n",
    "\n",
    "populacao = pd.read_csv('brazil-population-1998-2017.csv', sep=';', encoding='utf8')\n",
    "populacao.head(10)"
   ]
  },
  {
   "cell_type": "code",
   "execution_count": 4,
   "metadata": {},
   "outputs": [
    {
     "name": "stdout",
     "output_type": "stream",
     "text": [
      "<class 'pandas.core.frame.DataFrame'>\n",
      "RangeIndex: 111137 entries, 0 to 111136\n",
      "Data columns (total 9 columns):\n",
      "code            111137 non-null int64\n",
      "city            111137 non-null object\n",
      "state           111137 non-null object\n",
      "abbreviation    111137 non-null object\n",
      "region          111137 non-null object\n",
      "lat             111137 non-null float64\n",
      "long            111137 non-null float64\n",
      "year            111137 non-null int64\n",
      "population      111137 non-null int64\n",
      "dtypes: float64(2), int64(3), object(4)\n",
      "memory usage: 7.6+ MB\n"
     ]
    }
   ],
   "source": [
    "populacao.info()"
   ]
  },
  {
   "cell_type": "code",
   "execution_count": 5,
   "metadata": {},
   "outputs": [],
   "source": [
    "populacao['population'] = populacao['population'].fillna(0).astype(np.float64)"
   ]
  },
  {
   "cell_type": "code",
   "execution_count": 6,
   "metadata": {},
   "outputs": [],
   "source": [
    "#populacao.info()"
   ]
  },
  {
   "cell_type": "code",
   "execution_count": 7,
   "metadata": {},
   "outputs": [
    {
     "data": {
      "text/html": [
       "<div>\n",
       "<style scoped>\n",
       "    .dataframe tbody tr th:only-of-type {\n",
       "        vertical-align: middle;\n",
       "    }\n",
       "\n",
       "    .dataframe tbody tr th {\n",
       "        vertical-align: top;\n",
       "    }\n",
       "\n",
       "    .dataframe thead th {\n",
       "        text-align: right;\n",
       "    }\n",
       "</style>\n",
       "<table border=\"1\" class=\"dataframe\">\n",
       "  <thead>\n",
       "    <tr style=\"text-align: right;\">\n",
       "      <th></th>\n",
       "      <th>code</th>\n",
       "      <th>city</th>\n",
       "      <th>state</th>\n",
       "      <th>abbreviation</th>\n",
       "      <th>region</th>\n",
       "      <th>lat</th>\n",
       "      <th>long</th>\n",
       "      <th>year</th>\n",
       "      <th>population</th>\n",
       "    </tr>\n",
       "  </thead>\n",
       "  <tbody>\n",
       "    <tr>\n",
       "      <th>76544</th>\n",
       "      <td>355030</td>\n",
       "      <td>São Paulo</td>\n",
       "      <td>São Paulo</td>\n",
       "      <td>SP</td>\n",
       "      <td>SUDESTE</td>\n",
       "      <td>-23.5329</td>\n",
       "      <td>-46.6395</td>\n",
       "      <td>2017</td>\n",
       "      <td>12106920.0</td>\n",
       "    </tr>\n",
       "  </tbody>\n",
       "</table>\n",
       "</div>"
      ],
      "text/plain": [
       "         code       city      state abbreviation   region      lat     long  \\\n",
       "76544  355030  São Paulo  São Paulo           SP  SUDESTE -23.5329 -46.6395   \n",
       "\n",
       "       year  population  \n",
       "76544  2017  12106920.0  "
      ]
     },
     "execution_count": 7,
     "metadata": {},
     "output_type": "execute_result"
    }
   ],
   "source": [
    "#qual municipio com mais habitantes\n",
    "\n",
    "populacao[populacao['population'] == populacao['population'].max()]"
   ]
  },
  {
   "cell_type": "code",
   "execution_count": 8,
   "metadata": {},
   "outputs": [
    {
     "data": {
      "text/html": [
       "<div>\n",
       "<style scoped>\n",
       "    .dataframe tbody tr th:only-of-type {\n",
       "        vertical-align: middle;\n",
       "    }\n",
       "\n",
       "    .dataframe tbody tr th {\n",
       "        vertical-align: top;\n",
       "    }\n",
       "\n",
       "    .dataframe thead th {\n",
       "        text-align: right;\n",
       "    }\n",
       "</style>\n",
       "<table border=\"1\" class=\"dataframe\">\n",
       "  <thead>\n",
       "    <tr style=\"text-align: right;\">\n",
       "      <th></th>\n",
       "      <th>code</th>\n",
       "      <th>city</th>\n",
       "      <th>state</th>\n",
       "      <th>abbreviation</th>\n",
       "      <th>region</th>\n",
       "      <th>lat</th>\n",
       "      <th>long</th>\n",
       "      <th>year</th>\n",
       "      <th>population</th>\n",
       "    </tr>\n",
       "  </thead>\n",
       "  <tbody>\n",
       "    <tr>\n",
       "      <th>7962</th>\n",
       "      <td>171550</td>\n",
       "      <td>Oliveira de Fátima</td>\n",
       "      <td>Tocantins</td>\n",
       "      <td>TO</td>\n",
       "      <td>NORTE</td>\n",
       "      <td>-10.707</td>\n",
       "      <td>-48.9086</td>\n",
       "      <td>2000</td>\n",
       "      <td>697.0</td>\n",
       "    </tr>\n",
       "  </tbody>\n",
       "</table>\n",
       "</div>"
      ],
      "text/plain": [
       "        code                city      state abbreviation region     lat  \\\n",
       "7962  171550  Oliveira de Fátima  Tocantins           TO  NORTE -10.707   \n",
       "\n",
       "         long  year  population  \n",
       "7962 -48.9086  2000       697.0  "
      ]
     },
     "execution_count": 8,
     "metadata": {},
     "output_type": "execute_result"
    }
   ],
   "source": [
    "populacao[populacao['population'] == populacao['population'].min()]"
   ]
  },
  {
   "cell_type": "code",
   "execution_count": 10,
   "metadata": {},
   "outputs": [
    {
     "data": {
      "text/plain": [
       "array([2014, 2015, 2011, 2009, 2006, 2016, 2005, 2003, 2001, 2007, 2000,\n",
       "       1999, 2002, 1998, 2013, 2017, 2008, 2004, 2012, 2010], dtype=int64)"
      ]
     },
     "execution_count": 10,
     "metadata": {},
     "output_type": "execute_result"
    }
   ],
   "source": [
    "#listas os anos do dataframe\n",
    "populacao['year'].unique()"
   ]
  },
  {
   "cell_type": "code",
   "execution_count": 11,
   "metadata": {},
   "outputs": [
    {
     "data": {
      "text/html": [
       "<div>\n",
       "<style scoped>\n",
       "    .dataframe tbody tr th:only-of-type {\n",
       "        vertical-align: middle;\n",
       "    }\n",
       "\n",
       "    .dataframe tbody tr th {\n",
       "        vertical-align: top;\n",
       "    }\n",
       "\n",
       "    .dataframe thead th {\n",
       "        text-align: right;\n",
       "    }\n",
       "</style>\n",
       "<table border=\"1\" class=\"dataframe\">\n",
       "  <thead>\n",
       "    <tr style=\"text-align: right;\">\n",
       "      <th></th>\n",
       "      <th>code</th>\n",
       "      <th>city</th>\n",
       "      <th>state</th>\n",
       "      <th>abbreviation</th>\n",
       "      <th>region</th>\n",
       "      <th>lat</th>\n",
       "      <th>long</th>\n",
       "      <th>year</th>\n",
       "      <th>population</th>\n",
       "    </tr>\n",
       "  </thead>\n",
       "  <tbody>\n",
       "    <tr>\n",
       "      <th>15</th>\n",
       "      <td>110001</td>\n",
       "      <td>Alta Floresta D'Oeste</td>\n",
       "      <td>Rondônia</td>\n",
       "      <td>RO</td>\n",
       "      <td>NORTE</td>\n",
       "      <td>-11.92830</td>\n",
       "      <td>-61.9953</td>\n",
       "      <td>2017</td>\n",
       "      <td>25437.0</td>\n",
       "    </tr>\n",
       "    <tr>\n",
       "      <th>36</th>\n",
       "      <td>110002</td>\n",
       "      <td>Ariquemes</td>\n",
       "      <td>Rondônia</td>\n",
       "      <td>RO</td>\n",
       "      <td>NORTE</td>\n",
       "      <td>-9.90571</td>\n",
       "      <td>-63.0325</td>\n",
       "      <td>2017</td>\n",
       "      <td>107345.0</td>\n",
       "    </tr>\n",
       "    <tr>\n",
       "      <th>48</th>\n",
       "      <td>110003</td>\n",
       "      <td>Cabixi</td>\n",
       "      <td>Rondônia</td>\n",
       "      <td>RO</td>\n",
       "      <td>NORTE</td>\n",
       "      <td>-13.49450</td>\n",
       "      <td>-60.5520</td>\n",
       "      <td>2017</td>\n",
       "      <td>6224.0</td>\n",
       "    </tr>\n",
       "    <tr>\n",
       "      <th>76</th>\n",
       "      <td>110004</td>\n",
       "      <td>Cacoal</td>\n",
       "      <td>Rondônia</td>\n",
       "      <td>RO</td>\n",
       "      <td>NORTE</td>\n",
       "      <td>-11.43430</td>\n",
       "      <td>-61.4562</td>\n",
       "      <td>2017</td>\n",
       "      <td>88507.0</td>\n",
       "    </tr>\n",
       "    <tr>\n",
       "      <th>89</th>\n",
       "      <td>110005</td>\n",
       "      <td>Cerejeiras</td>\n",
       "      <td>Rondônia</td>\n",
       "      <td>RO</td>\n",
       "      <td>NORTE</td>\n",
       "      <td>-13.18700</td>\n",
       "      <td>-60.8168</td>\n",
       "      <td>2017</td>\n",
       "      <td>17934.0</td>\n",
       "    </tr>\n",
       "  </tbody>\n",
       "</table>\n",
       "</div>"
      ],
      "text/plain": [
       "      code                   city     state abbreviation region       lat  \\\n",
       "15  110001  Alta Floresta D'Oeste  Rondônia           RO  NORTE -11.92830   \n",
       "36  110002              Ariquemes  Rondônia           RO  NORTE  -9.90571   \n",
       "48  110003                 Cabixi  Rondônia           RO  NORTE -13.49450   \n",
       "76  110004                 Cacoal  Rondônia           RO  NORTE -11.43430   \n",
       "89  110005             Cerejeiras  Rondônia           RO  NORTE -13.18700   \n",
       "\n",
       "       long  year  population  \n",
       "15 -61.9953  2017     25437.0  \n",
       "36 -63.0325  2017    107345.0  \n",
       "48 -60.5520  2017      6224.0  \n",
       "76 -61.4562  2017     88507.0  \n",
       "89 -60.8168  2017     17934.0  "
      ]
     },
     "execution_count": 11,
     "metadata": {},
     "output_type": "execute_result"
    }
   ],
   "source": [
    "#criar subconjuntos do dataframe original \n",
    "brasil = populacao[populacao['year'] == 2017]\n",
    "brasil.head()"
   ]
  },
  {
   "cell_type": "code",
   "execution_count": 12,
   "metadata": {},
   "outputs": [
    {
     "data": {
      "text/plain": [
       "207660929.0"
      ]
     },
     "execution_count": 12,
     "metadata": {},
     "output_type": "execute_result"
    }
   ],
   "source": [
    "brasil['population'].sum()"
   ]
  },
  {
   "cell_type": "code",
   "execution_count": 13,
   "metadata": {},
   "outputs": [
    {
     "data": {
      "text/html": [
       "<div>\n",
       "<style scoped>\n",
       "    .dataframe tbody tr th:only-of-type {\n",
       "        vertical-align: middle;\n",
       "    }\n",
       "\n",
       "    .dataframe tbody tr th {\n",
       "        vertical-align: top;\n",
       "    }\n",
       "\n",
       "    .dataframe thead th {\n",
       "        text-align: right;\n",
       "    }\n",
       "</style>\n",
       "<table border=\"1\" class=\"dataframe\">\n",
       "  <thead>\n",
       "    <tr style=\"text-align: right;\">\n",
       "      <th></th>\n",
       "      <th>CO_UNIDADE</th>\n",
       "      <th>CO_CNES</th>\n",
       "      <th>NU_CNPJ_MANTENEDORA</th>\n",
       "      <th>TP_PFPJ</th>\n",
       "      <th>NIVEL_DEP</th>\n",
       "      <th>NO_RAZAO_SOCIAL</th>\n",
       "      <th>NO_FANTASIA</th>\n",
       "      <th>NO_LOGRADOURO</th>\n",
       "      <th>NU_ENDERECO</th>\n",
       "      <th>NO_COMPLEMENTO</th>\n",
       "      <th>...</th>\n",
       "      <th>TO_CHAR(DT_ATU_GEO,'DD/MM/YYYY')</th>\n",
       "      <th>NO_USUARIO_GEO</th>\n",
       "      <th>CO_NATUREZA_JUR</th>\n",
       "      <th>TP_ESTAB_SEMPRE_ABERTO</th>\n",
       "      <th>ST_GERACREDITO_GERENTE_SGIF</th>\n",
       "      <th>ST_CONEXAO_INTERNET</th>\n",
       "      <th>CO_TIPO_UNIDADE</th>\n",
       "      <th>NO_FANTASIA_ABREV</th>\n",
       "      <th>TP_GESTAO</th>\n",
       "      <th>TO_CHAR(DT_ATUALIZACAO_ORIGEM,'DD/MM/YYYY')</th>\n",
       "    </tr>\n",
       "  </thead>\n",
       "  <tbody>\n",
       "    <tr>\n",
       "      <th>0</th>\n",
       "      <td>2928707453280</td>\n",
       "      <td>7453280</td>\n",
       "      <td>1.382548e+13</td>\n",
       "      <td>3</td>\n",
       "      <td>3</td>\n",
       "      <td>PREFEITURA MUNICIPAL DE SANTO ANTONIO DE JESUS</td>\n",
       "      <td>POSTO DE SAUDE MINA DO SAPE</td>\n",
       "      <td>COMUNIDADE MINA DO SAPE</td>\n",
       "      <td>S/N</td>\n",
       "      <td>CASA</td>\n",
       "      <td>...</td>\n",
       "      <td>NaN</td>\n",
       "      <td>NaN</td>\n",
       "      <td>1244.0</td>\n",
       "      <td>NaN</td>\n",
       "      <td>NaN</td>\n",
       "      <td>N</td>\n",
       "      <td>NaN</td>\n",
       "      <td>NaN</td>\n",
       "      <td>M</td>\n",
       "      <td>03/04/2014</td>\n",
       "    </tr>\n",
       "    <tr>\n",
       "      <th>1</th>\n",
       "      <td>2301307450184</td>\n",
       "      <td>7450184</td>\n",
       "      <td>7.539984e+12</td>\n",
       "      <td>3</td>\n",
       "      <td>3</td>\n",
       "      <td>PREFEITURA MUNICIPAL DE SAUDE</td>\n",
       "      <td>ACADEMIA DA SAUDE DE ARARIPE</td>\n",
       "      <td>AV ELISIO ALVES DE ALENCAR</td>\n",
       "      <td>S/N</td>\n",
       "      <td>NaN</td>\n",
       "      <td>...</td>\n",
       "      <td>04/09/2018</td>\n",
       "      <td>0130ARA</td>\n",
       "      <td>1244.0</td>\n",
       "      <td>N</td>\n",
       "      <td>NaN</td>\n",
       "      <td>S</td>\n",
       "      <td>NaN</td>\n",
       "      <td>NaN</td>\n",
       "      <td>M</td>\n",
       "      <td>02/04/2014</td>\n",
       "    </tr>\n",
       "    <tr>\n",
       "      <th>2</th>\n",
       "      <td>2307307462956</td>\n",
       "      <td>7462956</td>\n",
       "      <td>NaN</td>\n",
       "      <td>1</td>\n",
       "      <td>1</td>\n",
       "      <td>CONSULTORIO DE PSICOLOGIA FLAVIA GONCALVES MACEDO</td>\n",
       "      <td>CONSULTORIO DE PSICOLOGIA FLAVIA GONCALVES MACEDO</td>\n",
       "      <td>RUA DA CONCEICAO</td>\n",
       "      <td>818</td>\n",
       "      <td>NaN</td>\n",
       "      <td>...</td>\n",
       "      <td>27/12/2017</td>\n",
       "      <td>GORETTI</td>\n",
       "      <td>4000.0</td>\n",
       "      <td>N</td>\n",
       "      <td>NaN</td>\n",
       "      <td>S</td>\n",
       "      <td>NaN</td>\n",
       "      <td>NaN</td>\n",
       "      <td>M</td>\n",
       "      <td>02/04/2014</td>\n",
       "    </tr>\n",
       "  </tbody>\n",
       "</table>\n",
       "<p>3 rows × 51 columns</p>\n",
       "</div>"
      ],
      "text/plain": [
       "      CO_UNIDADE  CO_CNES  NU_CNPJ_MANTENEDORA  TP_PFPJ  NIVEL_DEP  \\\n",
       "0  2928707453280  7453280         1.382548e+13        3          3   \n",
       "1  2301307450184  7450184         7.539984e+12        3          3   \n",
       "2  2307307462956  7462956                  NaN        1          1   \n",
       "\n",
       "                                     NO_RAZAO_SOCIAL  \\\n",
       "0     PREFEITURA MUNICIPAL DE SANTO ANTONIO DE JESUS   \n",
       "1                      PREFEITURA MUNICIPAL DE SAUDE   \n",
       "2  CONSULTORIO DE PSICOLOGIA FLAVIA GONCALVES MACEDO   \n",
       "\n",
       "                                         NO_FANTASIA  \\\n",
       "0                        POSTO DE SAUDE MINA DO SAPE   \n",
       "1                       ACADEMIA DA SAUDE DE ARARIPE   \n",
       "2  CONSULTORIO DE PSICOLOGIA FLAVIA GONCALVES MACEDO   \n",
       "\n",
       "                NO_LOGRADOURO NU_ENDERECO NO_COMPLEMENTO  \\\n",
       "0     COMUNIDADE MINA DO SAPE         S/N           CASA   \n",
       "1  AV ELISIO ALVES DE ALENCAR         S/N            NaN   \n",
       "2            RUA DA CONCEICAO         818            NaN   \n",
       "\n",
       "                      ...                       \\\n",
       "0                     ...                        \n",
       "1                     ...                        \n",
       "2                     ...                        \n",
       "\n",
       "  TO_CHAR(DT_ATU_GEO,'DD/MM/YYYY')  NO_USUARIO_GEO CO_NATUREZA_JUR  \\\n",
       "0                              NaN             NaN          1244.0   \n",
       "1                       04/09/2018         0130ARA          1244.0   \n",
       "2                       27/12/2017         GORETTI          4000.0   \n",
       "\n",
       "  TP_ESTAB_SEMPRE_ABERTO ST_GERACREDITO_GERENTE_SGIF ST_CONEXAO_INTERNET  \\\n",
       "0                    NaN                         NaN                   N   \n",
       "1                      N                         NaN                   S   \n",
       "2                      N                         NaN                   S   \n",
       "\n",
       "  CO_TIPO_UNIDADE NO_FANTASIA_ABREV TP_GESTAO  \\\n",
       "0             NaN               NaN         M   \n",
       "1             NaN               NaN         M   \n",
       "2             NaN               NaN         M   \n",
       "\n",
       "   TO_CHAR(DT_ATUALIZACAO_ORIGEM,'DD/MM/YYYY')  \n",
       "0                                   03/04/2014  \n",
       "1                                   02/04/2014  \n",
       "2                                   02/04/2014  \n",
       "\n",
       "[3 rows x 51 columns]"
      ]
     },
     "execution_count": 13,
     "metadata": {},
     "output_type": "execute_result"
    }
   ],
   "source": [
    "rede_saude = pd.read_csv('tbEstabelecimento201809.csv', sep=';', low_memory=False, encoding='utf-8')\n",
    "rede_saude.head(3)"
   ]
  },
  {
   "cell_type": "code",
   "execution_count": 14,
   "metadata": {},
   "outputs": [
    {
     "name": "stdout",
     "output_type": "stream",
     "text": [
      "<class 'pandas.core.frame.DataFrame'>\n",
      "RangeIndex: 364701 entries, 0 to 364700\n",
      "Data columns (total 51 columns):\n",
      "CO_UNIDADE                                     364701 non-null object\n",
      "CO_CNES                                        364701 non-null int64\n",
      "NU_CNPJ_MANTENEDORA                            94451 non-null float64\n",
      "TP_PFPJ                                        364701 non-null int64\n",
      "NIVEL_DEP                                      364701 non-null int64\n",
      "NO_RAZAO_SOCIAL                                364700 non-null object\n",
      "NO_FANTASIA                                    364692 non-null object\n",
      "NO_LOGRADOURO                                  364700 non-null object\n",
      "NU_ENDERECO                                    364415 non-null object\n",
      "NO_COMPLEMENTO                                 156615 non-null object\n",
      "NO_BAIRRO                                      364698 non-null object\n",
      "CO_CEP                                         364701 non-null int64\n",
      "CO_REGIAO_SAUDE                                192424 non-null object\n",
      "CO_MICRO_REGIAO                                14175 non-null object\n",
      "CO_DISTRITO_SANITARIO                          26335 non-null object\n",
      "CO_DISTRITO_ADMINISTRATIVO                     4078 non-null object\n",
      "NU_TELEFONE                                    286873 non-null object\n",
      "NU_FAX                                         80339 non-null object\n",
      "NO_EMAIL                                       160197 non-null object\n",
      "NU_CPF                                         128106 non-null float64\n",
      "NU_CNPJ                                        145000 non-null float64\n",
      "CO_ATIVIDADE                                   364701 non-null int64\n",
      "CO_CLIENTELA                                   359296 non-null float64\n",
      "NU_ALVARA                                      248083 non-null object\n",
      "DT_EXPEDICAO                                   246623 non-null object\n",
      "TP_ORGAO_EXPEDIDOR                             252274 non-null float64\n",
      "DT_VAL_LIC_SANI                                74602 non-null object\n",
      "TP_LIC_SANI                                    74858 non-null float64\n",
      "TP_UNIDADE                                     364701 non-null int64\n",
      "CO_TURNO_ATENDIMENTO                           364006 non-null float64\n",
      "CO_ESTADO_GESTOR                               364701 non-null int64\n",
      "CO_MUNICIPIO_GESTOR                            364701 non-null int64\n",
      "TO_CHAR(DT_ATUALIZACAO,'DD/MM/YYYY')           364701 non-null object\n",
      "CO_USUARIO                                     364701 non-null object\n",
      "CO_CPFDIRETORCLN                               207549 non-null float64\n",
      "REG_DIRETORCLN                                 134018 non-null object\n",
      "ST_ADESAO_FILANTROP                            2477 non-null object\n",
      "CO_MOTIVO_DESAB                                37659 non-null float64\n",
      "NO_URL                                         3295 non-null object\n",
      "NU_LATITUDE                                    85916 non-null float64\n",
      "NU_LONGITUDE                                   86171 non-null object\n",
      "TO_CHAR(DT_ATU_GEO,'DD/MM/YYYY')               85250 non-null object\n",
      "NO_USUARIO_GEO                                 85079 non-null object\n",
      "CO_NATUREZA_JUR                                364698 non-null float64\n",
      "TP_ESTAB_SEMPRE_ABERTO                         198787 non-null object\n",
      "ST_GERACREDITO_GERENTE_SGIF                    13 non-null object\n",
      "ST_CONEXAO_INTERNET                            296652 non-null object\n",
      "CO_TIPO_UNIDADE                                0 non-null float64\n",
      "NO_FANTASIA_ABREV                              0 non-null float64\n",
      "TP_GESTAO                                      364701 non-null object\n",
      "TO_CHAR(DT_ATUALIZACAO_ORIGEM,'DD/MM/YYYY')    364701 non-null object\n",
      "dtypes: float64(13), int64(8), object(30)\n",
      "memory usage: 141.9+ MB\n"
     ]
    }
   ],
   "source": [
    "rede_saude.info()"
   ]
  },
  {
   "cell_type": "code",
   "execution_count": 15,
   "metadata": {},
   "outputs": [
    {
     "data": {
      "text/html": [
       "<div>\n",
       "<style scoped>\n",
       "    .dataframe tbody tr th:only-of-type {\n",
       "        vertical-align: middle;\n",
       "    }\n",
       "\n",
       "    .dataframe tbody tr th {\n",
       "        vertical-align: top;\n",
       "    }\n",
       "\n",
       "    .dataframe thead th {\n",
       "        text-align: right;\n",
       "    }\n",
       "</style>\n",
       "<table border=\"1\" class=\"dataframe\">\n",
       "  <thead>\n",
       "    <tr style=\"text-align: right;\">\n",
       "      <th></th>\n",
       "      <th>CO_UNIDADE</th>\n",
       "      <th>CO_CNES</th>\n",
       "      <th>TP_UNIDADE</th>\n",
       "      <th>CO_MUNICIPIO_GESTOR</th>\n",
       "      <th>TP_GESTAO</th>\n",
       "    </tr>\n",
       "  </thead>\n",
       "  <tbody>\n",
       "    <tr>\n",
       "      <th>0</th>\n",
       "      <td>2928707453280</td>\n",
       "      <td>7453280</td>\n",
       "      <td>1</td>\n",
       "      <td>292870</td>\n",
       "      <td>M</td>\n",
       "    </tr>\n",
       "    <tr>\n",
       "      <th>1</th>\n",
       "      <td>2301307450184</td>\n",
       "      <td>7450184</td>\n",
       "      <td>74</td>\n",
       "      <td>230130</td>\n",
       "      <td>M</td>\n",
       "    </tr>\n",
       "    <tr>\n",
       "      <th>2</th>\n",
       "      <td>2307307462956</td>\n",
       "      <td>7462956</td>\n",
       "      <td>22</td>\n",
       "      <td>230730</td>\n",
       "      <td>M</td>\n",
       "    </tr>\n",
       "    <tr>\n",
       "      <th>3</th>\n",
       "      <td>2313407462476</td>\n",
       "      <td>7462476</td>\n",
       "      <td>2</td>\n",
       "      <td>231340</td>\n",
       "      <td>M</td>\n",
       "    </tr>\n",
       "    <tr>\n",
       "      <th>4</th>\n",
       "      <td>2510107416490</td>\n",
       "      <td>7416490</td>\n",
       "      <td>71</td>\n",
       "      <td>251010</td>\n",
       "      <td>M</td>\n",
       "    </tr>\n",
       "  </tbody>\n",
       "</table>\n",
       "</div>"
      ],
      "text/plain": [
       "      CO_UNIDADE  CO_CNES  TP_UNIDADE  CO_MUNICIPIO_GESTOR TP_GESTAO\n",
       "0  2928707453280  7453280           1               292870         M\n",
       "1  2301307450184  7450184          74               230130         M\n",
       "2  2307307462956  7462956          22               230730         M\n",
       "3  2313407462476  7462476           2               231340         M\n",
       "4  2510107416490  7416490          71               251010         M"
      ]
     },
     "execution_count": 15,
     "metadata": {},
     "output_type": "execute_result"
    }
   ],
   "source": [
    "rede_saude = pd.read_csv('tbEstabelecimento201809.csv', sep=';', encoding='utf8', low_memory=False, usecols=[0, 1, 28, 31, 49])\n",
    "rede_saude.head()"
   ]
  },
  {
   "cell_type": "code",
   "execution_count": 16,
   "metadata": {},
   "outputs": [
    {
     "data": {
      "text/html": [
       "<div>\n",
       "<style scoped>\n",
       "    .dataframe tbody tr th:only-of-type {\n",
       "        vertical-align: middle;\n",
       "    }\n",
       "\n",
       "    .dataframe tbody tr th {\n",
       "        vertical-align: top;\n",
       "    }\n",
       "\n",
       "    .dataframe thead th {\n",
       "        text-align: right;\n",
       "    }\n",
       "</style>\n",
       "<table border=\"1\" class=\"dataframe\">\n",
       "  <thead>\n",
       "    <tr style=\"text-align: right;\">\n",
       "      <th></th>\n",
       "      <th>cod_unidades</th>\n",
       "      <th>cod_cnes</th>\n",
       "      <th>tipo_unidade</th>\n",
       "      <th>code</th>\n",
       "      <th>cod_gestao</th>\n",
       "    </tr>\n",
       "  </thead>\n",
       "  <tbody>\n",
       "    <tr>\n",
       "      <th>0</th>\n",
       "      <td>2928707453280</td>\n",
       "      <td>7453280</td>\n",
       "      <td>1</td>\n",
       "      <td>292870</td>\n",
       "      <td>M</td>\n",
       "    </tr>\n",
       "    <tr>\n",
       "      <th>1</th>\n",
       "      <td>2301307450184</td>\n",
       "      <td>7450184</td>\n",
       "      <td>74</td>\n",
       "      <td>230130</td>\n",
       "      <td>M</td>\n",
       "    </tr>\n",
       "    <tr>\n",
       "      <th>2</th>\n",
       "      <td>2307307462956</td>\n",
       "      <td>7462956</td>\n",
       "      <td>22</td>\n",
       "      <td>230730</td>\n",
       "      <td>M</td>\n",
       "    </tr>\n",
       "    <tr>\n",
       "      <th>3</th>\n",
       "      <td>2313407462476</td>\n",
       "      <td>7462476</td>\n",
       "      <td>2</td>\n",
       "      <td>231340</td>\n",
       "      <td>M</td>\n",
       "    </tr>\n",
       "    <tr>\n",
       "      <th>4</th>\n",
       "      <td>2510107416490</td>\n",
       "      <td>7416490</td>\n",
       "      <td>71</td>\n",
       "      <td>251010</td>\n",
       "      <td>M</td>\n",
       "    </tr>\n",
       "  </tbody>\n",
       "</table>\n",
       "</div>"
      ],
      "text/plain": [
       "    cod_unidades  cod_cnes  tipo_unidade    code cod_gestao\n",
       "0  2928707453280   7453280             1  292870          M\n",
       "1  2301307450184   7450184            74  230130          M\n",
       "2  2307307462956   7462956            22  230730          M\n",
       "3  2313407462476   7462476             2  231340          M\n",
       "4  2510107416490   7416490            71  251010          M"
      ]
     },
     "execution_count": 16,
     "metadata": {},
     "output_type": "execute_result"
    }
   ],
   "source": [
    "rede_saude.columns = ['cod_unidades', 'cod_cnes', 'tipo_unidade', 'code','cod_gestao']\n",
    "rede_saude.head()"
   ]
  },
  {
   "cell_type": "code",
   "execution_count": 17,
   "metadata": {},
   "outputs": [
    {
     "data": {
      "text/plain": [
       "364701"
      ]
     },
     "execution_count": 17,
     "metadata": {},
     "output_type": "execute_result"
    }
   ],
   "source": [
    "rede_saude['cod_cnes'].count()"
   ]
  },
  {
   "cell_type": "code",
   "execution_count": 18,
   "metadata": {},
   "outputs": [
    {
     "data": {
      "text/plain": [
       "22    180265\n",
       "36     55028\n",
       "2      39253\n",
       "39     27822\n",
       "1      11328\n",
       "4       8770\n",
       "68      6145\n",
       "5       5795\n",
       "42      4769\n",
       "43      3573\n",
       "70      3100\n",
       "50      3048\n",
       "74      2635\n",
       "40      1497\n",
       "81      1304\n",
       "73      1284\n",
       "7       1245\n",
       "71      1200\n",
       "72      1148\n",
       "77       750\n",
       "62       731\n",
       "15       703\n",
       "60       695\n",
       "20       448\n",
       "80       447\n",
       "69       409\n",
       "83       373\n",
       "76       238\n",
       "82       139\n",
       "64       139\n",
       "21       127\n",
       "75        89\n",
       "32        63\n",
       "78        39\n",
       "67        38\n",
       "61        33\n",
       "79        31\n",
       "Name: tipo_unidade, dtype: int64"
      ]
     },
     "execution_count": 18,
     "metadata": {},
     "output_type": "execute_result"
    }
   ],
   "source": [
    "rede_saude['tipo_unidade'].value_counts()"
   ]
  },
  {
   "cell_type": "code",
   "execution_count": 71,
   "metadata": {},
   "outputs": [
    {
     "data": {
      "text/plain": [
       "364701"
      ]
     },
     "execution_count": 71,
     "metadata": {},
     "output_type": "execute_result"
    }
   ],
   "source": [
    "rede_saude['code'].count()"
   ]
  },
  {
   "cell_type": "code",
   "execution_count": 72,
   "metadata": {},
   "outputs": [
    {
     "data": {
      "text/plain": [
       "M    341436\n",
       "E     17059\n",
       "D      6106\n",
       "S       100\n",
       "Name: cod_gestao, dtype: int64"
      ]
     },
     "execution_count": 72,
     "metadata": {},
     "output_type": "execute_result"
    }
   ],
   "source": [
    "rede_saude['cod_gestao'].value_counts()"
   ]
  },
  {
   "cell_type": "code",
   "execution_count": 19,
   "metadata": {},
   "outputs": [
    {
     "name": "stdout",
     "output_type": "stream",
     "text": [
      "<class 'pandas.core.frame.DataFrame'>\n",
      "RangeIndex: 364701 entries, 0 to 364700\n",
      "Data columns (total 5 columns):\n",
      "cod_unidades    364701 non-null object\n",
      "cod_cnes        364701 non-null int64\n",
      "tipo_unidade    364701 non-null int64\n",
      "code            364701 non-null int64\n",
      "cod_gestao      364701 non-null object\n",
      "dtypes: int64(3), object(2)\n",
      "memory usage: 13.9+ MB\n"
     ]
    }
   ],
   "source": [
    "rede_saude.info()"
   ]
  },
  {
   "cell_type": "code",
   "execution_count": 20,
   "metadata": {},
   "outputs": [
    {
     "data": {
      "text/html": [
       "<div>\n",
       "<style scoped>\n",
       "    .dataframe tbody tr th:only-of-type {\n",
       "        vertical-align: middle;\n",
       "    }\n",
       "\n",
       "    .dataframe tbody tr th {\n",
       "        vertical-align: top;\n",
       "    }\n",
       "\n",
       "    .dataframe thead th {\n",
       "        text-align: right;\n",
       "    }\n",
       "</style>\n",
       "<table border=\"1\" class=\"dataframe\">\n",
       "  <thead>\n",
       "    <tr style=\"text-align: right;\">\n",
       "      <th></th>\n",
       "      <th>cod_unidades</th>\n",
       "      <th>descricao</th>\n",
       "      <th>total</th>\n",
       "    </tr>\n",
       "  </thead>\n",
       "  <tbody>\n",
       "    <tr>\n",
       "      <th>0</th>\n",
       "      <td>1</td>\n",
       "      <td>POSTO DE SAUDE</td>\n",
       "      <td>11328</td>\n",
       "    </tr>\n",
       "    <tr>\n",
       "      <th>1</th>\n",
       "      <td>2</td>\n",
       "      <td>CENTRO DE SAUDE/UNIDADE BASICA</td>\n",
       "      <td>39253</td>\n",
       "    </tr>\n",
       "    <tr>\n",
       "      <th>2</th>\n",
       "      <td>4</td>\n",
       "      <td>POLICLINICA</td>\n",
       "      <td>8770</td>\n",
       "    </tr>\n",
       "    <tr>\n",
       "      <th>3</th>\n",
       "      <td>5</td>\n",
       "      <td>HOSPITAL GERAL</td>\n",
       "      <td>5795</td>\n",
       "    </tr>\n",
       "    <tr>\n",
       "      <th>4</th>\n",
       "      <td>7</td>\n",
       "      <td>HOSPITAL ESPECIALIZADO</td>\n",
       "      <td>1245</td>\n",
       "    </tr>\n",
       "  </tbody>\n",
       "</table>\n",
       "</div>"
      ],
      "text/plain": [
       "   cod_unidades                       descricao  total\n",
       "0             1                  POSTO DE SAUDE  11328\n",
       "1             2  CENTRO DE SAUDE/UNIDADE BASICA  39253\n",
       "2             4                     POLICLINICA   8770\n",
       "3             5                  HOSPITAL GERAL   5795\n",
       "4             7          HOSPITAL ESPECIALIZADO   1245"
      ]
     },
     "execution_count": 20,
     "metadata": {},
     "output_type": "execute_result"
    }
   ],
   "source": [
    "tipo_unidade = pd.read_csv('cod_atividade.csv', sep=',', encoding='Latin-1')\n",
    "tipo_unidade.head(5)"
   ]
  },
  {
   "cell_type": "code",
   "execution_count": 21,
   "metadata": {},
   "outputs": [],
   "source": [
    "tipo_unidade.columns = ['tipo_unidade', 'descricao', 'total']"
   ]
  },
  {
   "cell_type": "code",
   "execution_count": 22,
   "metadata": {},
   "outputs": [
    {
     "data": {
      "text/html": [
       "<div>\n",
       "<style scoped>\n",
       "    .dataframe tbody tr th:only-of-type {\n",
       "        vertical-align: middle;\n",
       "    }\n",
       "\n",
       "    .dataframe tbody tr th {\n",
       "        vertical-align: top;\n",
       "    }\n",
       "\n",
       "    .dataframe thead th {\n",
       "        text-align: right;\n",
       "    }\n",
       "</style>\n",
       "<table border=\"1\" class=\"dataframe\">\n",
       "  <thead>\n",
       "    <tr style=\"text-align: right;\">\n",
       "      <th></th>\n",
       "      <th>tipo_unidade</th>\n",
       "      <th>descricao</th>\n",
       "      <th>total</th>\n",
       "    </tr>\n",
       "  </thead>\n",
       "  <tbody>\n",
       "    <tr>\n",
       "      <th>0</th>\n",
       "      <td>1</td>\n",
       "      <td>POSTO DE SAUDE</td>\n",
       "      <td>11328</td>\n",
       "    </tr>\n",
       "    <tr>\n",
       "      <th>1</th>\n",
       "      <td>2</td>\n",
       "      <td>CENTRO DE SAUDE/UNIDADE BASICA</td>\n",
       "      <td>39253</td>\n",
       "    </tr>\n",
       "    <tr>\n",
       "      <th>2</th>\n",
       "      <td>4</td>\n",
       "      <td>POLICLINICA</td>\n",
       "      <td>8770</td>\n",
       "    </tr>\n",
       "  </tbody>\n",
       "</table>\n",
       "</div>"
      ],
      "text/plain": [
       "   tipo_unidade                       descricao  total\n",
       "0             1                  POSTO DE SAUDE  11328\n",
       "1             2  CENTRO DE SAUDE/UNIDADE BASICA  39253\n",
       "2             4                     POLICLINICA   8770"
      ]
     },
     "execution_count": 22,
     "metadata": {},
     "output_type": "execute_result"
    }
   ],
   "source": [
    "tipo_unidade.head(3)"
   ]
  },
  {
   "cell_type": "code",
   "execution_count": 17,
   "metadata": {},
   "outputs": [
    {
     "data": {
      "text/plain": [
       "365558"
      ]
     },
     "execution_count": 17,
     "metadata": {},
     "output_type": "execute_result"
    }
   ],
   "source": [
    "tipo_unidade['total'].sum()"
   ]
  },
  {
   "cell_type": "code",
   "execution_count": 77,
   "metadata": {},
   "outputs": [
    {
     "data": {
      "text/plain": [
       "array(['POSTO DE SAUDE', 'CENTRO DE SAUDE/UNIDADE BASICA', 'POLICLINICA',\n",
       "       'HOSPITAL GERAL', 'HOSPITAL ESPECIALIZADO', 'UNIDADE MISTA',\n",
       "       'PRONTO SOCORRO GERAL', 'PRONTO SOCORRO ESPECIALIZADO',\n",
       "       'CONSULTORIO ISOLADO', 'UNIDADE MOVEL FLUVIAL',\n",
       "       'CLINICA/CENTRO DE ESPECIALIDADE',\n",
       "       'UNIDADE DE APOIO DIAGNOSE E TERAPIA (SADT ISOLADO)',\n",
       "       'UNIDADE MOVEL TERRESTRE',\n",
       "       'UNIDADE MOVEL DE NIVEL PRE-HOSPITALAR NA AREA DE URGENCIA',\n",
       "       'FARMACIA', 'UNIDADE DE VIGILANCIA EM SAUDE',\n",
       "       'COOPERATIVA OU EMPRESA DE CESSAO DE TRABALHADORES NA SAUDE',\n",
       "       'CENTRO DE PARTO NORMAL \\x96 ISOLADO', 'HOSPITAL/DIA \\x96 ISOLADO',\n",
       "       'LABORATORIO CENTRAL DE SAUDE PUBLICA LACEN ',\n",
       "       'CENTRAL DE GESTAO EM SAUDE',\n",
       "       'CENTRO DE ATENCAO HEMOTERAPIA E OU HEMATOLOGICA',\n",
       "       'CENTRO DE ATENCAO PSICOSSOCIAL',\n",
       "       'CENTRO DE APOIO A SAUDE DA FAMILIA',\n",
       "       'UNIDADE DE ATENCAO A SAUDE INDIGENA', 'PRONTO ATENDIMENTO',\n",
       "       'POLO ACADEMIA DA SAUDE', 'TELESSAUDE',\n",
       "       'CENTRAL DE REGULACAO MEDICA DAS URGENCIAS',\n",
       "       'SERVICO DE ATENCAO DOMICILIAR ISOLADO(HOME CARE)',\n",
       "       'UNIDADE DE ATENCAO EM REGIME RESIDENCIAL', 'OFICINA ORTOPEDICA',\n",
       "       'LABORATORIO DE SAUDE PUBLICA', 'CENTRAL DE REGULACAO DO ACESSO',\n",
       "       'CENTRAL DE NOTIFICACAO,CAPTACAO E DISTRIB DE ORGAOS ESTADUAL',\n",
       "       'POLO DE PREVENCAO DE DOENCAS E AGRAVOS E PROMOCAO DA SAUDE'],\n",
       "      dtype=object)"
      ]
     },
     "execution_count": 77,
     "metadata": {},
     "output_type": "execute_result"
    }
   ],
   "source": [
    "tipo_unidade['descricao'].unique()"
   ]
  },
  {
   "cell_type": "code",
   "execution_count": 26,
   "metadata": {},
   "outputs": [],
   "source": [
    "posto = 11328"
   ]
  },
  {
   "cell_type": "code",
   "execution_count": 27,
   "metadata": {},
   "outputs": [],
   "source": [
    "ubs = 39253"
   ]
  },
  {
   "cell_type": "code",
   "execution_count": 28,
   "metadata": {},
   "outputs": [],
   "source": [
    "consultorio = 180265"
   ]
  },
  {
   "cell_type": "code",
   "execution_count": 29,
   "metadata": {},
   "outputs": [
    {
     "data": {
      "text/plain": [
       "230846"
      ]
     },
     "execution_count": 29,
     "metadata": {},
     "output_type": "execute_result"
    }
   ],
   "source": [
    "posto + ubs + consultorio"
   ]
  },
  {
   "cell_type": "code",
   "execution_count": 30,
   "metadata": {},
   "outputs": [
    {
     "data": {
      "text/plain": [
       "63.29733123846658"
      ]
     },
     "execution_count": 30,
     "metadata": {},
     "output_type": "execute_result"
    }
   ],
   "source": [
    "#calculando a atenção básica no total da rede_atendimento = 364701\n",
    "\n",
    "(230846/364701)*100\n",
    "\n",
    "# A rede de atenção básica corresponde a 63% do total da rede de assistência a saúde."
   ]
  },
  {
   "cell_type": "code",
   "execution_count": 31,
   "metadata": {},
   "outputs": [
    {
     "data": {
      "text/html": [
       "<div>\n",
       "<style scoped>\n",
       "    .dataframe tbody tr th:only-of-type {\n",
       "        vertical-align: middle;\n",
       "    }\n",
       "\n",
       "    .dataframe tbody tr th {\n",
       "        vertical-align: top;\n",
       "    }\n",
       "\n",
       "    .dataframe thead th {\n",
       "        text-align: right;\n",
       "    }\n",
       "</style>\n",
       "<table border=\"1\" class=\"dataframe\">\n",
       "  <thead>\n",
       "    <tr style=\"text-align: right;\">\n",
       "      <th></th>\n",
       "      <th>cod_unidades</th>\n",
       "      <th>cod_cnes</th>\n",
       "      <th>tipo_unidade</th>\n",
       "      <th>code</th>\n",
       "      <th>cod_gestao</th>\n",
       "      <th>descricao</th>\n",
       "      <th>total</th>\n",
       "    </tr>\n",
       "  </thead>\n",
       "  <tbody>\n",
       "    <tr>\n",
       "      <th>0</th>\n",
       "      <td>2928707453280</td>\n",
       "      <td>7453280</td>\n",
       "      <td>1</td>\n",
       "      <td>292870</td>\n",
       "      <td>M</td>\n",
       "      <td>POSTO DE SAUDE</td>\n",
       "      <td>11328</td>\n",
       "    </tr>\n",
       "    <tr>\n",
       "      <th>1</th>\n",
       "      <td>2202707466803</td>\n",
       "      <td>7466803</td>\n",
       "      <td>1</td>\n",
       "      <td>220270</td>\n",
       "      <td>M</td>\n",
       "      <td>POSTO DE SAUDE</td>\n",
       "      <td>11328</td>\n",
       "    </tr>\n",
       "    <tr>\n",
       "      <th>2</th>\n",
       "      <td>3106207467591</td>\n",
       "      <td>7467591</td>\n",
       "      <td>1</td>\n",
       "      <td>310620</td>\n",
       "      <td>M</td>\n",
       "      <td>POSTO DE SAUDE</td>\n",
       "      <td>11328</td>\n",
       "    </tr>\n",
       "    <tr>\n",
       "      <th>3</th>\n",
       "      <td>3161107465823</td>\n",
       "      <td>7465823</td>\n",
       "      <td>1</td>\n",
       "      <td>316110</td>\n",
       "      <td>M</td>\n",
       "      <td>POSTO DE SAUDE</td>\n",
       "      <td>11328</td>\n",
       "    </tr>\n",
       "    <tr>\n",
       "      <th>4</th>\n",
       "      <td>3504907462484</td>\n",
       "      <td>7462484</td>\n",
       "      <td>1</td>\n",
       "      <td>350490</td>\n",
       "      <td>M</td>\n",
       "      <td>POSTO DE SAUDE</td>\n",
       "      <td>11328</td>\n",
       "    </tr>\n",
       "  </tbody>\n",
       "</table>\n",
       "</div>"
      ],
      "text/plain": [
       "    cod_unidades  cod_cnes  tipo_unidade    code cod_gestao       descricao  \\\n",
       "0  2928707453280   7453280             1  292870          M  POSTO DE SAUDE   \n",
       "1  2202707466803   7466803             1  220270          M  POSTO DE SAUDE   \n",
       "2  3106207467591   7467591             1  310620          M  POSTO DE SAUDE   \n",
       "3  3161107465823   7465823             1  316110          M  POSTO DE SAUDE   \n",
       "4  3504907462484   7462484             1  350490          M  POSTO DE SAUDE   \n",
       "\n",
       "   total  \n",
       "0  11328  \n",
       "1  11328  \n",
       "2  11328  \n",
       "3  11328  \n",
       "4  11328  "
      ]
     },
     "execution_count": 31,
     "metadata": {},
     "output_type": "execute_result"
    }
   ],
   "source": [
    "rede_tipo = pd.merge(rede_saude, tipo_unidade, on='tipo_unidade')\n",
    "rede_tipo.head()"
   ]
  },
  {
   "cell_type": "code",
   "execution_count": 34,
   "metadata": {},
   "outputs": [
    {
     "data": {
      "text/html": [
       "<div>\n",
       "<style scoped>\n",
       "    .dataframe tbody tr th:only-of-type {\n",
       "        vertical-align: middle;\n",
       "    }\n",
       "\n",
       "    .dataframe tbody tr th {\n",
       "        vertical-align: top;\n",
       "    }\n",
       "\n",
       "    .dataframe thead th {\n",
       "        text-align: right;\n",
       "    }\n",
       "</style>\n",
       "<table border=\"1\" class=\"dataframe\">\n",
       "  <thead>\n",
       "    <tr style=\"text-align: right;\">\n",
       "      <th></th>\n",
       "      <th>cod_unidades</th>\n",
       "      <th>cod_cnes</th>\n",
       "      <th>tipo_unidade</th>\n",
       "      <th>code</th>\n",
       "      <th>cod_gestao</th>\n",
       "      <th>descricao</th>\n",
       "      <th>total</th>\n",
       "      <th>city</th>\n",
       "      <th>state</th>\n",
       "      <th>abbreviation</th>\n",
       "      <th>region</th>\n",
       "      <th>lat</th>\n",
       "      <th>long</th>\n",
       "      <th>year</th>\n",
       "      <th>population</th>\n",
       "    </tr>\n",
       "  </thead>\n",
       "  <tbody>\n",
       "    <tr>\n",
       "      <th>0</th>\n",
       "      <td>2928707453280</td>\n",
       "      <td>7453280</td>\n",
       "      <td>1</td>\n",
       "      <td>292870</td>\n",
       "      <td>M</td>\n",
       "      <td>POSTO DE SAUDE</td>\n",
       "      <td>11328</td>\n",
       "      <td>Santo Antônio de Jesus</td>\n",
       "      <td>Bahia</td>\n",
       "      <td>BA</td>\n",
       "      <td>NORDESTE</td>\n",
       "      <td>-12.9614</td>\n",
       "      <td>-39.2584</td>\n",
       "      <td>2017</td>\n",
       "      <td>103342.0</td>\n",
       "    </tr>\n",
       "    <tr>\n",
       "      <th>1</th>\n",
       "      <td>2928707453337</td>\n",
       "      <td>7453337</td>\n",
       "      <td>1</td>\n",
       "      <td>292870</td>\n",
       "      <td>M</td>\n",
       "      <td>POSTO DE SAUDE</td>\n",
       "      <td>11328</td>\n",
       "      <td>Santo Antônio de Jesus</td>\n",
       "      <td>Bahia</td>\n",
       "      <td>BA</td>\n",
       "      <td>NORDESTE</td>\n",
       "      <td>-12.9614</td>\n",
       "      <td>-39.2584</td>\n",
       "      <td>2017</td>\n",
       "      <td>103342.0</td>\n",
       "    </tr>\n",
       "    <tr>\n",
       "      <th>2</th>\n",
       "      <td>2928707453361</td>\n",
       "      <td>7453361</td>\n",
       "      <td>1</td>\n",
       "      <td>292870</td>\n",
       "      <td>M</td>\n",
       "      <td>POSTO DE SAUDE</td>\n",
       "      <td>11328</td>\n",
       "      <td>Santo Antônio de Jesus</td>\n",
       "      <td>Bahia</td>\n",
       "      <td>BA</td>\n",
       "      <td>NORDESTE</td>\n",
       "      <td>-12.9614</td>\n",
       "      <td>-39.2584</td>\n",
       "      <td>2017</td>\n",
       "      <td>103342.0</td>\n",
       "    </tr>\n",
       "    <tr>\n",
       "      <th>3</th>\n",
       "      <td>2928707453272</td>\n",
       "      <td>7453272</td>\n",
       "      <td>1</td>\n",
       "      <td>292870</td>\n",
       "      <td>M</td>\n",
       "      <td>POSTO DE SAUDE</td>\n",
       "      <td>11328</td>\n",
       "      <td>Santo Antônio de Jesus</td>\n",
       "      <td>Bahia</td>\n",
       "      <td>BA</td>\n",
       "      <td>NORDESTE</td>\n",
       "      <td>-12.9614</td>\n",
       "      <td>-39.2584</td>\n",
       "      <td>2017</td>\n",
       "      <td>103342.0</td>\n",
       "    </tr>\n",
       "    <tr>\n",
       "      <th>4</th>\n",
       "      <td>2928707510454</td>\n",
       "      <td>7510454</td>\n",
       "      <td>1</td>\n",
       "      <td>292870</td>\n",
       "      <td>M</td>\n",
       "      <td>POSTO DE SAUDE</td>\n",
       "      <td>11328</td>\n",
       "      <td>Santo Antônio de Jesus</td>\n",
       "      <td>Bahia</td>\n",
       "      <td>BA</td>\n",
       "      <td>NORDESTE</td>\n",
       "      <td>-12.9614</td>\n",
       "      <td>-39.2584</td>\n",
       "      <td>2017</td>\n",
       "      <td>103342.0</td>\n",
       "    </tr>\n",
       "  </tbody>\n",
       "</table>\n",
       "</div>"
      ],
      "text/plain": [
       "    cod_unidades  cod_cnes  tipo_unidade    code cod_gestao       descricao  \\\n",
       "0  2928707453280   7453280             1  292870          M  POSTO DE SAUDE   \n",
       "1  2928707453337   7453337             1  292870          M  POSTO DE SAUDE   \n",
       "2  2928707453361   7453361             1  292870          M  POSTO DE SAUDE   \n",
       "3  2928707453272   7453272             1  292870          M  POSTO DE SAUDE   \n",
       "4  2928707510454   7510454             1  292870          M  POSTO DE SAUDE   \n",
       "\n",
       "   total                    city  state abbreviation    region      lat  \\\n",
       "0  11328  Santo Antônio de Jesus  Bahia           BA  NORDESTE -12.9614   \n",
       "1  11328  Santo Antônio de Jesus  Bahia           BA  NORDESTE -12.9614   \n",
       "2  11328  Santo Antônio de Jesus  Bahia           BA  NORDESTE -12.9614   \n",
       "3  11328  Santo Antônio de Jesus  Bahia           BA  NORDESTE -12.9614   \n",
       "4  11328  Santo Antônio de Jesus  Bahia           BA  NORDESTE -12.9614   \n",
       "\n",
       "      long  year  population  \n",
       "0 -39.2584  2017    103342.0  \n",
       "1 -39.2584  2017    103342.0  \n",
       "2 -39.2584  2017    103342.0  \n",
       "3 -39.2584  2017    103342.0  \n",
       "4 -39.2584  2017    103342.0  "
      ]
     },
     "execution_count": 34,
     "metadata": {},
     "output_type": "execute_result"
    }
   ],
   "source": [
    "rede_brasil = pd.merge(rede_tipo, brasil, on='code')\n",
    "rede_brasil.head()"
   ]
  },
  {
   "cell_type": "code",
   "execution_count": 87,
   "metadata": {},
   "outputs": [
    {
     "name": "stdout",
     "output_type": "stream",
     "text": [
      "<class 'pandas.core.frame.DataFrame'>\n",
      "Int64Index: 364562 entries, 0 to 364561\n",
      "Data columns (total 7 columns):\n",
      "cod_unidades    364562 non-null object\n",
      "cod_cnes        364562 non-null int64\n",
      "tipo_unidade    364562 non-null int64\n",
      "code            364562 non-null int64\n",
      "cod_gestao      364562 non-null object\n",
      "descricao       364562 non-null object\n",
      "total           364562 non-null int64\n",
      "dtypes: int64(4), object(3)\n",
      "memory usage: 22.3+ MB\n"
     ]
    }
   ],
   "source": [
    "rede_tipo.info()"
   ]
  },
  {
   "cell_type": "code",
   "execution_count": 35,
   "metadata": {},
   "outputs": [
    {
     "name": "stdout",
     "output_type": "stream",
     "text": [
      "<class 'pandas.core.frame.DataFrame'>\n",
      "Int64Index: 364198 entries, 0 to 364197\n",
      "Data columns (total 15 columns):\n",
      "cod_unidades    364198 non-null object\n",
      "cod_cnes        364198 non-null int64\n",
      "tipo_unidade    364198 non-null int64\n",
      "code            364198 non-null int64\n",
      "cod_gestao      364198 non-null object\n",
      "descricao       364198 non-null object\n",
      "total           364198 non-null int64\n",
      "city            364198 non-null object\n",
      "state           364198 non-null object\n",
      "abbreviation    364198 non-null object\n",
      "region          364198 non-null object\n",
      "lat             364198 non-null float64\n",
      "long            364198 non-null float64\n",
      "year            364198 non-null int64\n",
      "population      364198 non-null float64\n",
      "dtypes: float64(3), int64(5), object(7)\n",
      "memory usage: 44.5+ MB\n"
     ]
    }
   ],
   "source": [
    "rede_brasil.info()"
   ]
  },
  {
   "cell_type": "code",
   "execution_count": 42,
   "metadata": {},
   "outputs": [],
   "source": [
    "#rede_brasil.groupby('state')['cod_cnes'].count()"
   ]
  },
  {
   "cell_type": "code",
   "execution_count": 50,
   "metadata": {},
   "outputs": [
    {
     "data": {
      "text/plain": [
       "São Paulo              88012\n",
       "Minas Gerais           45486\n",
       "Rio de Janeiro         27957\n",
       "Rio Grande do Sul      27739\n",
       "Paraná                 27281\n",
       "Bahia                  19060\n",
       "Santa Catarina         18673\n",
       "Ceará                  12659\n",
       "Goiás                  10869\n",
       "Pernambuco             10473\n",
       "Espírito Santo          8133\n",
       "Pará                    7795\n",
       "Mato Grosso             6826\n",
       "Paraíba                 6758\n",
       "Distrito Federal        6708\n",
       "Maranhão                6105\n",
       "Mato Grosso do Sul      5526\n",
       "Rio Grande do Norte     4975\n",
       "Piauí                   4375\n",
       "Sergipe                 3925\n",
       "Alagoas                 3759\n",
       "Rondônia                3445\n",
       "Amazonas                2814\n",
       "Tocantins               2106\n",
       "Acre                    1055\n",
       "Roraima                  976\n",
       "Amapá                    708\n",
       "Name: state, dtype: int64"
      ]
     },
     "execution_count": 50,
     "metadata": {},
     "output_type": "execute_result"
    }
   ],
   "source": [
    "rede_brasil['state'].value_counts()"
   ]
  },
  {
   "cell_type": "code",
   "execution_count": 45,
   "metadata": {},
   "outputs": [],
   "source": [
    "rede_state = rede_brasil['state'].value_counts()"
   ]
  },
  {
   "cell_type": "code",
   "execution_count": 51,
   "metadata": {},
   "outputs": [
    {
     "data": {
      "text/plain": [
       "<bound method Series.to_csv of São Paulo              88012\n",
       "Minas Gerais           45486\n",
       "Rio de Janeiro         27957\n",
       "Rio Grande do Sul      27739\n",
       "Paraná                 27281\n",
       "Bahia                  19060\n",
       "Santa Catarina         18673\n",
       "Ceará                  12659\n",
       "Goiás                  10869\n",
       "Pernambuco             10473\n",
       "Espírito Santo          8133\n",
       "Pará                    7795\n",
       "Mato Grosso             6826\n",
       "Paraíba                 6758\n",
       "Distrito Federal        6708\n",
       "Maranhão                6105\n",
       "Mato Grosso do Sul      5526\n",
       "Rio Grande do Norte     4975\n",
       "Piauí                   4375\n",
       "Sergipe                 3925\n",
       "Alagoas                 3759\n",
       "Rondônia                3445\n",
       "Amazonas                2814\n",
       "Tocantins               2106\n",
       "Acre                    1055\n",
       "Roraima                  976\n",
       "Amapá                    708\n",
       "Name: state, dtype: int64>"
      ]
     },
     "execution_count": 51,
     "metadata": {},
     "output_type": "execute_result"
    }
   ],
   "source": [
    "rede_state.to_csv"
   ]
  },
  {
   "cell_type": "code",
   "execution_count": null,
   "metadata": {},
   "outputs": [],
   "source": []
  }
 ],
 "metadata": {
  "kernelspec": {
   "display_name": "Python 3",
   "language": "python",
   "name": "python3"
  },
  "language_info": {
   "codemirror_mode": {
    "name": "ipython",
    "version": 3
   },
   "file_extension": ".py",
   "mimetype": "text/x-python",
   "name": "python",
   "nbconvert_exporter": "python",
   "pygments_lexer": "ipython3",
   "version": "3.6.8"
  }
 },
 "nbformat": 4,
 "nbformat_minor": 2
}
