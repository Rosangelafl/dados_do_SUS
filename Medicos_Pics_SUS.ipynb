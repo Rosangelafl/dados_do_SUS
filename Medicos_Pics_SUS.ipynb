{
 "cells": [
  {
   "cell_type": "markdown",
   "metadata": {},
   "source": [
    "Quantificando os profissionais de saúde que atuam nas PICs\n",
    "\n",
    "Fonte.: CBO(CLASSIFICAÇÃO BRASILEIRA DE OCUPAÇÕES)\n",
    "http://www.mtecbo.gov.br/cbosite/pages/pesquisas/BuscaPorEstrutura.jsf\n",
    "\n",
    "Procura pelo códigos 2251-05 - Médico acupunturista |2251-54 - Médico antroposófico | 2251-95 - Médico homeopata\n",
    "|2234-25 - Farmacêutico práticas integrativas e complementares."
   ]
  },
  {
   "cell_type": "code",
   "execution_count": 1,
   "metadata": {},
   "outputs": [],
   "source": [
    "import pandas as pd\n",
    "import numpy as np"
   ]
  },
  {
   "cell_type": "code",
   "execution_count": 2,
   "metadata": {},
   "outputs": [
    {
     "data": {
      "text/html": [
       "<div>\n",
       "<style scoped>\n",
       "    .dataframe tbody tr th:only-of-type {\n",
       "        vertical-align: middle;\n",
       "    }\n",
       "\n",
       "    .dataframe tbody tr th {\n",
       "        vertical-align: top;\n",
       "    }\n",
       "\n",
       "    .dataframe thead th {\n",
       "        text-align: right;\n",
       "    }\n",
       "</style>\n",
       "<table border=\"1\" class=\"dataframe\">\n",
       "  <thead>\n",
       "    <tr style=\"text-align: right;\">\n",
       "      <th></th>\n",
       "      <th>CO_UNIDADE</th>\n",
       "      <th>CO_PROFISSIONAL_SUS</th>\n",
       "      <th>CO_CBO</th>\n",
       "      <th>TP_SUS_NAO_SUS</th>\n",
       "      <th>IND_VINCULACAO</th>\n",
       "      <th>TP_TERCEIRO_SIH</th>\n",
       "      <th>QT_CARGA_HORARIA_AMBULATORIAL</th>\n",
       "      <th>CO_CONSELHO_CLASSE</th>\n",
       "      <th>NU_REGISTRO</th>\n",
       "      <th>SG_UF_CRM</th>\n",
       "      <th>TP_PRECEPTOR</th>\n",
       "      <th>TP_RESIDENTE</th>\n",
       "      <th>NU_CNPJ_DETALHAMENTO_VINCULO</th>\n",
       "      <th>TO_CHAR(A.DT_ATUALIZACAO,'DD/MM/YYYY')</th>\n",
       "      <th>CO_USUARIO</th>\n",
       "      <th>TO_CHAR(A.DT_ATUALIZACAO_ORIGEM,'DD/MM/YYYY')</th>\n",
       "    </tr>\n",
       "  </thead>\n",
       "  <tbody>\n",
       "    <tr>\n",
       "      <th>0</th>\n",
       "      <td>AP00000000000000099990010000004</td>\n",
       "      <td>1EFFD0E1186062EE</td>\n",
       "      <td>515105</td>\n",
       "      <td>S</td>\n",
       "      <td>10000</td>\n",
       "      <td>2</td>\n",
       "      <td>0.0</td>\n",
       "      <td>99.0</td>\n",
       "      <td>NaN</td>\n",
       "      <td>NaN</td>\n",
       "      <td>NaN</td>\n",
       "      <td>NaN</td>\n",
       "      <td>NaN</td>\n",
       "      <td>01/10/2001</td>\n",
       "      <td>eneida</td>\n",
       "      <td>NaN</td>\n",
       "    </tr>\n",
       "    <tr>\n",
       "      <th>1</th>\n",
       "      <td>AP00000000000000099990010000005</td>\n",
       "      <td>E93ACAD355032651</td>\n",
       "      <td>515105</td>\n",
       "      <td>S</td>\n",
       "      <td>10000</td>\n",
       "      <td>2</td>\n",
       "      <td>0.0</td>\n",
       "      <td>99.0</td>\n",
       "      <td>NaN</td>\n",
       "      <td>NaN</td>\n",
       "      <td>NaN</td>\n",
       "      <td>NaN</td>\n",
       "      <td>NaN</td>\n",
       "      <td>10/12/2001</td>\n",
       "      <td>eneida</td>\n",
       "      <td>NaN</td>\n",
       "    </tr>\n",
       "    <tr>\n",
       "      <th>2</th>\n",
       "      <td>AP00000000000000099990010000006</td>\n",
       "      <td>9D7D13462EBC2D66</td>\n",
       "      <td>1999A1</td>\n",
       "      <td>S</td>\n",
       "      <td>10000</td>\n",
       "      <td>2</td>\n",
       "      <td>40.0</td>\n",
       "      <td>99.0</td>\n",
       "      <td>NaN</td>\n",
       "      <td>NaN</td>\n",
       "      <td>NaN</td>\n",
       "      <td>NaN</td>\n",
       "      <td>NaN</td>\n",
       "      <td>31/10/2001</td>\n",
       "      <td>eneida</td>\n",
       "      <td>NaN</td>\n",
       "    </tr>\n",
       "    <tr>\n",
       "      <th>3</th>\n",
       "      <td>AP00000000000000099990010000006</td>\n",
       "      <td>DEF8D0C3756B2772</td>\n",
       "      <td>1999A1</td>\n",
       "      <td>S</td>\n",
       "      <td>10000</td>\n",
       "      <td>2</td>\n",
       "      <td>40.0</td>\n",
       "      <td>99.0</td>\n",
       "      <td>NaN</td>\n",
       "      <td>NaN</td>\n",
       "      <td>NaN</td>\n",
       "      <td>NaN</td>\n",
       "      <td>NaN</td>\n",
       "      <td>31/10/2001</td>\n",
       "      <td>eneida</td>\n",
       "      <td>NaN</td>\n",
       "    </tr>\n",
       "    <tr>\n",
       "      <th>4</th>\n",
       "      <td>BA00002914802000000000001538640</td>\n",
       "      <td>67A69EB2A0A7D21F</td>\n",
       "      <td>324210</td>\n",
       "      <td>S</td>\n",
       "      <td>10000</td>\n",
       "      <td>2</td>\n",
       "      <td>48.0</td>\n",
       "      <td>99.0</td>\n",
       "      <td>NaN</td>\n",
       "      <td>NaN</td>\n",
       "      <td>NaN</td>\n",
       "      <td>NaN</td>\n",
       "      <td>NaN</td>\n",
       "      <td>25/09/2001</td>\n",
       "      <td>carlinda</td>\n",
       "      <td>NaN</td>\n",
       "    </tr>\n",
       "  </tbody>\n",
       "</table>\n",
       "</div>"
      ],
      "text/plain": [
       "                        CO_UNIDADE CO_PROFISSIONAL_SUS  CO_CBO TP_SUS_NAO_SUS  \\\n",
       "0  AP00000000000000099990010000004    1EFFD0E1186062EE  515105              S   \n",
       "1  AP00000000000000099990010000005    E93ACAD355032651  515105              S   \n",
       "2  AP00000000000000099990010000006    9D7D13462EBC2D66  1999A1              S   \n",
       "3  AP00000000000000099990010000006    DEF8D0C3756B2772  1999A1              S   \n",
       "4  BA00002914802000000000001538640    67A69EB2A0A7D21F  324210              S   \n",
       "\n",
       "   IND_VINCULACAO TP_TERCEIRO_SIH  QT_CARGA_HORARIA_AMBULATORIAL  \\\n",
       "0           10000               2                            0.0   \n",
       "1           10000               2                            0.0   \n",
       "2           10000               2                           40.0   \n",
       "3           10000               2                           40.0   \n",
       "4           10000               2                           48.0   \n",
       "\n",
       "   CO_CONSELHO_CLASSE NU_REGISTRO SG_UF_CRM  TP_PRECEPTOR  TP_RESIDENTE  \\\n",
       "0                99.0         NaN       NaN           NaN           NaN   \n",
       "1                99.0         NaN       NaN           NaN           NaN   \n",
       "2                99.0         NaN       NaN           NaN           NaN   \n",
       "3                99.0         NaN       NaN           NaN           NaN   \n",
       "4                99.0         NaN       NaN           NaN           NaN   \n",
       "\n",
       "  NU_CNPJ_DETALHAMENTO_VINCULO TO_CHAR(A.DT_ATUALIZACAO,'DD/MM/YYYY')  \\\n",
       "0                          NaN                             01/10/2001   \n",
       "1                          NaN                             10/12/2001   \n",
       "2                          NaN                             31/10/2001   \n",
       "3                          NaN                             31/10/2001   \n",
       "4                          NaN                             25/09/2001   \n",
       "\n",
       "  CO_USUARIO  TO_CHAR(A.DT_ATUALIZACAO_ORIGEM,'DD/MM/YYYY')  \n",
       "0     eneida                                            NaN  \n",
       "1     eneida                                            NaN  \n",
       "2     eneida                                            NaN  \n",
       "3     eneida                                            NaN  \n",
       "4   carlinda                                            NaN  "
      ]
     },
     "execution_count": 2,
     "metadata": {},
     "output_type": "execute_result"
    }
   ],
   "source": [
    "medicos = pd.read_csv('tbCargaHorariaSus201809.csv', sep=';', encoding='utf-8', low_memory=False)\n",
    "medicos.head()"
   ]
  },
  {
   "cell_type": "code",
   "execution_count": 3,
   "metadata": {},
   "outputs": [
    {
     "data": {
      "text/plain": [
       "Index(['CO_UNIDADE', 'CO_PROFISSIONAL_SUS', 'CO_CBO', 'TP_SUS_NAO_SUS',\n",
       "       'IND_VINCULACAO', 'TP_TERCEIRO_SIH', 'QT_CARGA_HORARIA_AMBULATORIAL',\n",
       "       'CO_CONSELHO_CLASSE', 'NU_REGISTRO', 'SG_UF_CRM', 'TP_PRECEPTOR',\n",
       "       'TP_RESIDENTE', 'NU_CNPJ_DETALHAMENTO_VINCULO',\n",
       "       'TO_CHAR(A.DT_ATUALIZACAO,'DD/MM/YYYY')', 'CO_USUARIO',\n",
       "       'TO_CHAR(A.DT_ATUALIZACAO_ORIGEM,'DD/MM/YYYY')'],\n",
       "      dtype='object')"
      ]
     },
     "execution_count": 3,
     "metadata": {},
     "output_type": "execute_result"
    }
   ],
   "source": [
    "medicos.columns"
   ]
  },
  {
   "cell_type": "code",
   "execution_count": 4,
   "metadata": {},
   "outputs": [
    {
     "data": {
      "text/plain": [
       "3968494"
      ]
     },
     "execution_count": 4,
     "metadata": {},
     "output_type": "execute_result"
    }
   ],
   "source": [
    "medicos['CO_CBO'].count()"
   ]
  },
  {
   "cell_type": "code",
   "execution_count": 5,
   "metadata": {},
   "outputs": [
    {
     "data": {
      "text/html": [
       "<div>\n",
       "<style scoped>\n",
       "    .dataframe tbody tr th:only-of-type {\n",
       "        vertical-align: middle;\n",
       "    }\n",
       "\n",
       "    .dataframe tbody tr th {\n",
       "        vertical-align: top;\n",
       "    }\n",
       "\n",
       "    .dataframe thead th {\n",
       "        text-align: right;\n",
       "    }\n",
       "</style>\n",
       "<table border=\"1\" class=\"dataframe\">\n",
       "  <thead>\n",
       "    <tr style=\"text-align: right;\">\n",
       "      <th></th>\n",
       "      <th>CO_PROFISSIONAL_SUS</th>\n",
       "      <th>CO_CBO</th>\n",
       "      <th>TP_SUS_NAO_SUS</th>\n",
       "      <th>SG_UF_CRM</th>\n",
       "    </tr>\n",
       "  </thead>\n",
       "  <tbody>\n",
       "    <tr>\n",
       "      <th>0</th>\n",
       "      <td>1EFFD0E1186062EE</td>\n",
       "      <td>515105</td>\n",
       "      <td>S</td>\n",
       "      <td>NaN</td>\n",
       "    </tr>\n",
       "    <tr>\n",
       "      <th>1</th>\n",
       "      <td>E93ACAD355032651</td>\n",
       "      <td>515105</td>\n",
       "      <td>S</td>\n",
       "      <td>NaN</td>\n",
       "    </tr>\n",
       "    <tr>\n",
       "      <th>2</th>\n",
       "      <td>9D7D13462EBC2D66</td>\n",
       "      <td>1999A1</td>\n",
       "      <td>S</td>\n",
       "      <td>NaN</td>\n",
       "    </tr>\n",
       "    <tr>\n",
       "      <th>3</th>\n",
       "      <td>DEF8D0C3756B2772</td>\n",
       "      <td>1999A1</td>\n",
       "      <td>S</td>\n",
       "      <td>NaN</td>\n",
       "    </tr>\n",
       "    <tr>\n",
       "      <th>4</th>\n",
       "      <td>67A69EB2A0A7D21F</td>\n",
       "      <td>324210</td>\n",
       "      <td>S</td>\n",
       "      <td>NaN</td>\n",
       "    </tr>\n",
       "  </tbody>\n",
       "</table>\n",
       "</div>"
      ],
      "text/plain": [
       "  CO_PROFISSIONAL_SUS  CO_CBO TP_SUS_NAO_SUS SG_UF_CRM\n",
       "0    1EFFD0E1186062EE  515105              S       NaN\n",
       "1    E93ACAD355032651  515105              S       NaN\n",
       "2    9D7D13462EBC2D66  1999A1              S       NaN\n",
       "3    DEF8D0C3756B2772  1999A1              S       NaN\n",
       "4    67A69EB2A0A7D21F  324210              S       NaN"
      ]
     },
     "execution_count": 5,
     "metadata": {},
     "output_type": "execute_result"
    }
   ],
   "source": [
    "medicos = pd.read_csv('tbCargaHorariaSus201809.csv', sep=';', encoding='utf-8', low_memory=False, usecols = [1, 2, 3, 9])\n",
    "medicos.head()"
   ]
  },
  {
   "cell_type": "code",
   "execution_count": 6,
   "metadata": {},
   "outputs": [
    {
     "name": "stdout",
     "output_type": "stream",
     "text": [
      "<class 'pandas.core.frame.DataFrame'>\n",
      "RangeIndex: 3968494 entries, 0 to 3968493\n",
      "Data columns (total 4 columns):\n",
      "CO_PROFISSIONAL_SUS    object\n",
      "CO_CBO                 object\n",
      "TP_SUS_NAO_SUS         object\n",
      "SG_UF_CRM              object\n",
      "dtypes: object(4)\n",
      "memory usage: 121.1+ MB\n"
     ]
    }
   ],
   "source": [
    "medicos.info()"
   ]
  },
  {
   "cell_type": "code",
   "execution_count": 7,
   "metadata": {},
   "outputs": [
    {
     "data": {
      "text/plain": [
       "S    3067907\n",
       "N     900586\n",
       "s          1\n",
       "Name: TP_SUS_NAO_SUS, dtype: int64"
      ]
     },
     "execution_count": 7,
     "metadata": {},
     "output_type": "execute_result"
    }
   ],
   "source": [
    "medicos['TP_SUS_NAO_SUS'].value_counts()"
   ]
  },
  {
   "cell_type": "code",
   "execution_count": 8,
   "metadata": {},
   "outputs": [
    {
     "data": {
      "text/plain": [
       "array([nan, 'RO', 'SP', 'RS', 'PA', 'PR', 'MT', 'RJ', 'AC', 'RR', 'TO',\n",
       "       'MG', 'DF', 'GO', 'RN', 'CE', 'ES', 'AM', 'PB', 'MS', 'SC', 'BA',\n",
       "       'AP', 'MA', 'PE', 'SE', 'PI', 'AL', 'OA', 'PÁ', 'RB', '66', 'CF',\n",
       "       'EJ', 'RQ', 'TJ', '75', 'sp', 'RA', '99'], dtype=object)"
      ]
     },
     "execution_count": 8,
     "metadata": {},
     "output_type": "execute_result"
    }
   ],
   "source": [
    "medicos['SG_UF_CRM'].unique()"
   ]
  },
  {
   "cell_type": "code",
   "execution_count": 9,
   "metadata": {},
   "outputs": [
    {
     "data": {
      "text/plain": [
       "SP    583274\n",
       "MG    273577\n",
       "RJ    187236\n",
       "RS    155804\n",
       "PR    131769\n",
       "Name: SG_UF_CRM, dtype: int64"
      ]
     },
     "execution_count": 9,
     "metadata": {},
     "output_type": "execute_result"
    }
   ],
   "source": [
    "medicos['SG_UF_CRM'].value_counts().head()"
   ]
  },
  {
   "cell_type": "code",
   "execution_count": 10,
   "metadata": {},
   "outputs": [
    {
     "data": {
      "text/html": [
       "<div>\n",
       "<style scoped>\n",
       "    .dataframe tbody tr th:only-of-type {\n",
       "        vertical-align: middle;\n",
       "    }\n",
       "\n",
       "    .dataframe tbody tr th {\n",
       "        vertical-align: top;\n",
       "    }\n",
       "\n",
       "    .dataframe thead th {\n",
       "        text-align: right;\n",
       "    }\n",
       "</style>\n",
       "<table border=\"1\" class=\"dataframe\">\n",
       "  <thead>\n",
       "    <tr style=\"text-align: right;\">\n",
       "      <th></th>\n",
       "      <th>CO_PROFISSIONAL_SUS</th>\n",
       "      <th>CO_CBO</th>\n",
       "      <th>TP_SUS_NAO_SUS</th>\n",
       "      <th>SG_UF_CRM</th>\n",
       "    </tr>\n",
       "  </thead>\n",
       "  <tbody>\n",
       "    <tr>\n",
       "      <th>7333</th>\n",
       "      <td>C65C00B050B400C0</td>\n",
       "      <td>225105</td>\n",
       "      <td>N</td>\n",
       "      <td>RO</td>\n",
       "    </tr>\n",
       "    <tr>\n",
       "      <th>40060</th>\n",
       "      <td>F1D6D1244C078801</td>\n",
       "      <td>225105</td>\n",
       "      <td>S</td>\n",
       "      <td>AC</td>\n",
       "    </tr>\n",
       "    <tr>\n",
       "      <th>42694</th>\n",
       "      <td>F1D6D1244C078801</td>\n",
       "      <td>225105</td>\n",
       "      <td>N</td>\n",
       "      <td>AC</td>\n",
       "    </tr>\n",
       "    <tr>\n",
       "      <th>43466</th>\n",
       "      <td>A5027BF6DD76F4CB</td>\n",
       "      <td>225105</td>\n",
       "      <td>N</td>\n",
       "      <td>AC</td>\n",
       "    </tr>\n",
       "    <tr>\n",
       "      <th>77402</th>\n",
       "      <td>5E8EC1EBAD9DD6F9</td>\n",
       "      <td>225105</td>\n",
       "      <td>S</td>\n",
       "      <td>AM</td>\n",
       "    </tr>\n",
       "  </tbody>\n",
       "</table>\n",
       "</div>"
      ],
      "text/plain": [
       "      CO_PROFISSIONAL_SUS  CO_CBO TP_SUS_NAO_SUS SG_UF_CRM\n",
       "7333     C65C00B050B400C0  225105              N        RO\n",
       "40060    F1D6D1244C078801  225105              S        AC\n",
       "42694    F1D6D1244C078801  225105              N        AC\n",
       "43466    A5027BF6DD76F4CB  225105              N        AC\n",
       "77402    5E8EC1EBAD9DD6F9  225105              S        AM"
      ]
     },
     "execution_count": 10,
     "metadata": {},
     "output_type": "execute_result"
    }
   ],
   "source": [
    "#procurando a quantidade de profissionais por CBO\n",
    "medico_acup = medicos[medicos['CO_CBO'] == '225105']\n",
    "medico_acup.head()"
   ]
  },
  {
   "cell_type": "code",
   "execution_count": 19,
   "metadata": {},
   "outputs": [
    {
     "data": {
      "text/plain": [
       "2058"
      ]
     },
     "execution_count": 19,
     "metadata": {},
     "output_type": "execute_result"
    }
   ],
   "source": [
    "medico_acup['CO_CBO'].count()"
   ]
  },
  {
   "cell_type": "code",
   "execution_count": 22,
   "metadata": {},
   "outputs": [
    {
     "data": {
      "text/plain": [
       "SP    876\n",
       "MG    211\n",
       "PR    156\n",
       "SC    103\n",
       "RJ     97\n",
       "RS     93\n",
       "ES     62\n",
       "BA     61\n",
       "GO     55\n",
       "PE     47\n",
       "CE     47\n",
       "DF     44\n",
       "MS     40\n",
       "AL     28\n",
       "MT     27\n",
       "PA     25\n",
       "RN     18\n",
       "PB     18\n",
       "MA     15\n",
       "SE     14\n",
       "TO      7\n",
       "AM      4\n",
       "AC      3\n",
       "AP      2\n",
       "PI      2\n",
       "RO      1\n",
       "RR      1\n",
       "Name: SG_UF_CRM, dtype: int64"
      ]
     },
     "execution_count": 22,
     "metadata": {},
     "output_type": "execute_result"
    }
   ],
   "source": [
    "medico_acup['SG_UF_CRM'].value_counts()"
   ]
  },
  {
   "cell_type": "code",
   "execution_count": 12,
   "metadata": {},
   "outputs": [
    {
     "data": {
      "text/html": [
       "<div>\n",
       "<style scoped>\n",
       "    .dataframe tbody tr th:only-of-type {\n",
       "        vertical-align: middle;\n",
       "    }\n",
       "\n",
       "    .dataframe tbody tr th {\n",
       "        vertical-align: top;\n",
       "    }\n",
       "\n",
       "    .dataframe thead th {\n",
       "        text-align: right;\n",
       "    }\n",
       "</style>\n",
       "<table border=\"1\" class=\"dataframe\">\n",
       "  <thead>\n",
       "    <tr style=\"text-align: right;\">\n",
       "      <th></th>\n",
       "      <th>CO_PROFISSIONAL_SUS</th>\n",
       "      <th>CO_CBO</th>\n",
       "      <th>TP_SUS_NAO_SUS</th>\n",
       "      <th>SG_UF_CRM</th>\n",
       "    </tr>\n",
       "  </thead>\n",
       "  <tbody>\n",
       "    <tr>\n",
       "      <th>38160</th>\n",
       "      <td>4763492B6A4F872D</td>\n",
       "      <td>225195</td>\n",
       "      <td>S</td>\n",
       "      <td>AC</td>\n",
       "    </tr>\n",
       "    <tr>\n",
       "      <th>40072</th>\n",
       "      <td>C0DD7E596A6DEDFC</td>\n",
       "      <td>225195</td>\n",
       "      <td>S</td>\n",
       "      <td>AC</td>\n",
       "    </tr>\n",
       "    <tr>\n",
       "      <th>42730</th>\n",
       "      <td>7685F785A9EF5E13</td>\n",
       "      <td>225195</td>\n",
       "      <td>N</td>\n",
       "      <td>MG</td>\n",
       "    </tr>\n",
       "    <tr>\n",
       "      <th>78742</th>\n",
       "      <td>385B52ED4E77A7C9</td>\n",
       "      <td>225195</td>\n",
       "      <td>N</td>\n",
       "      <td>AM</td>\n",
       "    </tr>\n",
       "    <tr>\n",
       "      <th>88324</th>\n",
       "      <td>A30579D7D4FF0E1D</td>\n",
       "      <td>225195</td>\n",
       "      <td>N</td>\n",
       "      <td>AM</td>\n",
       "    </tr>\n",
       "  </tbody>\n",
       "</table>\n",
       "</div>"
      ],
      "text/plain": [
       "      CO_PROFISSIONAL_SUS  CO_CBO TP_SUS_NAO_SUS SG_UF_CRM\n",
       "38160    4763492B6A4F872D  225195              S        AC\n",
       "40072    C0DD7E596A6DEDFC  225195              S        AC\n",
       "42730    7685F785A9EF5E13  225195              N        MG\n",
       "78742    385B52ED4E77A7C9  225195              N        AM\n",
       "88324    A30579D7D4FF0E1D  225195              N        AM"
      ]
     },
     "execution_count": 12,
     "metadata": {},
     "output_type": "execute_result"
    }
   ],
   "source": [
    "homeopata = medicos[medicos['CO_CBO'] == '225195']\n",
    "homeopata.head()"
   ]
  },
  {
   "cell_type": "code",
   "execution_count": 23,
   "metadata": {},
   "outputs": [
    {
     "data": {
      "text/plain": [
       "SP    555\n",
       "RJ    317\n",
       "MG    196\n",
       "PR    101\n",
       "SC     64\n",
       "RS     59\n",
       "ES     50\n",
       "BA     37\n",
       "DF     31\n",
       "GO     29\n",
       "PB     26\n",
       "MS     22\n",
       "PE     19\n",
       "AL     18\n",
       "SE     16\n",
       "CE     10\n",
       "RN      9\n",
       "MT      6\n",
       "PA      4\n",
       "AM      3\n",
       "AC      2\n",
       "MA      2\n",
       "RR      1\n",
       "Name: SG_UF_CRM, dtype: int64"
      ]
     },
     "execution_count": 23,
     "metadata": {},
     "output_type": "execute_result"
    }
   ],
   "source": [
    "homeopata['SG_UF_CRM'].value_counts()"
   ]
  },
  {
   "cell_type": "code",
   "execution_count": 14,
   "metadata": {},
   "outputs": [
    {
     "data": {
      "text/html": [
       "<div>\n",
       "<style scoped>\n",
       "    .dataframe tbody tr th:only-of-type {\n",
       "        vertical-align: middle;\n",
       "    }\n",
       "\n",
       "    .dataframe tbody tr th {\n",
       "        vertical-align: top;\n",
       "    }\n",
       "\n",
       "    .dataframe thead th {\n",
       "        text-align: right;\n",
       "    }\n",
       "</style>\n",
       "<table border=\"1\" class=\"dataframe\">\n",
       "  <thead>\n",
       "    <tr style=\"text-align: right;\">\n",
       "      <th></th>\n",
       "      <th>CO_PROFISSIONAL_SUS</th>\n",
       "      <th>CO_CBO</th>\n",
       "      <th>TP_SUS_NAO_SUS</th>\n",
       "      <th>SG_UF_CRM</th>\n",
       "    </tr>\n",
       "  </thead>\n",
       "  <tbody>\n",
       "    <tr>\n",
       "      <th>27205</th>\n",
       "      <td>3EC00C552CE5E3AF</td>\n",
       "      <td>223425</td>\n",
       "      <td>S</td>\n",
       "      <td>NaN</td>\n",
       "    </tr>\n",
       "    <tr>\n",
       "      <th>235302</th>\n",
       "      <td>2A4247FE7A2FA2B0</td>\n",
       "      <td>223425</td>\n",
       "      <td>S</td>\n",
       "      <td>AP</td>\n",
       "    </tr>\n",
       "    <tr>\n",
       "      <th>571113</th>\n",
       "      <td>58ECBAB84F460359</td>\n",
       "      <td>223425</td>\n",
       "      <td>S</td>\n",
       "      <td>RN</td>\n",
       "    </tr>\n",
       "    <tr>\n",
       "      <th>653053</th>\n",
       "      <td>BCB533D96DC900B0</td>\n",
       "      <td>223425</td>\n",
       "      <td>S</td>\n",
       "      <td>PB</td>\n",
       "    </tr>\n",
       "    <tr>\n",
       "      <th>653058</th>\n",
       "      <td>84988AB207ED9C8C</td>\n",
       "      <td>223425</td>\n",
       "      <td>S</td>\n",
       "      <td>PB</td>\n",
       "    </tr>\n",
       "  </tbody>\n",
       "</table>\n",
       "</div>"
      ],
      "text/plain": [
       "       CO_PROFISSIONAL_SUS  CO_CBO TP_SUS_NAO_SUS SG_UF_CRM\n",
       "27205     3EC00C552CE5E3AF  223425              S       NaN\n",
       "235302    2A4247FE7A2FA2B0  223425              S        AP\n",
       "571113    58ECBAB84F460359  223425              S        RN\n",
       "653053    BCB533D96DC900B0  223425              S        PB\n",
       "653058    84988AB207ED9C8C  223425              S        PB"
      ]
     },
     "execution_count": 14,
     "metadata": {},
     "output_type": "execute_result"
    }
   ],
   "source": [
    "farma = medicos[medicos['CO_CBO'] == '223425']\n",
    "farma.head()"
   ]
  },
  {
   "cell_type": "code",
   "execution_count": 25,
   "metadata": {},
   "outputs": [
    {
     "data": {
      "text/plain": [
       "38"
      ]
     },
     "execution_count": 25,
     "metadata": {},
     "output_type": "execute_result"
    }
   ],
   "source": [
    "farma['CO_CBO'].count()"
   ]
  },
  {
   "cell_type": "code",
   "execution_count": 26,
   "metadata": {},
   "outputs": [
    {
     "data": {
      "text/plain": [
       "SC    7\n",
       "MG    3\n",
       "GO    3\n",
       "RJ    2\n",
       "PB    2\n",
       "RN    1\n",
       "SP    1\n",
       "RS    1\n",
       "AP    1\n",
       "PR    1\n",
       "Name: SG_UF_CRM, dtype: int64"
      ]
     },
     "execution_count": 26,
     "metadata": {},
     "output_type": "execute_result"
    }
   ],
   "source": [
    "farma['SG_UF_CRM'].value_counts()"
   ]
  },
  {
   "cell_type": "code",
   "execution_count": 16,
   "metadata": {},
   "outputs": [
    {
     "data": {
      "text/plain": [
       "CO_PROFISSIONAL_SUS    12\n",
       "CO_CBO                 12\n",
       "TP_SUS_NAO_SUS         12\n",
       "SG_UF_CRM              12\n",
       "dtype: int64"
      ]
     },
     "execution_count": 16,
     "metadata": {},
     "output_type": "execute_result"
    }
   ],
   "source": [
    "antropo = medicos[medicos['CO_CBO'].str.contains('225154')].count()\n",
    "antropo"
   ]
  },
  {
   "cell_type": "code",
   "execution_count": 17,
   "metadata": {},
   "outputs": [
    {
     "data": {
      "text/html": [
       "<div>\n",
       "<style scoped>\n",
       "    .dataframe tbody tr th:only-of-type {\n",
       "        vertical-align: middle;\n",
       "    }\n",
       "\n",
       "    .dataframe tbody tr th {\n",
       "        vertical-align: top;\n",
       "    }\n",
       "\n",
       "    .dataframe thead th {\n",
       "        text-align: right;\n",
       "    }\n",
       "</style>\n",
       "<table border=\"1\" class=\"dataframe\">\n",
       "  <thead>\n",
       "    <tr style=\"text-align: right;\">\n",
       "      <th></th>\n",
       "      <th>CO_PROFISSIONAL_SUS</th>\n",
       "      <th>CO_CBO</th>\n",
       "      <th>TP_SUS_NAO_SUS</th>\n",
       "      <th>SG_UF_CRM</th>\n",
       "    </tr>\n",
       "  </thead>\n",
       "  <tbody>\n",
       "    <tr>\n",
       "      <th>1302163</th>\n",
       "      <td>5F2968FC15ACA865</td>\n",
       "      <td>225154</td>\n",
       "      <td>N</td>\n",
       "      <td>MG</td>\n",
       "    </tr>\n",
       "    <tr>\n",
       "      <th>1439741</th>\n",
       "      <td>843E1888718DCC97</td>\n",
       "      <td>225154</td>\n",
       "      <td>S</td>\n",
       "      <td>MG</td>\n",
       "    </tr>\n",
       "    <tr>\n",
       "      <th>1439754</th>\n",
       "      <td>1A9A4D57E5294042</td>\n",
       "      <td>225154</td>\n",
       "      <td>S</td>\n",
       "      <td>MG</td>\n",
       "    </tr>\n",
       "    <tr>\n",
       "      <th>1439755</th>\n",
       "      <td>2B3D1D32DF4EF94B</td>\n",
       "      <td>225154</td>\n",
       "      <td>S</td>\n",
       "      <td>MG</td>\n",
       "    </tr>\n",
       "    <tr>\n",
       "      <th>1448330</th>\n",
       "      <td>1A9A4D57E5294042</td>\n",
       "      <td>225154</td>\n",
       "      <td>N</td>\n",
       "      <td>MG</td>\n",
       "    </tr>\n",
       "  </tbody>\n",
       "</table>\n",
       "</div>"
      ],
      "text/plain": [
       "        CO_PROFISSIONAL_SUS  CO_CBO TP_SUS_NAO_SUS SG_UF_CRM\n",
       "1302163    5F2968FC15ACA865  225154              N        MG\n",
       "1439741    843E1888718DCC97  225154              S        MG\n",
       "1439754    1A9A4D57E5294042  225154              S        MG\n",
       "1439755    2B3D1D32DF4EF94B  225154              S        MG\n",
       "1448330    1A9A4D57E5294042  225154              N        MG"
      ]
     },
     "execution_count": 17,
     "metadata": {},
     "output_type": "execute_result"
    }
   ],
   "source": [
    "antropo = medicos[medicos['CO_CBO'] == '225154']\n",
    "antropo.head()"
   ]
  },
  {
   "cell_type": "code",
   "execution_count": 28,
   "metadata": {},
   "outputs": [
    {
     "data": {
      "text/plain": [
       "MG    7\n",
       "SP    4\n",
       "RS    1\n",
       "Name: SG_UF_CRM, dtype: int64"
      ]
     },
     "execution_count": 28,
     "metadata": {},
     "output_type": "execute_result"
    }
   ],
   "source": [
    "antropo['SG_UF_CRM'].value_counts()"
   ]
  },
  {
   "cell_type": "code",
   "execution_count": null,
   "metadata": {},
   "outputs": [],
   "source": []
  }
 ],
 "metadata": {
  "kernelspec": {
   "display_name": "Python 3",
   "language": "python",
   "name": "python3"
  },
  "language_info": {
   "codemirror_mode": {
    "name": "ipython",
    "version": 3
   },
   "file_extension": ".py",
   "mimetype": "text/x-python",
   "name": "python",
   "nbconvert_exporter": "python",
   "pygments_lexer": "ipython3",
   "version": "3.6.8"
  }
 },
 "nbformat": 4,
 "nbformat_minor": 2
}
